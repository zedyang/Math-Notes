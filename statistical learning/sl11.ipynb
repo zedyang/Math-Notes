{
 "cells": [
  {
   "cell_type": "markdown",
   "metadata": {},
   "source": [
    "# Machine Learning HW5\n",
    "\n",
    "### Author: Ze Yang (zey@andrew.cmu.edu)"
   ]
  },
  {
   "cell_type": "code",
   "execution_count": 1,
   "metadata": {
    "collapsed": true
   },
   "outputs": [],
   "source": [
    "import numpy as np\n",
    "import pandas as pd\n",
    "import sklearn as sk\n",
    "import matplotlib\n",
    "import matplotlib.pyplot as plt\n",
    "%matplotlib inline\n",
    "\n",
    "import rpy2\n",
    "%reload_ext rpy2.ipython\n",
    "import time\n",
    "import scipy.stats\n",
    "from sklearn.decomposition import PCA\n",
    "from sklearn.metrics import make_scorer, mean_squared_error\n",
    "from sklearn.metrics.pairwise import euclidean_distances\n",
    "from sklearn.manifold import Isomap\n",
    "from sklearn.model_selection import train_test_split\n",
    "from sklearn.model_selection import GridSearchCV, StratifiedKFold\n",
    "from sklearn.metrics import accuracy_score, \\\n",
    "    roc_curve, confusion_matrix, auc\n",
    "from sklearn.decomposition.kernel_pca import KernelPCA\n",
    "from sklearn.decomposition import LatentDirichletAllocation\n",
    "from sklearn.feature_extraction.text import CountVectorizer\n",
    "from sklearn.pipeline import Pipeline\n",
    "from sklearn.linear_model import LogisticRegression, LinearRegression\n",
    "from copy import copy\n",
    "from progressbar import ProgressBar\n",
    "from tabulate import tabulate\n"
   ]
  },
  {
   "cell_type": "markdown",
   "metadata": {},
   "source": [
    "# 1. Text Data"
   ]
  },
  {
   "cell_type": "code",
   "execution_count": 2,
   "metadata": {},
   "outputs": [
    {
     "data": {
      "text/plain": [
       "(102, 2)"
      ]
     },
     "execution_count": 2,
     "metadata": {},
     "output_type": "execute_result"
    }
   ],
   "source": [
    "df = pd.read_csv('stories.csv')\n",
    "stories = df['stories']\n",
    "df.shape"
   ]
  },
  {
   "cell_type": "markdown",
   "metadata": {},
   "source": [
    "## (a) Document-Term Matrix"
   ]
  },
  {
   "cell_type": "code",
   "execution_count": 3,
   "metadata": {},
   "outputs": [
    {
     "name": "stdout",
     "output_type": "stream",
     "text": [
      "Number of documents: 102\n",
      "Number of words: 11306\n"
     ]
    }
   ],
   "source": [
    "count_vectorizer = CountVectorizer(token_pattern='[a-zA-Z]+')\n",
    "term_matrix = count_vectorizer.fit_transform(stories)\n",
    "names = count_vectorizer.get_feature_names()\n",
    "n_doc, n_word = term_matrix.shape\n",
    "print('Number of documents:', n_doc)\n",
    "print('Number of words:', n_word)"
   ]
  },
  {
   "cell_type": "markdown",
   "metadata": {},
   "source": [
    "- There are 102 documents and 11306 words in the document-term matrix."
   ]
  },
  {
   "cell_type": "markdown",
   "metadata": {},
   "source": [
    "## (b) Histogram of Occurrence"
   ]
  },
  {
   "cell_type": "code",
   "execution_count": 4,
   "metadata": {},
   "outputs": [
    {
     "data": {
      "image/png": "[encoded data removed]",
      "text/plain": [
       "<matplotlib.figure.Figure at 0x110dba588>"
      ]
     },
     "metadata": {},
     "output_type": "display_data"
    }
   ],
   "source": [
    "fig, ax = plt.subplots(1,1,figsize=(8,8))\n",
    "term_matrix_occurrence = np.count_nonzero(\n",
    "    term_matrix.toarray(), axis=0)\n",
    "_ = ax.hist(term_matrix_occurrence, bins=30)"
   ]
  },
  {
   "cell_type": "code",
   "execution_count": 5,
   "metadata": {},
   "outputs": [
    {
     "name": "stdout",
     "output_type": "stream",
     "text": [
      "Most frequent word: ['of', 'the']\n",
      "Most frequent counts: 102\n"
     ]
    }
   ],
   "source": [
    "max_idx = np.argwhere(\n",
    "    term_matrix_occurrence==np.max(\n",
    "        term_matrix_occurrence))\n",
    "print(\"Most frequent word:\", \n",
    "      [names[i[0]] for i in max_idx])\n",
    "print(\"Most frequent counts:\", \n",
    "      np.max(term_matrix_occurrence))"
   ]
  },
  {
   "cell_type": "markdown",
   "metadata": {},
   "source": [
    "- Most words occur only several times, but some common articles/prepositions appear much more.\n",
    "- Word \"of\", \"the\" appears in most documents (all of the 102 documents)."
   ]
  },
  {
   "cell_type": "markdown",
   "metadata": {},
   "source": [
    "## (c) Drop Meaningless Words"
   ]
  },
  {
   "cell_type": "code",
   "execution_count": 6,
   "metadata": {},
   "outputs": [
    {
     "name": "stdout",
     "output_type": "stream",
     "text": [
      "Number of documents: 102\n",
      "Number of words: 2378\n"
     ]
    }
   ],
   "source": [
    "count_vectorizer = CountVectorizer(\n",
    "    token_pattern='[a-zA-Z]+',\n",
    "    stop_words='english',\n",
    "    min_df=3)\n",
    "term_matrix = count_vectorizer.fit_transform(stories)\n",
    "names = count_vectorizer.get_feature_names()\n",
    "n_doc, n_word = term_matrix.shape\n",
    "print('Number of documents:', n_doc)\n",
    "print('Number of words:', n_word)"
   ]
  },
  {
   "cell_type": "code",
   "execution_count": 7,
   "metadata": {},
   "outputs": [
    {
     "name": "stdout",
     "output_type": "stream",
     "text": [
      "Most frequent word: ['s']\n",
      "Most frequent counts: 96\n"
     ]
    }
   ],
   "source": [
    "term_matrix_occurrence = np.count_nonzero(\n",
    "    term_matrix.toarray(), axis=0)\n",
    "max_idx = np.argwhere(\n",
    "    term_matrix_occurrence==np.max(\n",
    "        term_matrix_occurrence))\n",
    "print(\"Most frequent word:\", \n",
    "      [names[i[0]] for i in max_idx])\n",
    "print(\"Most frequent counts:\", \n",
    "      np.max(term_matrix_occurrence))"
   ]
  },
  {
   "cell_type": "markdown",
   "metadata": {},
   "source": [
    "## (d) Problem for Stemming"
   ]
  },
  {
   "cell_type": "code",
   "execution_count": 8,
   "metadata": {},
   "outputs": [
    {
     "data": {
      "text/plain": [
       "['abc',\n",
       " 'ability',\n",
       " 'able',\n",
       " 'absorbed',\n",
       " 'abstract',\n",
       " 'abstraction',\n",
       " 'abstractions',\n",
       " 'academic',\n",
       " 'academy',\n",
       " 'access']"
      ]
     },
     "execution_count": 8,
     "metadata": {},
     "output_type": "execute_result"
    }
   ],
   "source": [
    "names[0:10]"
   ]
  },
  {
   "cell_type": "markdown",
   "metadata": {},
   "source": [
    "- The vocabulary has 'abstract', 'abstraction', 'abstractions' that are closely connected. Stemming can reduce these connected word into one single word (maybe \"abstract\" only)."
   ]
  },
  {
   "cell_type": "markdown",
   "metadata": {},
   "source": [
    "# 2. Topic Modeling"
   ]
  },
  {
   "cell_type": "markdown",
   "metadata": {},
   "source": [
    "## (a) Fit LDA"
   ]
  },
  {
   "cell_type": "code",
   "execution_count": 9,
   "metadata": {},
   "outputs": [],
   "source": [
    "lda = LatentDirichletAllocation(\n",
    "    n_topics=2, \n",
    "    learning_method='batch',\n",
    "    max_iter=100)\n",
    "topic_probs = lda.fit_transform(term_matrix)"
   ]
  },
  {
   "cell_type": "code",
   "execution_count": 10,
   "metadata": {},
   "outputs": [
    {
     "name": "stdout",
     "output_type": "stream",
     "text": [
      "First Topic top 10 words: ['broadcast' 'nominated' 'missed' 'afford' 'southern' 'producers' 'oh'\n",
      " 'contract' 'programming' 'super']\n",
      "Second Topic top 10 words: ['alien' 'destroyed' 'physical' 'combining' 'enjoyment' 'sits' 'county'\n",
      " 'begun' 'professor' 'keen']\n"
     ]
    }
   ],
   "source": [
    "topics = lda.components_ / lda.components_.sum(\n",
    "    axis=1)[:, np.newaxis]\n",
    "print(\"First Topic top 10 words:\", np.array(\n",
    "    names)[np.argsort(topics[0,:])[0:10]])\n",
    "print(\"Second Topic top 10 words:\", np.array(\n",
    "    names)[np.argsort(topics[1,:])[0:10]])"
   ]
  },
  {
   "cell_type": "markdown",
   "metadata": {},
   "source": [
    "## (b) Probabilities over Topics"
   ]
  },
  {
   "cell_type": "code",
   "execution_count": 11,
   "metadata": {},
   "outputs": [
    {
     "data": {
      "image/png": "[encoded data removed]",
      "text/plain": [
       "<matplotlib.figure.Figure at 0x11eb39208>"
      ]
     },
     "metadata": {},
     "output_type": "display_data"
    }
   ],
   "source": [
    "fig, ax = plt.subplots(1,1, figsize=(10,10))\n",
    "ax.hist(topic_probs[:,0][df['class'] == 'music'], bins=10,\n",
    "  normed=0, alpha=0.5, label='music')\n",
    "ax.hist(topic_probs[:,0][df['class'] == 'art'], bins=10,\n",
    "  normed=0, alpha=0.5, label='art')\n",
    "ax.update({'title': \"Distribution of Topic-1 Probabilities for Each Class\",\n",
    "           'xlabel': \"Probability of being Topic-1\",\n",
    "           'ylabel': \"Number of Stories\"})\n",
    "_ = ax.legend()"
   ]
  },
  {
   "cell_type": "code",
   "execution_count": 12,
   "metadata": {},
   "outputs": [
    {
     "name": "stdout",
     "output_type": "stream",
     "text": [
      "Confusion Matrix:\n",
      "[[49  8]\n",
      " [ 3 42]]\n",
      "Misclassification Error: 0.10784313725490191\n"
     ]
    }
   ],
   "source": [
    "df['predicted_topic'] = \"art\"\n",
    "df.loc[topic_probs[:,0] < 0.5,'predicted_topic'] = \"music\"\n",
    "print(\"Confusion Matrix:\")\n",
    "print(confusion_matrix(\n",
    "    df['class'], df['predicted_topic']))\n",
    "print(\"Misclassification Error:\", 1 - accuracy_score(\n",
    "    df['class'], df['predicted_topic']))"
   ]
  },
  {
   "cell_type": "markdown",
   "metadata": {},
   "source": [
    "- The probabilities seem to do a very good job to separate based on document type.\n",
    "- It assigns high probability of being topic-1 to most \"art\" labels, while assigns low probability of being topic-1 to most \"music\" labels.\n",
    "- The two topics uncovered the underlying \"music\" and \"art\" classes. The first topic can be regarded as representing \"art\", and the second topic represents \"music\".\n",
    "- If this were a classifier and we threshold at 0.5, the misclassification error would be 0.1078."
   ]
  },
  {
   "cell_type": "markdown",
   "metadata": {},
   "source": [
    "# 3. Distances and Clustering"
   ]
  },
  {
   "cell_type": "code",
   "execution_count": 13,
   "metadata": {
    "collapsed": true
   },
   "outputs": [],
   "source": [
    "#To compute distances\n",
    "from sklearn.metrics.pairwise import euclidean_distances\n",
    "#To compress a distance matrix into the form scipy requires\n",
    "from scipy.spatial.distance import squareform\n",
    "#The actual function that does hierarchical clustering\n",
    "from scipy.cluster import hierarchy\n",
    "#The function that thresholds trees to get clusters\n",
    "from scipy.cluster.hierarchy import cut_tree\n",
    "from sklearn.feature_extraction.text import TfidfTransformer"
   ]
  },
  {
   "cell_type": "markdown",
   "metadata": {},
   "source": [
    "## (a) Complete Linkage Clustering"
   ]
  },
  {
   "cell_type": "code",
   "execution_count": 40,
   "metadata": {
    "scrolled": false
   },
   "outputs": [
    {
     "data": {
      "image/png": "[encoded data removed]",
      "text/plain": [
       "<matplotlib.figure.Figure at 0x11fb9e320>"
      ]
     },
     "metadata": {},
     "output_type": "display_data"
    }
   ],
   "source": [
    "X = term_matrix.toarray()\n",
    "D = euclidean_distances(X)\n",
    "#squareform fails if D is slightly asymmetric from precision issues\n",
    "D = (D + D.T)/2\n",
    "D = squareform(D)\n",
    "tree = hierarchy.linkage(D, 'complete')\n",
    "\n",
    "#Plot the tree\n",
    "fig, ax = plt.subplots(1,1, figsize=(20,10))\n",
    "dn = hierarchy.dendrogram(\n",
    "    tree, leaf_font_size=10)\n",
    "# cut_tree(tree, n_clusters=4)"
   ]
  },
  {
   "cell_type": "markdown",
   "metadata": {},
   "source": [
    "- The tree does not look good, the clusterings are not obvious.\n",
    "- There is an outlier, as shown by the leaf index, it's the No.51 story."
   ]
  },
  {
   "cell_type": "code",
   "execution_count": 49,
   "metadata": {},
   "outputs": [
    {
     "name": "stdout",
     "output_type": "stream",
     "text": [
      "Mean story length: 4107.2\n",
      "Max story length: 17014\n",
      "Outlier story length: 17014\n"
     ]
    }
   ],
   "source": [
    "df['story_len'] = df['stories'].apply(len)\n",
    "print(\"Mean story length: %.1f\" % np.mean(df['story_len']))\n",
    "print(\"Max story length:\", np.max(df['story_len']))\n",
    "print(\"Outlier story length:\", df['story_len'][51])"
   ]
  },
  {
   "cell_type": "markdown",
   "metadata": {},
   "source": [
    "- The average story length is 4107.2 characters, but the outlier has 17014 characters, which is the maximum, and more than 4 times the average.\n",
    "- Since the hierarchy clustering outlier \"happpens\" to also be an outlier in story length, we might be able to fix the hierarchy clustering by normalizing the story length."
   ]
  },
  {
   "cell_type": "markdown",
   "metadata": {},
   "source": [
    "## (b) Fix the Story Length"
   ]
  },
  {
   "cell_type": "code",
   "execution_count": 52,
   "metadata": {
    "collapsed": true
   },
   "outputs": [],
   "source": [
    "pd.crosstab?"
   ]
  },
  {
   "cell_type": "code",
   "execution_count": 86,
   "metadata": {},
   "outputs": [
    {
     "name": "stderr",
     "output_type": "stream",
     "text": [
      "/Users/zed/anaconda/lib/python3.6/site-packages/sklearn/feature_extraction/text.py:1059: FutureWarning: Conversion of the second argument of issubdtype from `float` to `np.floating` is deprecated. In future, it will be treated as `np.float64 == np.dtype(float).type`.\n",
      "  if hasattr(X, 'dtype') and np.issubdtype(X.dtype, np.float):\n"
     ]
    },
    {
     "data": {
      "image/png": "[encoded data removed]",
      "text/plain": [
       "<matplotlib.figure.Figure at 0x11fad3b38>"
      ]
     },
     "metadata": {},
     "output_type": "display_data"
    }
   ],
   "source": [
    "tfidf = TfidfTransformer(use_idf=False)\n",
    "X2 = tfidf.fit_transform(X)\n",
    "D2 = euclidean_distances(X2)\n",
    "D2 = (D2 + D2.T)/2\n",
    "D2 = squareform(D2)\n",
    "tree2 = hierarchy.linkage(D2, 'complete')\n",
    "\n",
    "#Plot the tree\n",
    "fig, ax = plt.subplots(1,1, figsize=(20,10))\n",
    "dn2 = hierarchy.dendrogram(\n",
    "    tree2, leaf_font_size=10,\n",
    "    color_threshold=1.41,\n",
    "    ax=ax)\n",
    "ax.axhline(1.41, color='black', \n",
    "           label='Cutting Threshold')\n",
    "ax.update({\n",
    "    'title': 'Hierarchy Clustering Dendrogram',\n",
    "    'xlabel': 'Tree Leaf Indices',\n",
    "    'ylabel': 'Tree Height',\n",
    "})\n",
    "_ = ax.legend()"
   ]
  },
  {
   "cell_type": "code",
   "execution_count": 55,
   "metadata": {},
   "outputs": [
    {
     "data": {
      "text/html": [
       "<div>\n",
       "<style>\n",
       "    .dataframe thead tr:only-child th {\n",
       "        text-align: right;\n",
       "    }\n",
       "\n",
       "    .dataframe thead th {\n",
       "        text-align: left;\n",
       "    }\n",
       "\n",
       "    .dataframe tbody tr th {\n",
       "        vertical-align: top;\n",
       "    }\n",
       "</style>\n",
       "<table border=\"1\" class=\"dataframe\">\n",
       "  <thead>\n",
       "    <tr style=\"text-align: right;\">\n",
       "      <th>cluster_2</th>\n",
       "      <th>0</th>\n",
       "      <th>1</th>\n",
       "    </tr>\n",
       "    <tr>\n",
       "      <th>class</th>\n",
       "      <th></th>\n",
       "      <th></th>\n",
       "    </tr>\n",
       "  </thead>\n",
       "  <tbody>\n",
       "    <tr>\n",
       "      <th>art</th>\n",
       "      <td>55</td>\n",
       "      <td>2</td>\n",
       "    </tr>\n",
       "    <tr>\n",
       "      <th>music</th>\n",
       "      <td>38</td>\n",
       "      <td>7</td>\n",
       "    </tr>\n",
       "  </tbody>\n",
       "</table>\n",
       "</div>"
      ],
      "text/plain": [
       "cluster_2   0  1\n",
       "class           \n",
       "art        55  2\n",
       "music      38  7"
      ]
     },
     "execution_count": 55,
     "metadata": {},
     "output_type": "execute_result"
    }
   ],
   "source": [
    "df['cluster_2'] = cut_tree(tree2, n_clusters=2)\n",
    "pd.crosstab(df['class'], df['cluster_2'])"
   ]
  },
  {
   "cell_type": "markdown",
   "metadata": {},
   "source": [
    "**The Dendrogram**:\n",
    "- The tree still does not look like reasonable clustering, but it has been improved a lot from the first tree. In particular:\n",
    "- The outliers are gone. Most leaves in this tree now has reasonable tree-height that are not too faraway from each other.\n",
    "\n",
    "**The Cross-Tabulate**:\n",
    "- The clustering is poor, it's basicly assign more \"0\"s to both classes.\n",
    "- True labels are not identifiable by clusters."
   ]
  },
  {
   "cell_type": "markdown",
   "metadata": {},
   "source": [
    "## (c) Other Distances"
   ]
  },
  {
   "cell_type": "markdown",
   "metadata": {},
   "source": [
    "### Method 1: 'ward'"
   ]
  },
  {
   "cell_type": "code",
   "execution_count": 71,
   "metadata": {},
   "outputs": [
    {
     "data": {
      "image/png": "[encoded data removed]",
      "text/plain": [
       "<matplotlib.figure.Figure at 0x1201b2048>"
      ]
     },
     "metadata": {},
     "output_type": "display_data"
    }
   ],
   "source": [
    "D3 = euclidean_distances(X2)\n",
    "D3 = (D3 + D3.T)/2\n",
    "D3 = squareform(D3)\n",
    "tree3 = hierarchy.linkage(D3, 'ward')\n",
    "\n",
    "#Plot the tree\n",
    "fig, ax = plt.subplots(1,1, figsize=(20,10))\n",
    "dn3 = hierarchy.dendrogram(\n",
    "    tree3, leaf_font_size=10,\n",
    "    color_threshold=2.2,\n",
    "    ax=ax)\n",
    "ax.axhline(2.2, color='black', \n",
    "           label='Cutting Threshold')\n",
    "ax.update({\n",
    "    'title': 'Hierarchy Clustering Dendrogram',\n",
    "    'xlabel': 'Tree Leaf Indices',\n",
    "    'ylabel': 'Tree Height',\n",
    "})\n",
    "_ = ax.legend()"
   ]
  },
  {
   "cell_type": "code",
   "execution_count": 58,
   "metadata": {},
   "outputs": [
    {
     "data": {
      "text/html": [
       "<div>\n",
       "<style>\n",
       "    .dataframe thead tr:only-child th {\n",
       "        text-align: right;\n",
       "    }\n",
       "\n",
       "    .dataframe thead th {\n",
       "        text-align: left;\n",
       "    }\n",
       "\n",
       "    .dataframe tbody tr th {\n",
       "        vertical-align: top;\n",
       "    }\n",
       "</style>\n",
       "<table border=\"1\" class=\"dataframe\">\n",
       "  <thead>\n",
       "    <tr style=\"text-align: right;\">\n",
       "      <th>cluster_3</th>\n",
       "      <th>0</th>\n",
       "      <th>1</th>\n",
       "    </tr>\n",
       "    <tr>\n",
       "      <th>class</th>\n",
       "      <th></th>\n",
       "      <th></th>\n",
       "    </tr>\n",
       "  </thead>\n",
       "  <tbody>\n",
       "    <tr>\n",
       "      <th>art</th>\n",
       "      <td>11</td>\n",
       "      <td>46</td>\n",
       "    </tr>\n",
       "    <tr>\n",
       "      <th>music</th>\n",
       "      <td>29</td>\n",
       "      <td>16</td>\n",
       "    </tr>\n",
       "  </tbody>\n",
       "</table>\n",
       "</div>"
      ],
      "text/plain": [
       "cluster_3   0   1\n",
       "class            \n",
       "art        11  46\n",
       "music      29  16"
      ]
     },
     "execution_count": 58,
     "metadata": {},
     "output_type": "execute_result"
    }
   ],
   "source": [
    "df['cluster_3'] = cut_tree(tree3, n_clusters=2)\n",
    "pd.crosstab(df['class'], df['cluster_3'])"
   ]
  },
  {
   "cell_type": "markdown",
   "metadata": {},
   "source": [
    "### Method 2: 'ward' & 'use_idf=True'"
   ]
  },
  {
   "cell_type": "code",
   "execution_count": 67,
   "metadata": {},
   "outputs": [
    {
     "name": "stderr",
     "output_type": "stream",
     "text": [
      "/Users/zed/anaconda/lib/python3.6/site-packages/sklearn/feature_extraction/text.py:1059: FutureWarning: Conversion of the second argument of issubdtype from `float` to `np.floating` is deprecated. In future, it will be treated as `np.float64 == np.dtype(float).type`.\n",
      "  if hasattr(X, 'dtype') and np.issubdtype(X.dtype, np.float):\n"
     ]
    },
    {
     "data": {
      "image/png": "[encoded data removed]",
      "text/plain": [
       "<matplotlib.figure.Figure at 0x12388dba8>"
      ]
     },
     "metadata": {},
     "output_type": "display_data"
    }
   ],
   "source": [
    "tfidf = TfidfTransformer(use_idf=True)\n",
    "X4 = tfidf.fit_transform(X)\n",
    "D4 = euclidean_distances(X4)\n",
    "D4 = (D4 + D4.T)/2\n",
    "D4 = squareform(D4)\n",
    "tree4 = hierarchy.linkage(D4, 'ward')\n",
    "\n",
    "#Plot the tree\n",
    "fig, ax = plt.subplots(1,1, figsize=(20,10))\n",
    "dn4 = hierarchy.dendrogram(\n",
    "    tree4, leaf_font_size=10, \n",
    "    color_threshold=1.8,\n",
    "    ax=ax)\n",
    "ax.axhline(1.8, color='black', \n",
    "           label='Cutting Threshold')\n",
    "ax.update({\n",
    "    'title': 'Hierarchy Clustering Dendrogram',\n",
    "    'xlabel': 'Tree Leaf Indices',\n",
    "    'ylabel': 'Tree Height',\n",
    "})\n",
    "_ = ax.legend()"
   ]
  },
  {
   "cell_type": "code",
   "execution_count": 60,
   "metadata": {},
   "outputs": [
    {
     "data": {
      "text/html": [
       "<div>\n",
       "<style>\n",
       "    .dataframe thead tr:only-child th {\n",
       "        text-align: right;\n",
       "    }\n",
       "\n",
       "    .dataframe thead th {\n",
       "        text-align: left;\n",
       "    }\n",
       "\n",
       "    .dataframe tbody tr th {\n",
       "        vertical-align: top;\n",
       "    }\n",
       "</style>\n",
       "<table border=\"1\" class=\"dataframe\">\n",
       "  <thead>\n",
       "    <tr style=\"text-align: right;\">\n",
       "      <th>cluster_4</th>\n",
       "      <th>0</th>\n",
       "      <th>1</th>\n",
       "    </tr>\n",
       "    <tr>\n",
       "      <th>class</th>\n",
       "      <th></th>\n",
       "      <th></th>\n",
       "    </tr>\n",
       "  </thead>\n",
       "  <tbody>\n",
       "    <tr>\n",
       "      <th>art</th>\n",
       "      <td>17</td>\n",
       "      <td>40</td>\n",
       "    </tr>\n",
       "    <tr>\n",
       "      <th>music</th>\n",
       "      <td>45</td>\n",
       "      <td>0</td>\n",
       "    </tr>\n",
       "  </tbody>\n",
       "</table>\n",
       "</div>"
      ],
      "text/plain": [
       "cluster_4   0   1\n",
       "class            \n",
       "art        17  40\n",
       "music      45   0"
      ]
     },
     "execution_count": 60,
     "metadata": {},
     "output_type": "execute_result"
    }
   ],
   "source": [
    "df['cluster_4'] = cut_tree(tree4, n_clusters=2)\n",
    "pd.crosstab(df['class'], df['cluster_4'])"
   ]
  },
  {
   "cell_type": "markdown",
   "metadata": {},
   "source": [
    "- The second method does best at separating the articles.\n",
    "- If they were classifers, and cluster-0 represents \"music\": \n",
    "    - The accuracy score of the first method is 73.52%\n",
    "    - The accuracy score of the second method is 83.33%"
   ]
  },
  {
   "cell_type": "code",
   "execution_count": null,
   "metadata": {
    "collapsed": true
   },
   "outputs": [],
   "source": []
  }
 ],
 "metadata": {
  "kernelspec": {
   "display_name": "Python 3",
   "language": "python",
   "name": "python3"
  },
  "language_info": {
   "codemirror_mode": {
    "name": "ipython",
    "version": 3
   },
   "file_extension": ".py",
   "mimetype": "text/x-python",
   "name": "python",
   "nbconvert_exporter": "python",
   "pygments_lexer": "ipython3",
   "version": "3.6.4"
  }
 },
 "nbformat": 4,
 "nbformat_minor": 2
}
