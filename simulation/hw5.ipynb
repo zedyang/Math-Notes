{
 "cells": [
  {
   "cell_type": "code",
   "execution_count": 15,
   "metadata": {
    "collapsed": true
   },
   "outputs": [],
   "source": [
    "from abc import ABCMeta, abstractmethod\n",
    "import time\n",
    "import numpy as np\n",
    "import operator as op\n",
    "import pandas as pd\n",
    "import matplotlib.pyplot as plt\n",
    "import seaborn as sns\n",
    "plt.style.use('ggplot')\n",
    "plt.rc('text', usetex=True)\n",
    "plt.rc('font', family='serif', size=15)\n",
    "%matplotlib inline\n",
    "\n",
    "import scipy.stats as stats\n",
    "from scipy.stats import norm\n",
    "from progressbar import ProgressBar"
   ]
  },
  {
   "cell_type": "code",
   "execution_count": 42,
   "metadata": {},
   "outputs": [
    {
     "data": {
      "text/plain": [
       "array([[   0.        ,    1.01010101,    2.02020202,    3.03030303,\n",
       "           4.04040404,    5.05050505,    6.06060606,    7.07070707,\n",
       "           8.08080808,    9.09090909,   10.1010101 ,   11.11111111,\n",
       "          12.12121212,   13.13131313,   14.14141414,   15.15151515,\n",
       "          16.16161616,   17.17171717,   18.18181818,   19.19191919,\n",
       "          20.2020202 ,   21.21212121,   22.22222222,   23.23232323,\n",
       "          24.24242424,   25.25252525,   26.26262626,   27.27272727,\n",
       "          28.28282828,   29.29292929,   30.3030303 ,   31.31313131,\n",
       "          32.32323232,   33.33333333,   34.34343434,   35.35353535,\n",
       "          36.36363636,   37.37373737,   38.38383838,   39.39393939,\n",
       "          40.4040404 ,   41.41414141,   42.42424242,   43.43434343,\n",
       "          44.44444444,   45.45454545,   46.46464646,   47.47474747,\n",
       "          48.48484848,   49.49494949,   50.50505051,   51.51515152,\n",
       "          52.52525253,   53.53535354,   54.54545455,   55.55555556,\n",
       "          56.56565657,   57.57575758,   58.58585859,   59.5959596 ,\n",
       "          60.60606061,   61.61616162,   62.62626263,   63.63636364,\n",
       "          64.64646465,   65.65656566,   66.66666667,   67.67676768,\n",
       "          68.68686869,   69.6969697 ,   70.70707071,   71.71717172,\n",
       "          72.72727273,   73.73737374,   74.74747475,   75.75757576,\n",
       "          76.76767677,   77.77777778,   78.78787879,   79.7979798 ,\n",
       "          80.80808081,   81.81818182,   82.82828283,   83.83838384,\n",
       "          84.84848485,   85.85858586,   86.86868687,   87.87878788,\n",
       "          88.88888889,   89.8989899 ,   90.90909091,   91.91919192,\n",
       "          92.92929293,   93.93939394,   94.94949495,   95.95959596,\n",
       "          96.96969697,   97.97979798,   98.98989899,  100.        ],\n",
       "       [   0.        ,    1.01010101,    2.02020202,    3.03030303,\n",
       "           4.04040404,    5.05050505,    6.06060606,    7.07070707,\n",
       "           8.08080808,    9.09090909,   10.1010101 ,   11.11111111,\n",
       "          12.12121212,   13.13131313,   14.14141414,   15.15151515,\n",
       "          16.16161616,   17.17171717,   18.18181818,   19.19191919,\n",
       "          20.2020202 ,   21.21212121,   22.22222222,   23.23232323,\n",
       "          24.24242424,   25.25252525,   26.26262626,   27.27272727,\n",
       "          28.28282828,   29.29292929,   30.3030303 ,   31.31313131,\n",
       "          32.32323232,   33.33333333,   34.34343434,   35.35353535,\n",
       "          36.36363636,   37.37373737,   38.38383838,   39.39393939,\n",
       "          40.4040404 ,   41.41414141,   42.42424242,   43.43434343,\n",
       "          44.44444444,   45.45454545,   46.46464646,   47.47474747,\n",
       "          48.48484848,   49.49494949,   50.50505051,   51.51515152,\n",
       "          52.52525253,   53.53535354,   54.54545455,   55.55555556,\n",
       "          56.56565657,   57.57575758,   58.58585859,   59.5959596 ,\n",
       "          60.60606061,   61.61616162,   62.62626263,   63.63636364,\n",
       "          64.64646465,   65.65656566,   66.66666667,   67.67676768,\n",
       "          68.68686869,   69.6969697 ,   70.70707071,   71.71717172,\n",
       "          72.72727273,   73.73737374,   74.74747475,   75.75757576,\n",
       "          76.76767677,   77.77777778,   78.78787879,   79.7979798 ,\n",
       "          80.80808081,   81.81818182,   82.82828283,   83.83838384,\n",
       "          84.84848485,   85.85858586,   86.86868687,   87.87878788,\n",
       "          88.88888889,   89.8989899 ,   90.90909091,   91.91919192,\n",
       "          92.92929293,   93.93939394,   94.94949495,   95.95959596,\n",
       "          96.96969697,   97.97979798,   98.98989899,  100.        ]])"
      ]
     },
     "execution_count": 42,
     "metadata": {},
     "output_type": "execute_result"
    }
   ],
   "source": [
    "xx"
   ]
  },
  {
   "cell_type": "code",
   "execution_count": 46,
   "metadata": {},
   "outputs": [
    {
     "data": {
      "text/plain": [
       "array([[   0.        ,    0.        ],\n",
       "       [   1.01010101,    1.01010101],\n",
       "       [   2.02020202,    2.02020202],\n",
       "       [   3.03030303,    3.03030303],\n",
       "       [   4.04040404,    4.04040404],\n",
       "       [   5.05050505,    5.05050505],\n",
       "       [   6.06060606,    6.06060606],\n",
       "       [   7.07070707,    7.07070707],\n",
       "       [   8.08080808,    8.08080808],\n",
       "       [   9.09090909,    9.09090909],\n",
       "       [  10.1010101 ,   10.1010101 ],\n",
       "       [  11.11111111,   11.11111111],\n",
       "       [  12.12121212,   12.12121212],\n",
       "       [  13.13131313,   13.13131313],\n",
       "       [  14.14141414,   14.14141414],\n",
       "       [  15.15151515,   15.15151515],\n",
       "       [  16.16161616,   16.16161616],\n",
       "       [  17.17171717,   17.17171717],\n",
       "       [  18.18181818,   18.18181818],\n",
       "       [  19.19191919,   19.19191919],\n",
       "       [  20.2020202 ,   20.2020202 ],\n",
       "       [  21.21212121,   21.21212121],\n",
       "       [  22.22222222,   22.22222222],\n",
       "       [  23.23232323,   23.23232323],\n",
       "       [  24.24242424,   24.24242424],\n",
       "       [  25.25252525,   25.25252525],\n",
       "       [  26.26262626,   26.26262626],\n",
       "       [  27.27272727,   27.27272727],\n",
       "       [  28.28282828,   28.28282828],\n",
       "       [  29.29292929,   29.29292929],\n",
       "       [  30.3030303 ,   30.3030303 ],\n",
       "       [  31.31313131,   31.31313131],\n",
       "       [  32.32323232,   32.32323232],\n",
       "       [  33.33333333,   33.33333333],\n",
       "       [  34.34343434,   34.34343434],\n",
       "       [  35.35353535,   35.35353535],\n",
       "       [  36.36363636,   36.36363636],\n",
       "       [  37.37373737,   37.37373737],\n",
       "       [  38.38383838,   38.38383838],\n",
       "       [  39.39393939,   39.39393939],\n",
       "       [  40.4040404 ,   40.4040404 ],\n",
       "       [  41.41414141,   41.41414141],\n",
       "       [  42.42424242,   42.42424242],\n",
       "       [  43.43434343,   43.43434343],\n",
       "       [  44.44444444,   44.44444444],\n",
       "       [  45.45454545,   45.45454545],\n",
       "       [  46.46464646,   46.46464646],\n",
       "       [  47.47474747,   47.47474747],\n",
       "       [  48.48484848,   48.48484848],\n",
       "       [  49.49494949,   49.49494949],\n",
       "       [  50.50505051,   50.50505051],\n",
       "       [  51.51515152,   51.51515152],\n",
       "       [  52.52525253,   52.52525253],\n",
       "       [  53.53535354,   53.53535354],\n",
       "       [  54.54545455,   54.54545455],\n",
       "       [  55.55555556,   55.55555556],\n",
       "       [  56.56565657,   56.56565657],\n",
       "       [  57.57575758,   57.57575758],\n",
       "       [  58.58585859,   58.58585859],\n",
       "       [  59.5959596 ,   59.5959596 ],\n",
       "       [  60.60606061,   60.60606061],\n",
       "       [  61.61616162,   61.61616162],\n",
       "       [  62.62626263,   62.62626263],\n",
       "       [  63.63636364,   63.63636364],\n",
       "       [  64.64646465,   64.64646465],\n",
       "       [  65.65656566,   65.65656566],\n",
       "       [  66.66666667,   66.66666667],\n",
       "       [  67.67676768,   67.67676768],\n",
       "       [  68.68686869,   68.68686869],\n",
       "       [  69.6969697 ,   69.6969697 ],\n",
       "       [  70.70707071,   70.70707071],\n",
       "       [  71.71717172,   71.71717172],\n",
       "       [  72.72727273,   72.72727273],\n",
       "       [  73.73737374,   73.73737374],\n",
       "       [  74.74747475,   74.74747475],\n",
       "       [  75.75757576,   75.75757576],\n",
       "       [  76.76767677,   76.76767677],\n",
       "       [  77.77777778,   77.77777778],\n",
       "       [  78.78787879,   78.78787879],\n",
       "       [  79.7979798 ,   79.7979798 ],\n",
       "       [  80.80808081,   80.80808081],\n",
       "       [  81.81818182,   81.81818182],\n",
       "       [  82.82828283,   82.82828283],\n",
       "       [  83.83838384,   83.83838384],\n",
       "       [  84.84848485,   84.84848485],\n",
       "       [  85.85858586,   85.85858586],\n",
       "       [  86.86868687,   86.86868687],\n",
       "       [  87.87878788,   87.87878788],\n",
       "       [  88.88888889,   88.88888889],\n",
       "       [  89.8989899 ,   89.8989899 ],\n",
       "       [  90.90909091,   90.90909091],\n",
       "       [  91.91919192,   91.91919192],\n",
       "       [  92.92929293,   92.92929293],\n",
       "       [  93.93939394,   93.93939394],\n",
       "       [  94.94949495,   94.94949495],\n",
       "       [  95.95959596,   95.95959596],\n",
       "       [  96.96969697,   96.96969697],\n",
       "       [  97.97979798,   97.97979798],\n",
       "       [  98.98989899,   98.98989899],\n",
       "       [ 100.        ,  100.        ]])"
      ]
     },
     "execution_count": 46,
     "metadata": {},
     "output_type": "execute_result"
    }
   ],
   "source": [
    "xx = x.reshape(100,1).dot(np.ones((1,2)))\n",
    "xx"
   ]
  },
  {
   "cell_type": "code",
   "execution_count": 41,
   "metadata": {},
   "outputs": [
    {
     "data": {
      "text/plain": [
       "array([[  4.59994596e-01,  -9.39241403e-01],\n",
       "       [  2.07165504e+00,   1.89650577e-02],\n",
       "       [  1.42448791e+00,   2.48753404e+00],\n",
       "       [  3.45023217e+00,   3.60668257e+00],\n",
       "       [  3.83837817e+00,   3.48613140e+00],\n",
       "       [  3.83857828e+00,   5.14025497e+00],\n",
       "       [  6.58009655e+00,   4.80792595e+00],\n",
       "       [  6.23665835e+00,   7.25575635e+00],\n",
       "       [  9.01579459e+00,   9.28533656e+00],\n",
       "       [  9.69713063e+00,   1.05531465e+01],\n",
       "       [  9.90833497e+00,   8.68671714e+00],\n",
       "       [  1.06313002e+01,   1.08204579e+01],\n",
       "       [  1.26459477e+01,   1.28173162e+01],\n",
       "       [  1.48395595e+01,   1.23056030e+01],\n",
       "       [  1.57744000e+01,   1.39738791e+01],\n",
       "       [  1.53055337e+01,   1.61693988e+01],\n",
       "       [  1.68412385e+01,   1.62832278e+01],\n",
       "       [  1.83260196e+01,   1.73813443e+01],\n",
       "       [  1.82804820e+01,   1.74356845e+01],\n",
       "       [  2.03338022e+01,   1.96848198e+01],\n",
       "       [  2.01869606e+01,   2.02106962e+01],\n",
       "       [  2.00984243e+01,   2.21151851e+01],\n",
       "       [  2.14404410e+01,   2.03965343e+01],\n",
       "       [  2.43600689e+01,   2.33173704e+01],\n",
       "       [  2.50762328e+01,   2.40732629e+01],\n",
       "       [  2.45014928e+01,   2.46684782e+01],\n",
       "       [  2.71633327e+01,   2.55260687e+01],\n",
       "       [  2.75127398e+01,   2.58671755e+01],\n",
       "       [  2.74667516e+01,   2.67187466e+01],\n",
       "       [  3.09717640e+01,   2.86942114e+01],\n",
       "       [  3.05560161e+01,   2.94112165e+01],\n",
       "       [  3.05127666e+01,   3.21981057e+01],\n",
       "       [  3.25472416e+01,   3.25420475e+01],\n",
       "       [  3.45242791e+01,   3.34670147e+01],\n",
       "       [  3.37729134e+01,   3.44474060e+01],\n",
       "       [  3.47622089e+01,   3.49641744e+01],\n",
       "       [  3.52368161e+01,   3.54566462e+01],\n",
       "       [  3.76778258e+01,   3.84066308e+01],\n",
       "       [  3.95927293e+01,   3.80242026e+01],\n",
       "       [  3.84185432e+01,   3.92845278e+01],\n",
       "       [  4.20387020e+01,   3.97272293e+01],\n",
       "       [  4.14446032e+01,   4.14844500e+01],\n",
       "       [  4.23181599e+01,   4.40742368e+01],\n",
       "       [  4.26784742e+01,   4.12064993e+01],\n",
       "       [  4.39254517e+01,   4.42498536e+01],\n",
       "       [  4.75897767e+01,   4.55058150e+01],\n",
       "       [  4.70343318e+01,   4.60227243e+01],\n",
       "       [  4.73913316e+01,   4.80696947e+01],\n",
       "       [  4.74015705e+01,   4.69275097e+01],\n",
       "       [  4.80253356e+01,   4.98748064e+01],\n",
       "       [  5.19354505e+01,   4.77764680e+01],\n",
       "       [  5.00913074e+01,   5.14762933e+01],\n",
       "       [  5.28019390e+01,   5.11166148e+01],\n",
       "       [  5.40262744e+01,   5.43410166e+01],\n",
       "       [  5.47153675e+01,   5.40938550e+01],\n",
       "       [  5.58930047e+01,   5.54559499e+01],\n",
       "       [  5.73179044e+01,   5.66123567e+01],\n",
       "       [  5.90434011e+01,   5.62724629e+01],\n",
       "       [  5.78894166e+01,   5.79488070e+01],\n",
       "       [  5.92669344e+01,   5.92745037e+01],\n",
       "       [  6.10853642e+01,   6.08883189e+01],\n",
       "       [  6.16998870e+01,   6.22901290e+01],\n",
       "       [  6.20249189e+01,   6.24624752e+01],\n",
       "       [  6.48969653e+01,   6.49164994e+01],\n",
       "       [  6.39082962e+01,   6.59304001e+01],\n",
       "       [  6.55407018e+01,   6.30300607e+01],\n",
       "       [  6.78801745e+01,   6.64157561e+01],\n",
       "       [  7.00986677e+01,   6.78360832e+01],\n",
       "       [  7.04517615e+01,   6.86535057e+01],\n",
       "       [  6.99197719e+01,   6.99079644e+01],\n",
       "       [  7.02766538e+01,   7.09803540e+01],\n",
       "       [  7.16377527e+01,   7.16240365e+01],\n",
       "       [  7.17701924e+01,   7.17205151e+01],\n",
       "       [  7.49764773e+01,   7.42095663e+01],\n",
       "       [  7.66095042e+01,   7.43174616e+01],\n",
       "       [  7.39732845e+01,   7.53816813e+01],\n",
       "       [  7.70862688e+01,   7.76875376e+01],\n",
       "       [  7.62104832e+01,   7.88940047e+01],\n",
       "       [  7.93177252e+01,   7.81965433e+01],\n",
       "       [  7.89616056e+01,   7.89125598e+01],\n",
       "       [  7.98235536e+01,   8.11390437e+01],\n",
       "       [  8.20086086e+01,   8.16716664e+01],\n",
       "       [  8.45536319e+01,   8.31009104e+01],\n",
       "       [  8.38745068e+01,   8.17477574e+01],\n",
       "       [  8.65522388e+01,   8.42448531e+01],\n",
       "       [  8.56931484e+01,   8.66923001e+01],\n",
       "       [  8.67178446e+01,   8.77737326e+01],\n",
       "       [  8.77327090e+01,   8.73073414e+01],\n",
       "       [  8.97786817e+01,   8.88001063e+01],\n",
       "       [  9.07422006e+01,   8.98657545e+01],\n",
       "       [  8.94999523e+01,   9.09724441e+01],\n",
       "       [  9.01886569e+01,   9.27994717e+01],\n",
       "       [  9.28533601e+01,   9.15502774e+01],\n",
       "       [  9.36347940e+01,   9.50631417e+01],\n",
       "       [  9.48281798e+01,   9.57551509e+01],\n",
       "       [  9.60697135e+01,   9.53329466e+01],\n",
       "       [  9.57955112e+01,   9.90763735e+01],\n",
       "       [  9.97606262e+01,   1.00347775e+02],\n",
       "       [  9.87366353e+01,   9.93609370e+01],\n",
       "       [  9.86152973e+01,   1.02318158e+02]])"
      ]
     },
     "execution_count": 41,
     "metadata": {},
     "output_type": "execute_result"
    }
   ],
   "source": [
    "x = np.linspace(0,100,100)\n",
    "I = np.identity(2)\n",
    "Z = np.random.multivariate_normal(np.array([0,0]),I,size=100)\n",
    "np.apply_along_axis(op.__add__, 0, Z, xx)[0]"
   ]
  },
  {
   "cell_type": "markdown",
   "metadata": {},
   "source": [
    "# Stratification"
   ]
  },
  {
   "cell_type": "code",
   "execution_count": 113,
   "metadata": {
    "collapsed": true
   },
   "outputs": [],
   "source": [
    "def standard_mc_pair(S0, K, sigma, r, T, n):\n",
    "    U = np.random.uniform(size=(n,2))\n",
    "    Z = norm.ppf(U)\n",
    "    S1 = S0*np.exp((\n",
    "        r-0.5*sigma**2)*T + sigma*np.sqrt(T)*Z[:,0])\n",
    "    S2 = S0*np.exp((\n",
    "        r-0.5*sigma**2)*T + sigma*np.sqrt(T)*Z[:,1])\n",
    "    sample = np.exp(-r*T)*np.clip((S1+S2)/2-K, 0, None)\n",
    "    sample_mean = np.mean(sample)\n",
    "    se = stats.sem(sample, ddof=0)\n",
    "    return sample, sample_mean, se\n",
    "\n",
    "def stratefied_mc_pair(S0, K, sigma, r, T, B, bin_size):\n",
    "    bins = np.linspace(0, 1, B+1)\n",
    "    price_grid = np.zeros((B,B))\n",
    "    var_grid = np.zeros((B,B))\n",
    "    n = B*B*bin_size\n",
    "    for i in range(B): \n",
    "        for j in range(B):\n",
    "            U1 = np.random.uniform(\n",
    "                low=bins[i], high=bins[i+1],\n",
    "                size=bin_size)\n",
    "            U2 = np.random.uniform(\n",
    "                low=bins[j], high=bins[j+1],\n",
    "                size=bin_size)\n",
    "            Z1 = norm.ppf(U1)\n",
    "            Z2 = norm.ppf(U2)\n",
    "            S1 = S0*np.exp((\n",
    "                r-0.5*sigma**2)*T + sigma*np.sqrt(T)*Z1)\n",
    "            S2 = S0*np.exp((\n",
    "                r-0.5*sigma**2)*T + sigma*np.sqrt(T)*Z2)\n",
    "            sample = np.exp(-r*T)*np.clip((S1+S2)/2-K, 0, None)\n",
    "            price_grid[i][j] = np.mean(sample)\n",
    "            var_grid[i][j] = np.var(sample)\n",
    "    sample_mean = np.mean(price_grid)\n",
    "    se = np.sqrt(np.sum(var_grid)/(B**2))/np.sqrt(n)\n",
    "    return sample_mean, se\n",
    "\n",
    "def stratified_projection(S0, K, sigma, r, T, B, bin_size):\n",
    "    n = B*bin_size\n",
    "    bins = np.linspace(0, 1, B+1)\n",
    "    nu = np.array([1.0,1.0]) / np.sqrt(2)\n",
    "    Sigma_Z = np.identity(2) - nu.reshape(\n",
    "        2,1).dot(nu.reshape(1,2))\n",
    "    price_grid = np.zeros(B)\n",
    "    var_grid = np.zeros(B)\n",
    "    for i in range(B): \n",
    "        U = np.random.uniform(\n",
    "            low=bins[i], high=bins[i+1],\n",
    "            size=bin_size)\n",
    "        X = norm.ppf(U)\n",
    "        sample_bin = np.zeros(bin_size)\n",
    "        for j in range(bin_size):\n",
    "            Z = np.random.multivariate_normal(nu*X[j], Sigma_Z)\n",
    "            S1 = S0*np.exp((\n",
    "                r-0.5*sigma**2)*T + sigma*np.sqrt(T)*Z[0])\n",
    "            S2 = S0*np.exp((\n",
    "                r-0.5*sigma**2)*T + sigma*np.sqrt(T)*Z[1])\n",
    "            sample_bin[j] = np.exp(-r*T)*np.clip(\n",
    "                (S1+S2)/2-K, 0, None)\n",
    "        price_grid[i] = np.mean(sample_bin)\n",
    "        var_grid[i] = np.var(sample_bin)\n",
    "    sample_mean = np.mean(price_grid)\n",
    "    se = np.sqrt(np.sum(var_grid)/B)/np.sqrt(n)\n",
    "    return sample_mean, se\n",
    "        "
   ]
  },
  {
   "cell_type": "markdown",
   "metadata": {},
   "source": [
    "## Standard Monte-Carlo"
   ]
  },
  {
   "cell_type": "code",
   "execution_count": 115,
   "metadata": {},
   "outputs": [
    {
     "name": "stdout",
     "output_type": "stream",
     "text": [
      "Standard MC: Price = 8.717088273068166, SE = 0.34969214409253035\n"
     ]
    }
   ],
   "source": [
    "table = []\n",
    "_, price, se = standard_mc_pair(\n",
    "    S0=100, K=100, sigma=0.2, r=0.05, T=1, n=1000)\n",
    "print('Standard MC: Price = {}, SE = {}'.format(price, se))\n",
    "table.append(['Standard MC', price, se])"
   ]
  },
  {
   "cell_type": "markdown",
   "metadata": {},
   "source": [
    "## 2-Dimensional Stratification"
   ]
  },
  {
   "cell_type": "code",
   "execution_count": 116,
   "metadata": {},
   "outputs": [
    {
     "name": "stdout",
     "output_type": "stream",
     "text": [
      "Stratified MC: Price = 8.227946729386634, SE = 0.0781876992906378\n"
     ]
    }
   ],
   "source": [
    "price, se = stratefied_mc_pair(\n",
    "    S0=100, K=100, sigma=0.2, r=0.05, T=1, B=10, bin_size=10)\n",
    "print('Stratified MC: Price = {}, SE = {}'.format(price, se))\n",
    "table.append(['2D Stratified MC', price, se])"
   ]
  },
  {
   "cell_type": "markdown",
   "metadata": {},
   "source": [
    "## Stratification of Projection"
   ]
  },
  {
   "cell_type": "code",
   "execution_count": 117,
   "metadata": {},
   "outputs": [
    {
     "name": "stdout",
     "output_type": "stream",
     "text": [
      "Stratification of Projection: Price = 8.361912744826364, SE = 0.03789547033221843\n"
     ]
    }
   ],
   "source": [
    "price, se = stratified_projection(\n",
    "    S0=100, K=100, sigma=0.2, r=0.05, T=1, B=250, bin_size=4)\n",
    "print('Stratification of Projection: Price = {}, SE = {}'.format(price, se))\n",
    "table.append(['Stratified Projection', price, se])"
   ]
  },
  {
   "cell_type": "code",
   "execution_count": 118,
   "metadata": {},
   "outputs": [
    {
     "data": {
      "text/html": [
       "<div>\n",
       "<style>\n",
       "    .dataframe thead tr:only-child th {\n",
       "        text-align: right;\n",
       "    }\n",
       "\n",
       "    .dataframe thead th {\n",
       "        text-align: left;\n",
       "    }\n",
       "\n",
       "    .dataframe tbody tr th {\n",
       "        vertical-align: top;\n",
       "    }\n",
       "</style>\n",
       "<table border=\"1\" class=\"dataframe\">\n",
       "  <thead>\n",
       "    <tr style=\"text-align: right;\">\n",
       "      <th></th>\n",
       "      <th>Method</th>\n",
       "      <th>Price</th>\n",
       "      <th>SE</th>\n",
       "    </tr>\n",
       "  </thead>\n",
       "  <tbody>\n",
       "    <tr>\n",
       "      <th>0</th>\n",
       "      <td>Standard MC</td>\n",
       "      <td>8.717088</td>\n",
       "      <td>0.349692</td>\n",
       "    </tr>\n",
       "    <tr>\n",
       "      <th>1</th>\n",
       "      <td>2D Stratified MC</td>\n",
       "      <td>8.227947</td>\n",
       "      <td>0.078188</td>\n",
       "    </tr>\n",
       "    <tr>\n",
       "      <th>2</th>\n",
       "      <td>Stratified Projection</td>\n",
       "      <td>8.361913</td>\n",
       "      <td>0.037895</td>\n",
       "    </tr>\n",
       "  </tbody>\n",
       "</table>\n",
       "</div>"
      ],
      "text/plain": [
       "                  Method     Price        SE\n",
       "0            Standard MC  8.717088  0.349692\n",
       "1       2D Stratified MC  8.227947  0.078188\n",
       "2  Stratified Projection  8.361913  0.037895"
      ]
     },
     "execution_count": 118,
     "metadata": {},
     "output_type": "execute_result"
    }
   ],
   "source": [
    "summary = pd.DataFrame(table, columns=[\n",
    "    'Method', 'Price', 'SE'])\n",
    "summary"
   ]
  },
  {
   "cell_type": "markdown",
   "metadata": {},
   "source": [
    "# Brownian Bridge"
   ]
  },
  {
   "cell_type": "code",
   "execution_count": 118,
   "metadata": {
    "collapsed": true
   },
   "outputs": [],
   "source": [
    "def gbm_bdz(S0, sigma, r, T, n_steps):\n",
    "    dt = T/n_steps\n",
    "    S_last, S, i = S0, S0, 0\n",
    "    Z = np.random.normal(size=n_steps)\n",
    "    while i < n_steps:\n",
    "        # euler scheme\n",
    "        S_last = S\n",
    "        S += r*S*dt + sigma*S*np.sqrt(dt)*Z[i]\n",
    "        b = (S-S_last) / (sigma*S_last)\n",
    "        u = np.random.uniform()\n",
    "        B_max = 0.5*(b+np.sqrt(b**2 - 2*dt*np.log(u)))\n",
    "        B_min = 0.5*(b-np.sqrt(b**2 - 2*dt*np.log(u)))\n",
    "        M = S_last + sigma*S_last*B_max\n",
    "        m = S_last + sigma*S_last*B_min\n",
    "        yield (S, M, m)\n",
    "        i += 1"
   ]
  },
  {
   "cell_type": "markdown",
   "metadata": {},
   "source": [
    "## Max Call Option"
   ]
  },
  {
   "cell_type": "code",
   "execution_count": 119,
   "metadata": {
    "collapsed": true
   },
   "outputs": [],
   "source": [
    "def max_call(S0, K, T, r, sigma,\n",
    "             n_steps, n_size):\n",
    "    sample = np.zeros(n_size)\n",
    "    sample_bdz = np.zeros(n_size)\n",
    "    bar = ProgressBar()\n",
    "    for j in bar(range(n_size)):\n",
    "        S, M, _ = zip(*gbm_bdz(\n",
    "            S0, sigma, r, T, n_steps))\n",
    "        sample_bdz[j] = np.exp(-r*T)*np.clip(\n",
    "            np.max(M)-K, 0, None)\n",
    "        sample[j] = np.exp(-r*T)*np.clip(\n",
    "            np.max(S)-K, 0, None)\n",
    "    sample_mean = np.mean(sample)\n",
    "    se = stats.sem(sample, ddof=0)\n",
    "    sample_mean_bdz = np.mean(sample_bdz)\n",
    "    se_bdz = stats.sem(sample_bdz, ddof=0)\n",
    "    return sample_mean, se, sample_mean_bdz, se_bdz\n"
   ]
  },
  {
   "cell_type": "code",
   "execution_count": 120,
   "metadata": {},
   "outputs": [
    {
     "name": "stderr",
     "output_type": "stream",
     "text": [
      "100% (1000 of 1000) |#####################| Elapsed Time: 0:00:00 Time: 0:00:00\n"
     ]
    },
    {
     "name": "stdout",
     "output_type": "stream",
     "text": [
      "Standard MC: Max Call Price = 4.8759584965664935, SE = 0.14101773642732715\n",
      "Brownian Bridge Correction: Max Call Price = 5.548656198264789, SE = 0.14254263465548778\n"
     ]
    }
   ],
   "source": [
    "price, se, price_bdz, se_bdz = max_call(\n",
    "    S0=50, K=50, T=0.25, r=0.1, sigma=0.25, \n",
    "    n_steps=30, n_size=1000)\n",
    "print('Standard MC: Max Call Price = {}, SE = {}'.format(price, se))\n",
    "print('Brownian Bridge Correction: Max Call Price = {}, SE = {}'.format(\n",
    "    price_bdz, se_bdz))"
   ]
  },
  {
   "cell_type": "markdown",
   "metadata": {},
   "source": [
    "## Max Call Option, Strike = $S_T$"
   ]
  },
  {
   "cell_type": "code",
   "execution_count": 121,
   "metadata": {
    "collapsed": true
   },
   "outputs": [],
   "source": [
    "def max_call_ST(S0, K, T, r, sigma,\n",
    "             n_steps, n_size):\n",
    "    sample = np.zeros(n_size)\n",
    "    sample_bdz = np.zeros(n_size)\n",
    "    bar = ProgressBar()\n",
    "    for j in bar(range(n_size)):\n",
    "        S, M, _ = zip(*gbm_bdz(\n",
    "            S0, sigma, r, T, n_steps))\n",
    "        sample_bdz[j] = np.exp(-r*T)*np.clip(\n",
    "            np.max(M)-S[-1], 0, None)\n",
    "        sample[j] = np.exp(-r*T)*np.clip(\n",
    "            np.max(S)-S[-1], 0, None)\n",
    "    sample_mean = np.mean(sample)\n",
    "    se = stats.sem(sample, ddof=0)\n",
    "    sample_mean_bdz = np.mean(sample_bdz)\n",
    "    se_bdz = stats.sem(sample_bdz, ddof=0)\n",
    "    return sample_mean, se, sample_mean_bdz, se_bdz"
   ]
  },
  {
   "cell_type": "code",
   "execution_count": 124,
   "metadata": {},
   "outputs": [
    {
     "name": "stderr",
     "output_type": "stream",
     "text": [
      "100% (1000 of 1000) |#####################| Elapsed Time: 0:00:00 Time: 0:00:00\n"
     ]
    },
    {
     "name": "stdout",
     "output_type": "stream",
     "text": [
      "Standard MC: Max Call Price = 3.8798771180345355, SE = 0.10474966632999966\n",
      "Brownian Bridge Correction: Max Call Price = 4.618006133108648, SE = 0.10623307153227779\n"
     ]
    }
   ],
   "source": [
    "price, se, price_bdz, se_bdz = max_call_ST(\n",
    "    S0=50, K=50, T=0.25, r=0.1, sigma=0.25, \n",
    "    n_steps=30, n_size=1000)\n",
    "print('Standard MC: Max Call Price = {}, SE = {}'.format(price, se))\n",
    "print('Brownian Bridge Correction: Max Call Price = {}, SE = {}'.format(\n",
    "    price_bdz, se_bdz))"
   ]
  },
  {
   "cell_type": "markdown",
   "metadata": {},
   "source": [
    "## Knock-out Option"
   ]
  },
  {
   "cell_type": "code",
   "execution_count": 126,
   "metadata": {
    "collapsed": true
   },
   "outputs": [],
   "source": [
    "def knock_out(S0, K, H, T, r, sigma,\n",
    "             n_steps, n_size):\n",
    "    sample = np.zeros(n_size)\n",
    "    sample_bdz = np.zeros(n_size)\n",
    "    bar = ProgressBar()\n",
    "    for j in bar(range(n_size)):\n",
    "        S, _, m = zip(*gbm_bdz(\n",
    "            S0, sigma, r, T, n_steps))\n",
    "        sample_bdz[j] = np.exp(-r*T)*np.clip(\n",
    "            S[-1]-K, 0, None)*(np.min(m)>H)\n",
    "        sample[j] = np.exp(-r*T)*np.clip(\n",
    "            S[-1]-K, 0, None)*(np.min(S)>H)\n",
    "    sample_mean = np.mean(sample)\n",
    "    se = stats.sem(sample, ddof=0)\n",
    "    sample_mean_bdz = np.mean(sample_bdz)\n",
    "    se_bdz = stats.sem(sample_bdz, ddof=0)\n",
    "    return sample_mean, se, sample_mean_bdz, se_bdz"
   ]
  },
  {
   "cell_type": "code",
   "execution_count": 128,
   "metadata": {},
   "outputs": [
    {
     "name": "stdout",
     "output_type": "stream",
     "text": [
      "Standard MC: Knock-out Call Price = 4.532198747276875, SE = 0.027182389608430696\n",
      "Brownian Bridge Correction: Knock-out Call Price = 4.021150035286275, SE = 0.0265014658467239\n"
     ]
    }
   ],
   "source": [
    "price, se, price_bdz, se_bdz = knock_out(\n",
    "    S0=50, K=50, H=45, T=0.25, r=0.1, sigma=0.5, \n",
    "    n_steps=30, n_size=100000)\n",
    "print('Standard MC: Knock-out Call Price = {}, SE = {}'.format(price, se))\n",
    "print('Brownian Bridge Correction: Knock-out Call Price = {}, SE = {}'.format(\n",
    "    price_bdz, se_bdz))"
   ]
  },
  {
   "cell_type": "markdown",
   "metadata": {},
   "source": [
    "# Two-Asset Down-and-Out Call"
   ]
  },
  {
   "cell_type": "code",
   "execution_count": 139,
   "metadata": {
    "collapsed": true
   },
   "outputs": [],
   "source": [
    "def gbm_2d_bdz(S10, S20, sigma1, sigma2, rho, r, T, n_steps):\n",
    "    dt = T/n_steps\n",
    "    S1, S2, m2, i = S10, S20, S20, 0\n",
    "    corr = np.array(\n",
    "        [[1, rho], \n",
    "         [rho, 1]])\n",
    "    while i < n_steps:\n",
    "        Z = np.random.multivariate_normal(np.zeros(2), corr)\n",
    "        dS1 = r*S1*dt + sigma1*S1*np.sqrt(dt)*Z[0]\n",
    "        dS2 = r*S2*dt + sigma2*S2*np.sqrt(dt)*Z[1]\n",
    "        b = dS2 / (sigma2*S2)\n",
    "        u = np.random.uniform()\n",
    "        B_min = 0.5*(b-np.sqrt(b**2 - 2*dt*np.log(u)))\n",
    "        m2 = S2 + sigma2*S2*B_min\n",
    "        S1 += dS1; S2 += dS2\n",
    "        yield (S1, S2, m2)\n",
    "        i += 1\n",
    "        \n",
    "def knock_out_2d(S10, S20, K, H, sigma1, sigma2, rho, \n",
    "                 T, r, n_steps, n_size):\n",
    "    sample = np.zeros(n_size)\n",
    "    sample_bdz = np.zeros(n_size)\n",
    "    bar = ProgressBar()\n",
    "    for j in bar(range(n_size)):\n",
    "        S1, S2, m2 = zip(*gbm_2d_bdz(\n",
    "            S10, S20, sigma1, sigma2, rho, r, T, n_steps))\n",
    "        sample_bdz[j] = np.exp(-r*T)*np.clip(\n",
    "            S1[-1]-K, 0, None)*(np.min(m2)>H)\n",
    "        sample[j] = np.exp(-r*T)*np.clip(\n",
    "            S1[-1]-K, 0, None)*(np.min(S2)>H)\n",
    "    sample_mean = np.mean(sample)\n",
    "    se = stats.sem(sample, ddof=0)\n",
    "    sample_mean_bdz = np.mean(sample_bdz)\n",
    "    se_bdz = stats.sem(sample_bdz, ddof=0)\n",
    "    return sample_mean, se, sample_mean_bdz, se_bdz"
   ]
  },
  {
   "cell_type": "code",
   "execution_count": 143,
   "metadata": {},
   "outputs": [
    {
     "name": "stderr",
     "output_type": "stream",
     "text": [
      "100% (10000 of 10000) |###################| Elapsed Time: 0:01:43 Time: 0:01:43\n"
     ]
    },
    {
     "name": "stdout",
     "output_type": "stream",
     "text": [
      "Standard MC: Knock-out Call Price = 3.65625860103613, SE = 0.08043259974580645\n",
      "Brownian Bridge Correction: Knock-out Call Price = 3.191486056258811, SE = 0.0766601904086251\n"
     ]
    }
   ],
   "source": [
    "price, se, price_bdz, se_bdz = knock_out_2d(\n",
    "    S10=100, S20=100, K=100, H=95, \n",
    "    sigma1=0.3, sigma2=0.3, rho=0.5, \n",
    "    T=0.2, r=0.1, n_steps=50, n_size=10000)\n",
    "print('Standard MC: Knock-out Call Price = {}, SE = {}'.format(price, se))\n",
    "print('Brownian Bridge Correction: Knock-out Call Price = {}, SE = {}'.format(\n",
    "    price_bdz, se_bdz))"
   ]
  },
  {
   "cell_type": "markdown",
   "metadata": {},
   "source": [
    "We find that the BDZ solution matches the continuous time analytical solution very closely."
   ]
  },
  {
   "cell_type": "markdown",
   "metadata": {},
   "source": [
    "# Credit Derivatives"
   ]
  },
  {
   "cell_type": "code",
   "execution_count": 2,
   "metadata": {
    "collapsed": true
   },
   "outputs": [],
   "source": [
    "# copy the code from HW2\n",
    "class GaussianCopula():\n",
    "    \n",
    "    def __init__(self, cov_matrix, marginal_inv_cdfs=None):\n",
    "        self.inv_cdfs = marginal_inv_cdfs\n",
    "        self.cov = cov_matrix\n",
    "        self.std = np.sqrt(np.diag(self.cov))\n",
    "        self.d = len(self.cov)\n",
    "        self.A = np.linalg.cholesky(self.cov).T \n",
    "        \n",
    "    def draw(self, n):\n",
    "        Z = np.random.normal(size=(n, self.d))\n",
    "        Y = Z.dot(self.A)\n",
    "        if not self.inv_cdfs: return Y\n",
    "        U = norm.cdf(Y/self.std)\n",
    "        return np.apply_along_axis(self.inv_cdfs, 1, U)\n",
    "    \n",
    "    def reset_cov(self, cov_matrix):\n",
    "        assert len(cov_matrix) == self.d\n",
    "        self.cov = cov_matrix\n",
    "        self.std = np.sqrt(np.diag(self.cov))\n",
    "        self.A = np.linalg.cholesky(self.cov).T\n",
    "    \n",
    "# inverse marginal cdfs\n",
    "def exponential_marginal_inv(lam_vec):\n",
    "    return lambda u: np.array(\n",
    "        [(-1/lam)*np.log(u[i]) for i,lam in enumerate(lam_vec)])"
   ]
  },
  {
   "cell_type": "code",
   "execution_count": 4,
   "metadata": {},
   "outputs": [
    {
     "name": "stderr",
     "output_type": "stream",
     "text": [
      "100% (6 of 6) |###########################| Elapsed Time: 0:00:31 Time: 0:00:31\n"
     ]
    }
   ],
   "source": [
    "table = []\n",
    "N = 5\n",
    "T = 5\n",
    "r = 0.04\n",
    "s = 0.01\n",
    "R = 0.35\n",
    "lam = s/(1-R) # using Taylor approx\n",
    "n_sample = 100000\n",
    "\n",
    "gsexp_copula_sampler = GaussianCopula(\n",
    "    cov_matrix=np.identity(N),\n",
    "    marginal_inv_cdfs=exponential_marginal_inv([lam]*N)\n",
    ")\n",
    "\n",
    "bar = ProgressBar()\n",
    "for i, rho in bar(list(enumerate([0, 0.2, 0.4, 0.6, 0.8, 0.9999999]))):\n",
    "    gsexp_copula_sampler.reset_cov(\n",
    "        rho*np.ones((N,N))+(1-rho)*np.identity(N)\n",
    "    )\n",
    "    time_to_default = gsexp_copula_sampler.draw(n_sample)\n",
    "    num_defaults = np.apply_along_axis(\n",
    "        lambda row: sum(row<T), 1, time_to_default)\n",
    "    prob, value, se = [], [], []\n",
    "    for k in range(N):\n",
    "        # probability of itD derivative is in the money:\n",
    "        p_itm = sum(num_defaults >= (k+1)) / n_sample\n",
    "        # value of the itD derivative:\n",
    "        v = np.exp(-r*T)*(1-R)*p_itm\n",
    "        std_error = np.exp(-r*T)*(1-R)*np.sqrt(p_itm*(1-p_itm)/n_sample)\n",
    "        prob.append(p_itm)\n",
    "        value.append(v)\n",
    "        se.append(std_error)\n",
    "    table.append(value)\n",
    "    table.append(se)"
   ]
  },
  {
   "cell_type": "code",
   "execution_count": 5,
   "metadata": {},
   "outputs": [
    {
     "data": {
      "text/html": [
       "<div>\n",
       "<style>\n",
       "    .dataframe thead tr:only-child th {\n",
       "        text-align: right;\n",
       "    }\n",
       "\n",
       "    .dataframe thead th {\n",
       "        text-align: left;\n",
       "    }\n",
       "\n",
       "    .dataframe tbody tr th {\n",
       "        vertical-align: top;\n",
       "    }\n",
       "</style>\n",
       "<table border=\"1\" class=\"dataframe\">\n",
       "  <thead>\n",
       "    <tr style=\"text-align: right;\">\n",
       "      <th></th>\n",
       "      <th></th>\n",
       "      <th>FtD</th>\n",
       "      <th>2tD</th>\n",
       "      <th>3tD</th>\n",
       "      <th>4tD</th>\n",
       "      <th>5tD</th>\n",
       "    </tr>\n",
       "    <tr>\n",
       "      <th>Rho</th>\n",
       "      <th></th>\n",
       "      <th></th>\n",
       "      <th></th>\n",
       "      <th></th>\n",
       "      <th></th>\n",
       "      <th></th>\n",
       "    </tr>\n",
       "  </thead>\n",
       "  <tbody>\n",
       "    <tr>\n",
       "      <th rowspan=\"2\" valign=\"top\">0</th>\n",
       "      <th>Price</th>\n",
       "      <td>0.169413</td>\n",
       "      <td>0.025518</td>\n",
       "      <td>0.001985</td>\n",
       "      <td>0.000112</td>\n",
       "      <td>0.000000</td>\n",
       "    </tr>\n",
       "    <tr>\n",
       "      <th>SE</th>\n",
       "      <td>0.000784</td>\n",
       "      <td>0.000360</td>\n",
       "      <td>0.000103</td>\n",
       "      <td>0.000024</td>\n",
       "      <td>0.000000</td>\n",
       "    </tr>\n",
       "    <tr>\n",
       "      <th rowspan=\"2\" valign=\"top\">0.2</th>\n",
       "      <th>Price</th>\n",
       "      <td>0.151782</td>\n",
       "      <td>0.036348</td>\n",
       "      <td>0.007136</td>\n",
       "      <td>0.001197</td>\n",
       "      <td>0.000085</td>\n",
       "    </tr>\n",
       "    <tr>\n",
       "      <th>SE</th>\n",
       "      <td>0.000760</td>\n",
       "      <td>0.000425</td>\n",
       "      <td>0.000194</td>\n",
       "      <td>0.000080</td>\n",
       "      <td>0.000021</td>\n",
       "    </tr>\n",
       "    <tr>\n",
       "      <th rowspan=\"2\" valign=\"top\">0.4</th>\n",
       "      <th>Price</th>\n",
       "      <td>0.132831</td>\n",
       "      <td>0.044341</td>\n",
       "      <td>0.015204</td>\n",
       "      <td>0.004380</td>\n",
       "      <td>0.000862</td>\n",
       "    </tr>\n",
       "    <tr>\n",
       "      <th>SE</th>\n",
       "      <td>0.000728</td>\n",
       "      <td>0.000465</td>\n",
       "      <td>0.000280</td>\n",
       "      <td>0.000152</td>\n",
       "      <td>0.000068</td>\n",
       "    </tr>\n",
       "    <tr>\n",
       "      <th rowspan=\"2\" valign=\"top\">0.6</th>\n",
       "      <th>Price</th>\n",
       "      <td>0.112182</td>\n",
       "      <td>0.048928</td>\n",
       "      <td>0.023347</td>\n",
       "      <td>0.010266</td>\n",
       "      <td>0.003374</td>\n",
       "    </tr>\n",
       "    <tr>\n",
       "      <th>SE</th>\n",
       "      <td>0.000686</td>\n",
       "      <td>0.000486</td>\n",
       "      <td>0.000345</td>\n",
       "      <td>0.000231</td>\n",
       "      <td>0.000134</td>\n",
       "    </tr>\n",
       "    <tr>\n",
       "      <th rowspan=\"2\" valign=\"top\">0.8</th>\n",
       "      <th>Price</th>\n",
       "      <td>0.087415</td>\n",
       "      <td>0.050397</td>\n",
       "      <td>0.031781</td>\n",
       "      <td>0.019376</td>\n",
       "      <td>0.009792</td>\n",
       "    </tr>\n",
       "    <tr>\n",
       "      <th>SE</th>\n",
       "      <td>0.000624</td>\n",
       "      <td>0.000493</td>\n",
       "      <td>0.000399</td>\n",
       "      <td>0.000315</td>\n",
       "      <td>0.000226</td>\n",
       "    </tr>\n",
       "    <tr>\n",
       "      <th rowspan=\"2\" valign=\"top\">1.0</th>\n",
       "      <th>Price</th>\n",
       "      <td>0.039700</td>\n",
       "      <td>0.039690</td>\n",
       "      <td>0.039690</td>\n",
       "      <td>0.039684</td>\n",
       "      <td>0.039668</td>\n",
       "    </tr>\n",
       "    <tr>\n",
       "      <th>SE</th>\n",
       "      <td>0.000442</td>\n",
       "      <td>0.000442</td>\n",
       "      <td>0.000442</td>\n",
       "      <td>0.000442</td>\n",
       "      <td>0.000442</td>\n",
       "    </tr>\n",
       "  </tbody>\n",
       "</table>\n",
       "</div>"
      ],
      "text/plain": [
       "                FtD       2tD       3tD       4tD       5tD\n",
       "Rho                                                        \n",
       "0   Price  0.169413  0.025518  0.001985  0.000112  0.000000\n",
       "    SE     0.000784  0.000360  0.000103  0.000024  0.000000\n",
       "0.2 Price  0.151782  0.036348  0.007136  0.001197  0.000085\n",
       "    SE     0.000760  0.000425  0.000194  0.000080  0.000021\n",
       "0.4 Price  0.132831  0.044341  0.015204  0.004380  0.000862\n",
       "    SE     0.000728  0.000465  0.000280  0.000152  0.000068\n",
       "0.6 Price  0.112182  0.048928  0.023347  0.010266  0.003374\n",
       "    SE     0.000686  0.000486  0.000345  0.000231  0.000134\n",
       "0.8 Price  0.087415  0.050397  0.031781  0.019376  0.009792\n",
       "    SE     0.000624  0.000493  0.000399  0.000315  0.000226\n",
       "1.0 Price  0.039700  0.039690  0.039690  0.039684  0.039668\n",
       "    SE     0.000442  0.000442  0.000442  0.000442  0.000442"
      ]
     },
     "execution_count": 5,
     "metadata": {},
     "output_type": "execute_result"
    }
   ],
   "source": [
    "index = [['0', '0.2', '0.4', '0.6', '0.8', '1.0'], \n",
    "         ['Price', 'SE']]\n",
    "index = pd.MultiIndex.from_product(\n",
    "    index, names=['Rho', ' '])\n",
    "summary = pd.DataFrame(table, columns=[\n",
    "    'FtD', '2tD', '3tD', '4tD', '5tD'], index=index)\n",
    "summary\n"
   ]
  },
  {
   "cell_type": "code",
   "execution_count": null,
   "metadata": {
    "collapsed": true
   },
   "outputs": [],
   "source": []
  }
 ],
 "metadata": {
  "kernelspec": {
   "display_name": "Python 3",
   "language": "python",
   "name": "python3"
  },
  "language_info": {
   "codemirror_mode": {
    "name": "ipython",
    "version": 3
   },
   "file_extension": ".py",
   "mimetype": "text/x-python",
   "name": "python",
   "nbconvert_exporter": "python",
   "pygments_lexer": "ipython3",
   "version": "3.6.4"
  }
 },
 "nbformat": 4,
 "nbformat_minor": 2
}
