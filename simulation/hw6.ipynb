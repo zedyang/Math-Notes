{
 "cells": [
  {
   "cell_type": "code",
   "execution_count": 1,
   "metadata": {
    "collapsed": true
   },
   "outputs": [],
   "source": [
    "import time\n",
    "import numpy as np\n",
    "import pandas as pd\n",
    "import matplotlib.pyplot as plt\n",
    "import operator as op\n",
    "plt.style.use('ggplot')\n",
    "plt.rc('text', usetex=True)\n",
    "plt.rc('font', family='serif', size=15)\n",
    "%matplotlib inline\n",
    "\n",
    "import scipy.stats as stats\n",
    "from scipy.stats import norm\n",
    "from progressbar import ProgressBar\n",
    "from sklearn.linear_model import LinearRegression"
   ]
  },
  {
   "cell_type": "markdown",
   "metadata": {},
   "source": [
    "# Longstaff-Schwartz Method"
   ]
  },
  {
   "cell_type": "code",
   "execution_count": 2,
   "metadata": {
    "collapsed": true
   },
   "outputs": [],
   "source": [
    "def bs(t, S, K, T, sigma, r, div=0):\n",
    "    tau = T - t\n",
    "    rexp, dexp = np.exp(-r*tau), np.exp(-div*tau)\n",
    "    d1 = (np.log(S/K) + (r-div+0.5*sigma**2)*tau) / (\n",
    "        sigma*np.sqrt(tau))\n",
    "    d2 = d1 - sigma*np.sqrt(tau)\n",
    "    call = S*dexp*norm.cdf(d1) - K*rexp*norm.cdf(d2)\n",
    "    put = K*rexp - S*dexp + call\n",
    "    return call, put\n",
    "\n",
    "# Generators\n",
    "def gbm_antithetic(S0, sigma, r, div, T, \n",
    "                   n_steps, size, antithetic=True):\n",
    "    dt = T/n_steps\n",
    "    print('Generating GBM paths...')\n",
    "    S = np.random.normal(size=(n_steps, size))\n",
    "    S_a = -S\n",
    "    bar = ProgressBar()\n",
    "    time.sleep(0.5)\n",
    "    for j in bar(range(size)):\n",
    "        z = S[:,j]; z_a = S_a[:,j]\n",
    "        logr = np.cumsum(sigma*np.sqrt(dt)*z + (\n",
    "            r-div-0.5*sigma**2)*dt)\n",
    "        logr_a = np.cumsum(sigma*np.sqrt(dt)*z_a + (\n",
    "            r-div-0.5*sigma**2)*dt)\n",
    "        S[:,j] = S0*np.exp(logr)\n",
    "        S_a[:,j] = S0*np.exp(logr_a)\n",
    "    if not antithetic: return S\n",
    "    return S, S_a"
   ]
  },
  {
   "cell_type": "code",
   "execution_count": 3,
   "metadata": {
    "collapsed": true
   },
   "outputs": [],
   "source": [
    "def laguerre_poly(St, X):\n",
    "    X[:,1] = np.exp(-St/2)\n",
    "    X[:,2] = X[:,1]*(1-St)\n",
    "    X[:,3] = X[:,1]*(1-2*St+(St**2)/2)\n",
    "    return X\n",
    "\n",
    "def longstaff_schwartz(S0, K, sigma, r, div, T, \n",
    "                       n_steps, size):\n",
    "    dt = T/n_steps\n",
    "    S, Sa = gbm_antithetic(\n",
    "        S0, sigma, r, div, T, n_steps, size)\n",
    "    S = np.concatenate((S,Sa), 1); size*=2\n",
    "    cash_flows = np.zeros((n_steps, size))\n",
    "    # tau are indices!\n",
    "    tau = (n_steps-1) * np.ones(size, dtype=int)\n",
    "    c = np.zeros(size)\n",
    "    path_in = np.ones(size, dtype=bool)\n",
    "    X = np.zeros((size, 4))\n",
    "    y = np.zeros((size, 1))\n",
    "    cash_flows[-1,:] = np.clip(K-S[-1,:], 0, None)\n",
    "    bar = ProgressBar()\n",
    "    lm = LinearRegression(fit_intercept=False)\n",
    "    print('Running backward induction...')\n",
    "    time.sleep(0.5)\n",
    "    for i in bar(range(n_steps-1)[::-1]):\n",
    "        path_in = (K-S[i,:] > 0)\n",
    "        y = cash_flows[tau, range(size)] * path_in\n",
    "        X = np.apply_along_axis(\n",
    "            op.__mul__, 0, \n",
    "            laguerre_poly(S[i,:]/K, X), path_in)\n",
    "        lm.fit(X,y)\n",
    "        y_hat = lm.predict(X)\n",
    "        # y_hat = X.dot(np.linalg.inv(X.T.dot(X))).dot(X.T).dot(y)\n",
    "        # Calculating hat matrix is too slow\n",
    "        exec_ = (y_hat < np.clip(K-S[i,:], 0, None))\n",
    "        cash_flows[i,exec_] = np.clip(\n",
    "            K-S[i,:], 0, None)[exec_]\n",
    "        tau[exec_] = i\n",
    "    c = cash_flows[tau, range(size)]*np.exp(-r*(tau+1)*dt)\n",
    "    sample = np.fmax(c, np.clip(K-S0, 0, None))\n",
    "    # antithetic adjustments\n",
    "    half = int(size/2)\n",
    "    sample = (sample[:half] + sample[half:]) / 2\n",
    "    sample_mean = np.mean(sample)\n",
    "    se = stats.sem(sample, ddof=0)\n",
    "    return sample, sample_mean, se"
   ]
  },
  {
   "cell_type": "code",
   "execution_count": 4,
   "metadata": {},
   "outputs": [
    {
     "name": "stdout",
     "output_type": "stream",
     "text": [
      "Generating GBM paths...\n"
     ]
    },
    {
     "name": "stderr",
     "output_type": "stream",
     "text": [
      "100% (50000 of 50000) |###################| Elapsed Time: 0:00:01 Time: 0:00:01\n"
     ]
    },
    {
     "name": "stdout",
     "output_type": "stream",
     "text": [
      "Running backward induction...\n"
     ]
    },
    {
     "name": "stderr",
     "output_type": "stream",
     "text": [
      "100% (49 of 49) |#########################| Elapsed Time: 0:00:01 Time: 0:00:01\n"
     ]
    },
    {
     "name": "stdout",
     "output_type": "stream",
     "text": [
      "[ 0.          0.          5.90761008 ...,  0.          0.          0.        ]\n",
      "\n",
      "Longstaff Schwartz American put option (T=1):\n",
      "Price = 2.297622381854963, SE = 0.005599280042623917\n",
      "\n"
     ]
    }
   ],
   "source": [
    "table = []\n",
    "_, price, se = longstaff_schwartz(\n",
    "    S0=40, K=40, sigma=0.2, r=0.06, div=0, \n",
    "    T=1, n_steps=50, size=50000)\n",
    "eu_price = bs(0, 40, 40, 1, 0.2, 0.06)[1]\n",
    "table.append([40, 0.2, 1, price, se, \n",
    "             eu_price, price-eu_price])\n",
    "print('''\n",
    "Longstaff Schwartz American put option (T=1):\n",
    "Price = {}, SE = {}\\n'''.format(price, se))"
   ]
  },
  {
   "cell_type": "code",
   "execution_count": 10,
   "metadata": {},
   "outputs": [
    {
     "name": "stdout",
     "output_type": "stream",
     "text": [
      "Generating GBM paths...\n"
     ]
    },
    {
     "name": "stderr",
     "output_type": "stream",
     "text": [
      "100% (50000 of 50000) |###################| Elapsed Time: 0:00:01 Time: 0:00:01\n"
     ]
    },
    {
     "name": "stdout",
     "output_type": "stream",
     "text": [
      "Running backward induction...\n"
     ]
    },
    {
     "name": "stderr",
     "output_type": "stream",
     "text": [
      "100% (99 of 99) |#########################| Elapsed Time: 0:00:03 Time: 0:00:03\n"
     ]
    },
    {
     "name": "stdout",
     "output_type": "stream",
     "text": [
      "\n",
      "Longstaff Schwartz American put option (T=2):\n",
      "Price = 2.863737791388795, SE = 0.007071192795570061\n",
      "\n"
     ]
    }
   ],
   "source": [
    "_, price, se = longstaff_schwartz(\n",
    "    S0=40, K=40, sigma=0.2, r=0.06, div=0, \n",
    "    T=2, n_steps=100, size=50000)\n",
    "eu_price = bs(0, 40, 40, 2, 0.2, 0.06)[1]\n",
    "table.append([40, 0.2, 2, price, se,\n",
    "             eu_price, price-eu_price])\n",
    "print('''\n",
    "Longstaff Schwartz American put option (T=2):\n",
    "Price = {}, SE = {}\\n'''.format(price, se))"
   ]
  },
  {
   "cell_type": "code",
   "execution_count": 11,
   "metadata": {},
   "outputs": [
    {
     "data": {
      "text/html": [
       "<div>\n",
       "<style>\n",
       "    .dataframe thead tr:only-child th {\n",
       "        text-align: right;\n",
       "    }\n",
       "\n",
       "    .dataframe thead th {\n",
       "        text-align: left;\n",
       "    }\n",
       "\n",
       "    .dataframe tbody tr th {\n",
       "        vertical-align: top;\n",
       "    }\n",
       "</style>\n",
       "<table border=\"1\" class=\"dataframe\">\n",
       "  <thead>\n",
       "    <tr style=\"text-align: right;\">\n",
       "      <th></th>\n",
       "      <th>S</th>\n",
       "      <th>sigma</th>\n",
       "      <th>T</th>\n",
       "      <th>Simulated American</th>\n",
       "      <th>SE</th>\n",
       "      <th>Closed Form European</th>\n",
       "      <th>Early Exercise Value</th>\n",
       "    </tr>\n",
       "  </thead>\n",
       "  <tbody>\n",
       "    <tr>\n",
       "      <th>0</th>\n",
       "      <td>40</td>\n",
       "      <td>0.2</td>\n",
       "      <td>1</td>\n",
       "      <td>2.310153</td>\n",
       "      <td>0.005636</td>\n",
       "      <td>2.066401</td>\n",
       "      <td>0.243752</td>\n",
       "    </tr>\n",
       "    <tr>\n",
       "      <th>1</th>\n",
       "      <td>40</td>\n",
       "      <td>0.2</td>\n",
       "      <td>2</td>\n",
       "      <td>2.863738</td>\n",
       "      <td>0.007071</td>\n",
       "      <td>2.355866</td>\n",
       "      <td>0.507872</td>\n",
       "    </tr>\n",
       "  </tbody>\n",
       "</table>\n",
       "</div>"
      ],
      "text/plain": [
       "    S  sigma  T  Simulated American        SE  Closed Form European  \\\n",
       "0  40    0.2  1            2.310153  0.005636              2.066401   \n",
       "1  40    0.2  2            2.863738  0.007071              2.355866   \n",
       "\n",
       "   Early Exercise Value  \n",
       "0              0.243752  \n",
       "1              0.507872  "
      ]
     },
     "execution_count": 11,
     "metadata": {},
     "output_type": "execute_result"
    }
   ],
   "source": [
    "summary = pd.DataFrame(table, columns=[\n",
    "    'S', 'sigma', 'T', 'Simulated American', 'SE', \n",
    "    'Closed Form European', 'Early Exercise Value'])\n",
    "summary"
   ]
  },
  {
   "cell_type": "markdown",
   "metadata": {},
   "source": [
    "# GHS and Capriotti Importance Sampling"
   ]
  },
  {
   "cell_type": "markdown",
   "metadata": {},
   "source": [
    "## GHS Method"
   ]
  },
  {
   "cell_type": "code",
   "execution_count": 95,
   "metadata": {
    "collapsed": true
   },
   "outputs": [],
   "source": [
    "from scipy.optimize import newton, least_squares\n",
    "\n",
    "def standard_mc(S0, K, sigma, r, div, \n",
    "                T, n_steps, size):\n",
    "    dt = T/n_steps\n",
    "    Z = np.random.normal(size=size)\n",
    "    S = S0*np.exp(sigma*np.sqrt(T)*Z+(\n",
    "        r-0.5*sigma**2)*T)\n",
    "    sample = np.exp(-r*T)*np.clip(S-K, 0, None)\n",
    "    sample_mean = np.mean(sample)\n",
    "    se = stats.sem(sample, ddof=0)\n",
    "    return sample, sample_mean, se\n",
    "\n",
    "def ghs_mc(S0, K, sigma, r, div, \n",
    "           T, n_steps, size):\n",
    "    dt = T/n_steps\n",
    "    Z = np.random.normal(size=size)\n",
    "    def f(m):\n",
    "        y = S0*np.exp(sigma*np.sqrt(T)*m+(\n",
    "            r-0.5*sigma**2)*T)\n",
    "        return (sigma*np.sqrt(T)*y)/(y-K)-m\n",
    "    m0 = (np.log(K/S0)-(r-0.5*sigma**2)*T)/(\n",
    "        sigma*np.sqrt(T)) + K/10e6\n",
    "    m = newton(f, m0)\n",
    "    S = S0*np.exp(sigma*np.sqrt(T)*(Z+m)+(\n",
    "        r-0.5*sigma**2)*T)\n",
    "    sample = np.exp(-r*T)*np.clip(\n",
    "        S-K, 0, None)*np.exp(-m*Z-0.5*m**2)\n",
    "    sample_mean = np.mean(sample)\n",
    "    se = stats.sem(sample, ddof=0)\n",
    "    return sample, sample_mean, se, m\n",
    "\n",
    "def capriotti_mc(S0, K, sigma, r, div, \n",
    "                 T, n_steps, size):\n",
    "    dt = T/n_steps\n",
    "    Z = np.random.normal(size=size)\n",
    "    def resid(theta):\n",
    "        S = S0*np.exp(sigma*np.sqrt(T)*Z+(\n",
    "            r-0.5*sigma**2)*T)\n",
    "        G = np.exp(-r*T)*np.clip(S-K, 0, None)\n",
    "        W_theta = np.exp(-theta*Z+0.5*theta**2)\n",
    "        return G*np.sqrt(W_theta)\n",
    "    opt_out = least_squares(resid, 1, method='lm')\n",
    "    m = opt_out['x'][0]\n",
    "    S = S0*np.exp(sigma*np.sqrt(T)*(Z+m)+(\n",
    "        r-0.5*sigma**2)*T)\n",
    "    sample = np.exp(-r*T)*np.clip(\n",
    "        S-K, 0, None)*np.exp(-m*Z-0.5*m**2)\n",
    "    sample_mean = np.mean(sample)\n",
    "    se = stats.sem(sample, ddof=0)\n",
    "    return sample, sample_mean, se, m\n",
    "\n",
    "def capriotti_mc_2dopt(S0, K, sigma, r, div, \n",
    "                       T, n_steps, size):\n",
    "    dt = T/n_steps\n",
    "    Z = np.random.normal(size=size)\n",
    "    def resid(theta):\n",
    "        m, s = theta[0], theta[1]\n",
    "        S = S0*np.exp(sigma*np.sqrt(T)*Z+(\n",
    "            r-0.5*sigma**2)*T)\n",
    "        G = np.exp(-r*T)*np.clip(S-K, 0, None)\n",
    "        W_theta = s*np.exp(-0.5*(Z**2-((Z-m)/s)**2))\n",
    "        return G*np.sqrt(W_theta)\n",
    "    opt_out = least_squares(\n",
    "        resid, np.array([1,0.6]), method='lm')\n",
    "    m, s = opt_out['x'][0], opt_out['x'][1]\n",
    "    X = np.random.normal(m, s, size=size)\n",
    "    S = S0*np.exp(sigma*np.sqrt(T)*X+(\n",
    "        r-0.5*sigma**2)*T)\n",
    "    W = s*np.exp(-0.5*(X**2-((X-m)/s)**2))\n",
    "    sample = np.exp(-r*T)*np.clip(\n",
    "        S-K, 0, None)*W\n",
    "    sample_mean = np.mean(sample)\n",
    "    se = stats.sem(sample, ddof=0)\n",
    "    return sample, sample_mean, se, m, s\n",
    "        \n",
    "    "
   ]
  },
  {
   "cell_type": "code",
   "execution_count": 73,
   "metadata": {},
   "outputs": [
    {
     "name": "stdout",
     "output_type": "stream",
     "text": [
      "\n",
      "    Standard Monte Carlo, K=120:\n",
      "    Price = 3.1873007231456136, SE = 0.0845664180964543\n",
      "\n",
      "\n",
      "    GHS Importantance Sampling, K=120:\n",
      "    Price = 3.218273618850227, SE = 0.02238118486963999\n",
      "\n",
      "\n",
      "    Standard Monte Carlo, K=140:\n",
      "    Price = 0.7796532195664344, SE = 0.042337653131319035\n",
      "\n",
      "\n",
      "    GHS Importantance Sampling, K=140:\n",
      "    Price = 0.7803352637969179, SE = 0.006771858007465234\n",
      "\n",
      "\n",
      "    Standard Monte Carlo, K=160:\n",
      "    Price = 0.16663257579415966, SE = 0.018700978756931275\n",
      "\n",
      "\n",
      "    GHS Importantance Sampling, K=160:\n",
      "    Price = 0.15966767729065617, SE = 0.001614465090058512\n",
      "\n"
     ]
    }
   ],
   "source": [
    "table = []\n",
    "for K in [120, 140, 160]:\n",
    "    _, price, se = standard_mc(\n",
    "        S0=100, K=K, sigma=0.2, \n",
    "        r=0.05, div=0, T=1, \n",
    "        n_steps=50, size=10000)\n",
    "    print('''\n",
    "    Standard Monte Carlo, K={}:\n",
    "    Price = {}, SE = {}\\n'''.format(K, price, se))\n",
    "    _, price_ghs, se_ghs, m = ghs_mc(\n",
    "        S0=100, K=K, sigma=0.2, \n",
    "        r=0.05, div=0, T=1, \n",
    "        n_steps=50, size=10000)\n",
    "    print('''\n",
    "    GHS Importantance Sampling, K={}:\n",
    "    Price = {}, SE = {}\\n'''.format(K, price_ghs, se_ghs))\n",
    "    bsp = bs(0, 100, K, 1, 0.2, 0.05)[0]\n",
    "    table.append([K, bsp, price, se, m, price_ghs, se_ghs])"
   ]
  },
  {
   "cell_type": "code",
   "execution_count": 74,
   "metadata": {},
   "outputs": [
    {
     "data": {
      "text/html": [
       "<div>\n",
       "<style>\n",
       "    .dataframe thead tr:only-child th {\n",
       "        text-align: right;\n",
       "    }\n",
       "\n",
       "    .dataframe thead th {\n",
       "        text-align: left;\n",
       "    }\n",
       "\n",
       "    .dataframe tbody tr th {\n",
       "        vertical-align: top;\n",
       "    }\n",
       "</style>\n",
       "<table border=\"1\" class=\"dataframe\">\n",
       "  <thead>\n",
       "    <tr style=\"text-align: right;\">\n",
       "      <th></th>\n",
       "      <th>Strike</th>\n",
       "      <th>BS Price</th>\n",
       "      <th>Std MC Price</th>\n",
       "      <th>SE</th>\n",
       "      <th>m hat</th>\n",
       "      <th>GHS Price</th>\n",
       "      <th>SE</th>\n",
       "    </tr>\n",
       "  </thead>\n",
       "  <tbody>\n",
       "    <tr>\n",
       "      <th>0</th>\n",
       "      <td>120</td>\n",
       "      <td>3.247477</td>\n",
       "      <td>3.187301</td>\n",
       "      <td>0.084566</td>\n",
       "      <td>1.484927</td>\n",
       "      <td>3.218274</td>\n",
       "      <td>0.022381</td>\n",
       "    </tr>\n",
       "    <tr>\n",
       "      <th>1</th>\n",
       "      <td>140</td>\n",
       "      <td>0.784965</td>\n",
       "      <td>0.779653</td>\n",
       "      <td>0.042338</td>\n",
       "      <td>2.046545</td>\n",
       "      <td>0.780335</td>\n",
       "      <td>0.006772</td>\n",
       "    </tr>\n",
       "    <tr>\n",
       "      <th>2</th>\n",
       "      <td>160</td>\n",
       "      <td>0.158954</td>\n",
       "      <td>0.166633</td>\n",
       "      <td>0.018701</td>\n",
       "      <td>2.600200</td>\n",
       "      <td>0.159668</td>\n",
       "      <td>0.001614</td>\n",
       "    </tr>\n",
       "  </tbody>\n",
       "</table>\n",
       "</div>"
      ],
      "text/plain": [
       "   Strike  BS Price  Std MC Price        SE     m hat  GHS Price        SE\n",
       "0     120  3.247477      3.187301  0.084566  1.484927   3.218274  0.022381\n",
       "1     140  0.784965      0.779653  0.042338  2.046545   0.780335  0.006772\n",
       "2     160  0.158954      0.166633  0.018701  2.600200   0.159668  0.001614"
      ]
     },
     "execution_count": 74,
     "metadata": {},
     "output_type": "execute_result"
    }
   ],
   "source": [
    "summary = pd.DataFrame(table, columns=[\n",
    "    'Strike', 'BS Price', 'Std MC Price', 'SE', 'm hat', \n",
    "    'GHS Price', 'SE'])\n",
    "summary"
   ]
  },
  {
   "cell_type": "markdown",
   "metadata": {},
   "source": [
    "## Capriotti Method"
   ]
  },
  {
   "cell_type": "code",
   "execution_count": 79,
   "metadata": {},
   "outputs": [
    {
     "name": "stdout",
     "output_type": "stream",
     "text": [
      "\n",
      "    Capriotti Importantance Sampling, K=120:\n",
      "    Price = 3.2221674200398107, SE = 0.021767249389525834\n",
      "\n",
      "\n",
      "    Capriotti Importantance Sampling, K=140:\n",
      "    Price = 0.7693660057898325, SE = 0.00669979087195573\n",
      "\n",
      "\n",
      "    Capriotti Importantance Sampling, K=160:\n",
      "    Price = 0.16048166685096502, SE = 0.001604889018391324\n",
      "\n"
     ]
    }
   ],
   "source": [
    "table = []\n",
    "for K in [120, 140, 160]:\n",
    "    _, price_cap, se_cap, m = capriotti_mc(\n",
    "        S0=100, K=K, sigma=0.2, \n",
    "        r=0.05, div=0, T=1, \n",
    "        n_steps=50, size=10000)\n",
    "    print('''\n",
    "    Capriotti Importantance Sampling, K={}:\n",
    "    Price = {}, SE = {}\\n'''.format(K, price_cap, se_cap))\n",
    "    bsp = bs(0, 100, K, 1, 0.2, 0.05)[0]\n",
    "    table.append([K, m, price_cap, se_cap])"
   ]
  },
  {
   "cell_type": "code",
   "execution_count": 80,
   "metadata": {},
   "outputs": [
    {
     "data": {
      "text/html": [
       "<div>\n",
       "<style>\n",
       "    .dataframe thead tr:only-child th {\n",
       "        text-align: right;\n",
       "    }\n",
       "\n",
       "    .dataframe thead th {\n",
       "        text-align: left;\n",
       "    }\n",
       "\n",
       "    .dataframe tbody tr th {\n",
       "        vertical-align: top;\n",
       "    }\n",
       "</style>\n",
       "<table border=\"1\" class=\"dataframe\">\n",
       "  <thead>\n",
       "    <tr style=\"text-align: right;\">\n",
       "      <th></th>\n",
       "      <th>Strike</th>\n",
       "      <th>m hat</th>\n",
       "      <th>Capriotti Price</th>\n",
       "      <th>SE</th>\n",
       "    </tr>\n",
       "  </thead>\n",
       "  <tbody>\n",
       "    <tr>\n",
       "      <th>0</th>\n",
       "      <td>120</td>\n",
       "      <td>1.673981</td>\n",
       "      <td>3.222167</td>\n",
       "      <td>0.021767</td>\n",
       "    </tr>\n",
       "    <tr>\n",
       "      <th>1</th>\n",
       "      <td>140</td>\n",
       "      <td>2.211192</td>\n",
       "      <td>0.769366</td>\n",
       "      <td>0.006700</td>\n",
       "    </tr>\n",
       "    <tr>\n",
       "      <th>2</th>\n",
       "      <td>160</td>\n",
       "      <td>2.800994</td>\n",
       "      <td>0.160482</td>\n",
       "      <td>0.001605</td>\n",
       "    </tr>\n",
       "  </tbody>\n",
       "</table>\n",
       "</div>"
      ],
      "text/plain": [
       "   Strike     m hat  Capriotti Price        SE\n",
       "0     120  1.673981         3.222167  0.021767\n",
       "1     140  2.211192         0.769366  0.006700\n",
       "2     160  2.800994         0.160482  0.001605"
      ]
     },
     "execution_count": 80,
     "metadata": {},
     "output_type": "execute_result"
    }
   ],
   "source": [
    "summary = pd.DataFrame(table, columns=[\n",
    "    'Strike', 'm hat', 'Capriotti Price', 'SE'])\n",
    "summary"
   ]
  },
  {
   "cell_type": "markdown",
   "metadata": {},
   "source": [
    "## Capriotti Method with Both $m$ and $s^2$"
   ]
  },
  {
   "cell_type": "code",
   "execution_count": 102,
   "metadata": {},
   "outputs": [
    {
     "name": "stdout",
     "output_type": "stream",
     "text": [
      "\n",
      "    Capriotti Importantance Sampling, K=120:\n",
      "    Price = 3.2422467794496246, SE = 0.011497775330273638\n",
      "\n",
      "\n",
      "    Capriotti Importantance Sampling, K=140:\n",
      "    Price = 0.7803004463362502, SE = 0.002993015991838408\n",
      "\n",
      "\n",
      "    Capriotti Importantance Sampling, K=160:\n",
      "    Price = 0.1587229811302735, SE = 0.0006873805576155507\n",
      "\n"
     ]
    }
   ],
   "source": [
    "table = []\n",
    "for K in [120, 140, 160]:\n",
    "    _, price_cap, se_cap, m, s = capriotti_mc_2dopt(\n",
    "        S0=100, K=K, sigma=0.2, \n",
    "        r=0.05, div=0, T=1, \n",
    "        n_steps=50, size=10000)\n",
    "    print('''\n",
    "    Capriotti Importantance Sampling, K={}:\n",
    "    Price = {}, SE = {}\\n'''.format(K, price_cap, se_cap))\n",
    "    table.append([K, m, s, price_cap, se_cap])"
   ]
  },
  {
   "cell_type": "code",
   "execution_count": 103,
   "metadata": {},
   "outputs": [
    {
     "data": {
      "text/html": [
       "<div>\n",
       "<style>\n",
       "    .dataframe thead tr:only-child th {\n",
       "        text-align: right;\n",
       "    }\n",
       "\n",
       "    .dataframe thead th {\n",
       "        text-align: left;\n",
       "    }\n",
       "\n",
       "    .dataframe tbody tr th {\n",
       "        vertical-align: top;\n",
       "    }\n",
       "</style>\n",
       "<table border=\"1\" class=\"dataframe\">\n",
       "  <thead>\n",
       "    <tr style=\"text-align: right;\">\n",
       "      <th></th>\n",
       "      <th>Strike</th>\n",
       "      <th>m hat</th>\n",
       "      <th>s hat</th>\n",
       "      <th>Capriotti Price</th>\n",
       "      <th>SE</th>\n",
       "    </tr>\n",
       "  </thead>\n",
       "  <tbody>\n",
       "    <tr>\n",
       "      <th>0</th>\n",
       "      <td>120</td>\n",
       "      <td>1.754983</td>\n",
       "      <td>0.627054</td>\n",
       "      <td>3.242247</td>\n",
       "      <td>0.011498</td>\n",
       "    </tr>\n",
       "    <tr>\n",
       "      <th>1</th>\n",
       "      <td>140</td>\n",
       "      <td>2.286233</td>\n",
       "      <td>0.499687</td>\n",
       "      <td>0.780300</td>\n",
       "      <td>0.002993</td>\n",
       "    </tr>\n",
       "    <tr>\n",
       "      <th>2</th>\n",
       "      <td>160</td>\n",
       "      <td>2.830673</td>\n",
       "      <td>0.462060</td>\n",
       "      <td>0.158723</td>\n",
       "      <td>0.000687</td>\n",
       "    </tr>\n",
       "  </tbody>\n",
       "</table>\n",
       "</div>"
      ],
      "text/plain": [
       "   Strike     m hat     s hat  Capriotti Price        SE\n",
       "0     120  1.754983  0.627054         3.242247  0.011498\n",
       "1     140  2.286233  0.499687         0.780300  0.002993\n",
       "2     160  2.830673  0.462060         0.158723  0.000687"
      ]
     },
     "execution_count": 103,
     "metadata": {},
     "output_type": "execute_result"
    }
   ],
   "source": [
    "summary = pd.DataFrame(table, columns=[\n",
    "    'Strike', 'm hat', 's hat', 'Capriotti Price', 'SE'])\n",
    "summary"
   ]
  },
  {
   "cell_type": "markdown",
   "metadata": {},
   "source": [
    "We can see that the standard error is further reduced when we include $s^2$ in the non-linear least square optimization."
   ]
  }
 ],
 "metadata": {
  "kernelspec": {
   "display_name": "Python 3",
   "language": "python",
   "name": "python3"
  },
  "language_info": {
   "codemirror_mode": {
    "name": "ipython",
    "version": 3
   },
   "file_extension": ".py",
   "mimetype": "text/x-python",
   "name": "python",
   "nbconvert_exporter": "python",
   "pygments_lexer": "ipython3",
   "version": "3.6.4"
  }
 },
 "nbformat": 4,
 "nbformat_minor": 2
}
