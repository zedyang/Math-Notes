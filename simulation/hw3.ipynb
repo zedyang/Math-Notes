{
 "cells": [
  {
   "cell_type": "code",
   "execution_count": 1,
   "metadata": {
    "collapsed": true
   },
   "outputs": [],
   "source": [
    "from abc import ABCMeta, abstractmethod\n",
    "import time\n",
    "import numpy as np\n",
    "import pandas as pd\n",
    "import matplotlib.pyplot as plt\n",
    "import seaborn as sns\n",
    "plt.style.use('ggplot')\n",
    "plt.rc('text', usetex=True)\n",
    "plt.rc('font', family='serif', size=15)\n",
    "%matplotlib inline\n",
    "\n",
    "import scipy.stats as stats\n",
    "from scipy.stats import norm\n",
    "from progressbar import ProgressBar"
   ]
  },
  {
   "cell_type": "code",
   "execution_count": 2,
   "metadata": {
    "collapsed": true
   },
   "outputs": [],
   "source": [
    "def bs(t, S, K, T, sigma, r, div=0):\n",
    "    tau = T - t\n",
    "    rexp, dexp = np.exp(-r*tau), np.exp(-div*tau)\n",
    "    d1 = (np.log(S/K) + (r-div+0.5*sigma**2)*tau) / (\n",
    "        sigma*np.sqrt(tau))\n",
    "    d2 = d1 - sigma*np.sqrt(tau)\n",
    "    call = S*dexp*norm.cdf(d1) - K*rexp*norm.cdf(d2)\n",
    "    put = K*rexp - S*dexp + call\n",
    "    return call, put\n",
    "\n",
    "def bs_digital(t, S, K, T, sigma, r ,div=0):\n",
    "    tau = T - t\n",
    "    rexp, dexp = np.exp(-r*tau), np.exp(-div*tau)\n",
    "    d2 = (np.log(S/K) + (r-div-0.5*sigma**2)*tau) / (\n",
    "        sigma*np.sqrt(tau))\n",
    "    call = rexp*norm.cdf(d2)\n",
    "    put = rexp - call\n",
    "    return call, put\n",
    "\n",
    "def bs_down_in(t, S, K, H, T, sigma, r, div=0):\n",
    "    tau = T - t\n",
    "    rexp, dexp = np.exp(-r*tau), np.exp(-div*tau)\n",
    "    lam = (r-div+0.5*sigma**2)/(sigma**2)\n",
    "    y1 = np.log(H**2/(S*K)) / (\n",
    "        sigma*np.sqrt(tau)) + lam*sigma*np.sqrt(tau)\n",
    "    y2 = y1-sigma*np.sqrt(tau)\n",
    "    call = S*dexp*((H/S)**(2*lam))*norm.cdf(y1) - (\n",
    "        K*rexp*((H/S)**(2*lam-2))*norm.cdf(y2))\n",
    "    return call"
   ]
  },
  {
   "cell_type": "code",
   "execution_count": 37,
   "metadata": {
    "collapsed": true
   },
   "outputs": [],
   "source": [
    "class MonteCarloEstimator(object):\n",
    "    \n",
    "    @staticmethod\n",
    "    def vanilla_call(K, tau, r, L=None):\n",
    "        def __payoff(paths, paths_a=None):\n",
    "            call = np.fmax(\n",
    "                0, np.exp(-r*tau)*(paths[-1,:]-K))\n",
    "            if paths_a is not None:\n",
    "                call += np.fmax(\n",
    "                    0, np.exp(-r*tau)*(paths_a[-1,:]-K))\n",
    "                call /= 2\n",
    "            if L is not None:\n",
    "                Phi_L = norm.cdf(L)\n",
    "                call *= (1-Phi_L)\n",
    "            return call\n",
    "        return __payoff\n",
    "    \n",
    "    @staticmethod\n",
    "    def vanilla_call_parity(K, S0, tau, r):\n",
    "        def __payoff(paths, paths_a=None):\n",
    "            put = np.fmax(\n",
    "                0, np.exp(-r*tau)*(K-paths[-1,:]))\n",
    "            return put + S0 - K*np.exp(-r*tau)\n",
    "        return __payoff\n",
    "        \n",
    "    @staticmethod\n",
    "    def arithmetic_asian_call(K, tau, r):\n",
    "        def __payoff(paths, paths_a=None):\n",
    "            call = np.fmax(\n",
    "                0, np.exp(-r*tau)*(np.mean(paths,axis=0)-K))\n",
    "            if paths_a is not None:\n",
    "                call += np.fmax(0, np.exp(-r*tau)*(\n",
    "                    np.mean(paths_a,axis=0)-K))\n",
    "                call /= 2\n",
    "            return call\n",
    "        return __payoff\n",
    "    \n",
    "    @staticmethod\n",
    "    def down_in_digital(K, H, tau, r, \n",
    "                        stop=False, \n",
    "                        sigma=None, div=0):\n",
    "        def __payoff(paths):\n",
    "            pay = 10000.0*(paths[-1,:] > K)*(\n",
    "                np.min(paths,axis=0) < H)\n",
    "            pay *= np.exp(-r*tau)\n",
    "            return pay\n",
    "        \n",
    "        def __conditional_mc_payoff(paths, \n",
    "                                    stopping_times,\n",
    "                                    rn_derivatives=None):\n",
    "            n_steps, size = paths.shape\n",
    "            dt = tau/n_steps\n",
    "            pay = np.zeros(size)\n",
    "            for j, stop in enumerate(stopping_times):\n",
    "                if stop < 0:\n",
    "                    continue\n",
    "                else:\n",
    "                    t = stop*dt\n",
    "                    pay[j] = np.exp(-r*t)*bs_digital(\n",
    "                        0, paths[stop-1, j], \n",
    "                        K, tau-t, sigma, r ,div=0)[0]*10000.0\n",
    "            return pay\n",
    "        if stop: return __conditional_mc_payoff\n",
    "        return __payoff\n",
    "    \n",
    "    @staticmethod\n",
    "    def down_in_call(K, H, tau, r, \n",
    "                     stop=False, \n",
    "                     sigma=None, \n",
    "                     div=0, theta=0):\n",
    "        def __payoff(paths):\n",
    "            pay = np.fmax(\n",
    "                0, (paths[-1,:]-K))*(\n",
    "                np.min(paths,axis=0) < H)\n",
    "            pay *= np.exp(-r*tau)\n",
    "            return pay\n",
    "        \n",
    "        def __conditional_mc_payoff(paths, \n",
    "                                    stopping_times,\n",
    "                                    rn_derivatives=None):\n",
    "            n_steps, size = paths.shape\n",
    "            dt = tau/n_steps\n",
    "            pay = np.zeros(size)\n",
    "            for j, stop in enumerate(stopping_times):\n",
    "                if stop < 0:\n",
    "                    continue\n",
    "                else:\n",
    "                    t = stop*dt\n",
    "                    pay[j] = np.exp(-r*t)*bs(\n",
    "                        0, paths[stop-1, j], \n",
    "                        K, tau-t, sigma, r ,div=0)[0]\n",
    "                    if rn_derivatives is not None:\n",
    "                        pay[j] *= rn_derivatives[j]\n",
    "            return pay\n",
    "        if stop: return __conditional_mc_payoff\n",
    "        return __payoff\n",
    "    \n",
    "    @staticmethod\n",
    "    def gbm(S0, T, r, sigma, div=0, \n",
    "            antithetic=False, truncate=None, \n",
    "            stop=None, theta=0):\n",
    "        def __gbm(n_steps, size):\n",
    "            dt = T/n_steps\n",
    "            print(\"[gbm]: Initializing grids...\")\n",
    "            time.sleep(0.5)\n",
    "            S = np.random.normal(size=(n_steps, size))\n",
    "            bar = ProgressBar()\n",
    "            for j in bar(range(size)):\n",
    "                z = S[:,j]\n",
    "                logr = np.cumsum(sigma*np.sqrt(dt)*z + (\n",
    "                    r-div-0.5*sigma**2)*dt)\n",
    "                S[:,j] = S0*np.exp(logr)\n",
    "            return S,\n",
    "        \n",
    "        def __antithetic_gbm(n_steps, size):\n",
    "            dt = T/n_steps\n",
    "            print(\"[antithetic gbm]: Initializing grids...\")\n",
    "            time.sleep(0.5)\n",
    "            S = np.random.normal(size=(n_steps, size))\n",
    "            S_a = -S\n",
    "            bar = ProgressBar()\n",
    "            for j in bar(range(size)):\n",
    "                z = S[:,j]; z_a = S_a[:,j]\n",
    "                logr = np.cumsum(sigma*np.sqrt(dt)*z + (\n",
    "                    r-div-0.5*sigma**2)*dt)\n",
    "                logr_a = np.cumsum(sigma*np.sqrt(dt)*z_a + (\n",
    "                    r-div-0.5*sigma**2)*dt)\n",
    "                S[:,j] = S0*np.exp(logr)\n",
    "                S_a[:,j] = S0*np.exp(logr_a)\n",
    "            return S, S_a,\n",
    "        \n",
    "        def __truncated_gbm(n_steps, size):\n",
    "            # Importance sampling\n",
    "            # truncate = K\n",
    "            dt = T/n_steps\n",
    "            L = (np.log(truncate/S0) - (\n",
    "                r-div-0.5*sigma**2)*T) / (sigma*np.sqrt(T))\n",
    "            Phi_L = norm.cdf(L)\n",
    "            print(\"[truncated gbm]: warning \", \n",
    "                  \"only final prices generated...\")\n",
    "            X = np.random.uniform(\n",
    "                size=(2, size))*(1-Phi_L) + Phi_L\n",
    "            X = norm.ppf(X)\n",
    "            x = X[-1,:]\n",
    "            logr = sigma*np.sqrt(T)*x + (\n",
    "                r-div-0.5*sigma**2)*T\n",
    "            X[-1,:] = S0*np.exp(logr)\n",
    "            return X,\n",
    "        \n",
    "        def __stopped_gbm(n_steps, size):\n",
    "            dt = T/n_steps\n",
    "            print(\"[stopped gbm]: Initializing grids...\")\n",
    "            time.sleep(0.5)\n",
    "            stopping_times = -np.ones(size, dtype=np.int8)\n",
    "            rn_derivatives = np.ones(size)\n",
    "            S = np.zeros((n_steps+1, size))\n",
    "            S[0,:] = np.ones(size)*S0\n",
    "            bar = ProgressBar()\n",
    "            for j in bar(range(size)):\n",
    "                for t in range(1,n_steps+1):\n",
    "                    z = np.random.normal(\n",
    "                        loc=theta)\n",
    "                    logr = sigma*np.sqrt(dt)*z + (\n",
    "                        r-div-0.5*sigma**2)*dt\n",
    "                    S[t,j] = S[t-1,j] * np.exp(logr)\n",
    "                    if stop(t, S[t,j]):\n",
    "                        stopping_times[j] = t\n",
    "                        if theta != 0:\n",
    "                            rn_derivatives[j] *= np.exp(\n",
    "                                (-theta*z)+(0.5*theta**2))\n",
    "                        break \n",
    "            return S[1:,:], stopping_times, rn_derivatives\n",
    "        \n",
    "        if stop is not None: return __stopped_gbm\n",
    "        if truncate is not None: return __truncated_gbm    \n",
    "        return __antithetic_gbm if antithetic else __gbm\n",
    "    \n",
    "    @staticmethod\n",
    "    def control_S_T(S0, tau, r):\n",
    "        def __control(paths, paths_a=None):\n",
    "            control = paths[-1,:]\n",
    "            if paths_a is not None:\n",
    "                control += paths_a[-1,:]\n",
    "                control /= 2\n",
    "            gbm_mean = S0*np.exp(r*tau)\n",
    "            adj = np.mean(control) - gbm_mean\n",
    "            return control, adj\n",
    "        return __control\n",
    "    \n",
    "    @staticmethod\n",
    "    def control_geometric_asian_call(\n",
    "        S0, K, tau, sigma, r, div=0, n_steps=None):\n",
    "        def __control(paths, paths_a=None):\n",
    "            control = np.fmax(\n",
    "                0, np.exp(-r*tau)*(\n",
    "                stats.mstats.gmean(paths,axis=0)-K))\n",
    "            if paths_a is not None:\n",
    "                control += np.fmax(\n",
    "                    0, np.exp(-r*tau)*(\n",
    "                    stats.mstats.gmean(paths,axis=0)-K))\n",
    "                control /= 2\n",
    "            if n_steps is None:\n",
    "                # asymptotic result\n",
    "                sigma_star = sigma / np.sqrt(3)\n",
    "                div_star = ((r+div)/2) + (sigma**2/12)\n",
    "            else:\n",
    "                N = n_steps\n",
    "                sigma_star = sigma*np.sqrt((N+1)*(2*N+1)/(6*N**2))\n",
    "                div_star = r*((N-1)/(2*N)) + div*((N+1)/(2*N)) + (\n",
    "                    sigma**2 * ((N+1)*(N-1)/(12*N**2)))\n",
    "            geom_asian_mean = bs(\n",
    "                0, S0, K, tau, sigma_star, r, div_star)[0]\n",
    "            adj = np.mean(control) - geom_asian_mean\n",
    "            return control, adj\n",
    "        return __control\n",
    "        \n",
    "    def __init__(self, sampler=None, payoff=None, control=None):\n",
    "        self.path_sampler = sampler\n",
    "        self.payoff = payoff\n",
    "        self.control = control\n",
    "        \n",
    "    def estimate(self, n_steps, n_size):\n",
    "        assert (self.path_sampler and self.payoff)\n",
    "        sde_paths = self.path_sampler(n_steps, n_size)\n",
    "        sample = self.payoff(*sde_paths)\n",
    "        sample_mean, se = np.mean(sample), stats.sem(sample, ddof=0)\n",
    "        if self.control is not None:\n",
    "            control, adj = self.control(*sde_paths)\n",
    "            cov_xy = np.cov(control, sample)\n",
    "            rho = np.corrcoef(control, sample)[0,1]\n",
    "            a_hat = -cov_xy[0,1]/cov_xy[0,0]\n",
    "            sample_mean += a_hat * adj\n",
    "            se *= np.sqrt(1-rho**2)\n",
    "        return sample, sample_mean, se\n",
    "    \n",
    "    def reset_models(self, sampler=None, payoff=None, control=None):\n",
    "        if sampler: \n",
    "            self.path_sampler = sampler\n",
    "        if payoff: \n",
    "            self.payoff = payoff\n",
    "        if control:\n",
    "            self.control= control\n",
    "    \n",
    "    "
   ]
  },
  {
   "cell_type": "markdown",
   "metadata": {},
   "source": [
    "# Antithetic Variables"
   ]
  },
  {
   "cell_type": "markdown",
   "metadata": {},
   "source": [
    "## Vanilla Call Standard MC"
   ]
  },
  {
   "cell_type": "code",
   "execution_count": 16,
   "metadata": {
    "collapsed": true
   },
   "outputs": [],
   "source": [
    "table = []"
   ]
  },
  {
   "cell_type": "code",
   "execution_count": 17,
   "metadata": {},
   "outputs": [
    {
     "name": "stdout",
     "output_type": "stream",
     "text": [
      "[gbm]: Initializing grids...\n"
     ]
    },
    {
     "name": "stderr",
     "output_type": "stream",
     "text": [
      "100% (1000 of 1000) |#####################| Elapsed Time: 0:00:00 Time: 0:00:00\n"
     ]
    },
    {
     "name": "stdout",
     "output_type": "stream",
     "text": [
      "Vanila call K=95:\n",
      "  Price = 10.64439015576382\n",
      "    SE = 0.27573932311576904\n",
      "\n",
      "[gbm]: Initializing grids...\n"
     ]
    },
    {
     "name": "stderr",
     "output_type": "stream",
     "text": [
      "100% (1000 of 1000) |#####################| Elapsed Time: 0:00:00 Time: 0:00:00\n"
     ]
    },
    {
     "name": "stdout",
     "output_type": "stream",
     "text": [
      "Vanila call K=100:\n",
      "  Price = 6.764201837681756\n",
      "    SE = 0.2468540780718818\n",
      "\n",
      "[gbm]: Initializing grids...\n"
     ]
    },
    {
     "name": "stderr",
     "output_type": "stream",
     "text": [
      "100% (1000 of 1000) |#####################| Elapsed Time: 0:00:00 Time: 0:00:00\n"
     ]
    },
    {
     "name": "stdout",
     "output_type": "stream",
     "text": [
      "Vanila call K=105:\n",
      "  Price = 3.912480745292385\n",
      "    SE = 0.19666380834128136\n",
      "\n"
     ]
    }
   ],
   "source": [
    "mc = MonteCarloEstimator(\n",
    "    sampler = MonteCarloEstimator.gbm(\n",
    "        S0=100, T=1, r=0.05, sigma=0.1))\n",
    "\n",
    "for i, strike in enumerate([95, 100, 105]):\n",
    "    mc.reset_models(\n",
    "        payoff = MonteCarloEstimator.vanilla_call(\n",
    "            K=strike, tau=1, r=0.05))\n",
    "    _, price, se = mc.estimate(1000, 1000)\n",
    "    table.append([strike, price, se])\n",
    "    print('''Vanila call K={}:\\n  Price = {}\n",
    "    SE = {}\\n'''.format(strike, price, se))"
   ]
  },
  {
   "cell_type": "markdown",
   "metadata": {},
   "source": [
    "## Vanilla Call Antithetic"
   ]
  },
  {
   "cell_type": "code",
   "execution_count": 18,
   "metadata": {
    "scrolled": false
   },
   "outputs": [
    {
     "name": "stdout",
     "output_type": "stream",
     "text": [
      "[antithetic gbm]: Initializing grids...\n"
     ]
    },
    {
     "name": "stderr",
     "output_type": "stream",
     "text": [
      "100% (500 of 500) |#######################| Elapsed Time: 0:00:00 Time: 0:00:00\n"
     ]
    },
    {
     "name": "stdout",
     "output_type": "stream",
     "text": [
      "Vanila call K=95:\n",
      "  Price = 10.364790598532108\n",
      "    SE = 0.09406948852336663\n",
      "\n",
      "[antithetic gbm]: Initializing grids...\n"
     ]
    },
    {
     "name": "stderr",
     "output_type": "stream",
     "text": [
      "100% (500 of 500) |#######################| Elapsed Time: 0:00:00 Time: 0:00:00\n"
     ]
    },
    {
     "name": "stdout",
     "output_type": "stream",
     "text": [
      "Vanila call K=100:\n",
      "  Price = 6.58884626385324\n",
      "    SE = 0.1301069737385625\n",
      "\n",
      "[antithetic gbm]: Initializing grids...\n"
     ]
    },
    {
     "name": "stderr",
     "output_type": "stream",
     "text": [
      "100% (500 of 500) |#######################| Elapsed Time: 0:00:00 Time: 0:00:00\n"
     ]
    },
    {
     "name": "stdout",
     "output_type": "stream",
     "text": [
      "Vanila call K=105:\n",
      "  Price = 4.12154917739265\n",
      "    SE = 0.1540737723237456\n",
      "\n"
     ]
    }
   ],
   "source": [
    "mc = MonteCarloEstimator(\n",
    "    sampler = MonteCarloEstimator.gbm(\n",
    "        S0=100, T=1, r=0.05, sigma=0.1, antithetic=1))\n",
    "\n",
    "for i, strike in enumerate([95, 100, 105]):\n",
    "    time.sleep(0.5)\n",
    "    mc.reset_models(\n",
    "        payoff = MonteCarloEstimator.vanilla_call(\n",
    "            K=strike, tau=1, r=0.05))\n",
    "    _, price, se = mc.estimate(1000, 500)\n",
    "    table.append([strike, price, se])\n",
    "    print('''Vanila call K={}:\\n  Price = {}\n",
    "    SE = {}\\n'''.format(strike, price, se))"
   ]
  },
  {
   "cell_type": "code",
   "execution_count": 23,
   "metadata": {},
   "outputs": [
    {
     "data": {
      "text/html": [
       "<div>\n",
       "<style>\n",
       "    .dataframe thead tr:only-child th {\n",
       "        text-align: right;\n",
       "    }\n",
       "\n",
       "    .dataframe thead th {\n",
       "        text-align: left;\n",
       "    }\n",
       "\n",
       "    .dataframe tbody tr th {\n",
       "        vertical-align: top;\n",
       "    }\n",
       "</style>\n",
       "<table border=\"1\" class=\"dataframe\">\n",
       "  <thead>\n",
       "    <tr style=\"text-align: right;\">\n",
       "      <th></th>\n",
       "      <th></th>\n",
       "      <th>Strike</th>\n",
       "      <th>Price</th>\n",
       "      <th>SE</th>\n",
       "    </tr>\n",
       "    <tr>\n",
       "      <th>Method</th>\n",
       "      <th>case</th>\n",
       "      <th></th>\n",
       "      <th></th>\n",
       "      <th></th>\n",
       "    </tr>\n",
       "  </thead>\n",
       "  <tbody>\n",
       "    <tr>\n",
       "      <th rowspan=\"3\" valign=\"top\">Standard MC</th>\n",
       "      <th>1</th>\n",
       "      <td>95</td>\n",
       "      <td>10.644390</td>\n",
       "      <td>0.275739</td>\n",
       "    </tr>\n",
       "    <tr>\n",
       "      <th>2</th>\n",
       "      <td>100</td>\n",
       "      <td>6.764202</td>\n",
       "      <td>0.246854</td>\n",
       "    </tr>\n",
       "    <tr>\n",
       "      <th>3</th>\n",
       "      <td>105</td>\n",
       "      <td>3.912481</td>\n",
       "      <td>0.196664</td>\n",
       "    </tr>\n",
       "    <tr>\n",
       "      <th rowspan=\"3\" valign=\"top\">Antithetic Variables</th>\n",
       "      <th>1</th>\n",
       "      <td>95</td>\n",
       "      <td>10.364791</td>\n",
       "      <td>0.094069</td>\n",
       "    </tr>\n",
       "    <tr>\n",
       "      <th>2</th>\n",
       "      <td>100</td>\n",
       "      <td>6.588846</td>\n",
       "      <td>0.130107</td>\n",
       "    </tr>\n",
       "    <tr>\n",
       "      <th>3</th>\n",
       "      <td>105</td>\n",
       "      <td>4.121549</td>\n",
       "      <td>0.154074</td>\n",
       "    </tr>\n",
       "  </tbody>\n",
       "</table>\n",
       "</div>"
      ],
      "text/plain": [
       "                           Strike      Price        SE\n",
       "Method               case                             \n",
       "Standard MC          1         95  10.644390  0.275739\n",
       "                     2        100   6.764202  0.246854\n",
       "                     3        105   3.912481  0.196664\n",
       "Antithetic Variables 1         95  10.364791  0.094069\n",
       "                     2        100   6.588846  0.130107\n",
       "                     3        105   4.121549  0.154074"
      ]
     },
     "execution_count": 23,
     "metadata": {},
     "output_type": "execute_result"
    }
   ],
   "source": [
    "index = [['Standard MC', 'Antithetic Variables'], [1,2,3]]\n",
    "index = pd.MultiIndex.from_product(index, names=['Method', 'case'])\n",
    "summary = pd.DataFrame(table, columns=[\n",
    "    'Strike', 'Price', 'SE'], index=index)\n",
    "summary"
   ]
  },
  {
   "cell_type": "markdown",
   "metadata": {},
   "source": [
    "Clearly, the Antithetic Variables method has lower standard error in all cases, even if the sample size get halved (n=500) to ensure same computation cost."
   ]
  },
  {
   "cell_type": "markdown",
   "metadata": {},
   "source": [
    "# Arithmetic Asian option\n"
   ]
  },
  {
   "cell_type": "markdown",
   "metadata": {},
   "source": [
    "## Arithmetic Asian Call Standard MC"
   ]
  },
  {
   "cell_type": "code",
   "execution_count": 24,
   "metadata": {},
   "outputs": [
    {
     "name": "stdout",
     "output_type": "stream",
     "text": [
      "[gbm]: Initializing grids...\n"
     ]
    },
    {
     "name": "stderr",
     "output_type": "stream",
     "text": [
      "100% (1000 of 1000) |#####################| Elapsed Time: 0:00:00 Time: 0:00:00\n"
     ]
    },
    {
     "name": "stdout",
     "output_type": "stream",
     "text": [
      "Arithmetic Asian Call K=100:\n",
      "  Price = 3.5908349161560364\n",
      "  SE = 0.13356079852260308\n",
      "\n"
     ]
    }
   ],
   "source": [
    "table = []\n",
    "mc = MonteCarloEstimator(\n",
    "    sampler = MonteCarloEstimator.gbm(\n",
    "        S0=100, T=1, r=0.05, sigma=0.1))\n",
    "mc.reset_models(\n",
    "    payoff = MonteCarloEstimator.arithmetic_asian_call(\n",
    "        K=100, tau=1, r=0.05))\n",
    "time.sleep(0.5)\n",
    "_, price, se = mc.estimate(52, 1000)\n",
    "table.append(['Base MC', price, se])\n",
    "print('''Arithmetic Asian Call K={}:\\n  Price = {}\n",
    "  SE = {}\\n'''.format(100, price, se))"
   ]
  },
  {
   "cell_type": "markdown",
   "metadata": {},
   "source": [
    "## Arithmetic Asian Call Antithetic"
   ]
  },
  {
   "cell_type": "code",
   "execution_count": 25,
   "metadata": {},
   "outputs": [
    {
     "name": "stdout",
     "output_type": "stream",
     "text": [
      "[antithetic gbm]: Initializing grids...\n"
     ]
    },
    {
     "name": "stderr",
     "output_type": "stream",
     "text": [
      "100% (500 of 500) |#######################| Elapsed Time: 0:00:00 Time: 0:00:00\n"
     ]
    },
    {
     "name": "stdout",
     "output_type": "stream",
     "text": [
      "Arithmetic Asian Call K=100:\n",
      "  Price = 3.5805053875720962\n",
      "  SE = 0.07258388090957411\n",
      "\n"
     ]
    }
   ],
   "source": [
    "mc = MonteCarloEstimator(\n",
    "    sampler = MonteCarloEstimator.gbm(\n",
    "        S0=100, T=1, r=0.05, sigma=0.1, antithetic=1))\n",
    "mc.reset_models(\n",
    "    payoff = MonteCarloEstimator.arithmetic_asian_call(\n",
    "        K=100, tau=1, r=0.05))\n",
    "time.sleep(0.5)\n",
    "_, price, se = mc.estimate(52, 500)\n",
    "table.append(['Antithetic Variables', price, se])\n",
    "print('''Arithmetic Asian Call K={}:\\n  Price = {}\n",
    "  SE = {}\\n'''.format(100, price, se))"
   ]
  },
  {
   "cell_type": "markdown",
   "metadata": {},
   "source": [
    "## Arithmetic Asian Call, $S_T$ Controlled"
   ]
  },
  {
   "cell_type": "code",
   "execution_count": 26,
   "metadata": {},
   "outputs": [
    {
     "name": "stdout",
     "output_type": "stream",
     "text": [
      "[gbm]: Initializing grids...\n"
     ]
    },
    {
     "name": "stderr",
     "output_type": "stream",
     "text": [
      "100% (1000 of 1000) |#####################| Elapsed Time: 0:00:00 Time: 0:00:00\n"
     ]
    },
    {
     "name": "stdout",
     "output_type": "stream",
     "text": [
      "Arithmetic Asian Call K=100:\n",
      "  Price = 3.7479105355126965\n",
      "  SE = 0.07804828110527139\n",
      "\n"
     ]
    }
   ],
   "source": [
    "mc = MonteCarloEstimator(\n",
    "    sampler = MonteCarloEstimator.gbm(\n",
    "        S0=100, T=1, r=0.05, sigma=0.1),\n",
    "    payoff = MonteCarloEstimator.arithmetic_asian_call(\n",
    "        K=100, tau=1, r=0.05),\n",
    "    control = MonteCarloEstimator.control_S_T(\n",
    "        S0=100, tau=1, r=0.05)\n",
    ")\n",
    "\n",
    "_, price, se = mc.estimate(52, 1000)\n",
    "table.append(['ST Controlled', price, se])\n",
    "print('''Arithmetic Asian Call K={}:\\n  Price = {}\n",
    "  SE = {}\\n'''.format(100, price, se))"
   ]
  },
  {
   "cell_type": "markdown",
   "metadata": {},
   "source": [
    "## Arithmetic Asian Call, Geometric Asian Call Controlled (Asymptotic Parameters)"
   ]
  },
  {
   "cell_type": "code",
   "execution_count": 27,
   "metadata": {},
   "outputs": [
    {
     "name": "stdout",
     "output_type": "stream",
     "text": [
      "[antithetic gbm]: Initializing grids...\n"
     ]
    },
    {
     "name": "stderr",
     "output_type": "stream",
     "text": [
      "100% (1000 of 1000) |#####################| Elapsed Time: 0:00:00 Time: 0:00:00\n"
     ]
    },
    {
     "name": "stdout",
     "output_type": "stream",
     "text": [
      "Arithmetic Asian Call K=100:\n",
      "  Price = 3.6697697761644346\n",
      "  SE = 0.04916007093518221\n",
      "\n"
     ]
    }
   ],
   "source": [
    "mc = MonteCarloEstimator(\n",
    "    sampler = MonteCarloEstimator.gbm(\n",
    "        S0=100, T=1, r=0.05, sigma=0.1, antithetic=1),\n",
    "    payoff = MonteCarloEstimator.arithmetic_asian_call(\n",
    "        K=100, tau=1, r=0.05),\n",
    "    control = MonteCarloEstimator.control_geometric_asian_call(\n",
    "        S0=100, K=100, tau=1, sigma=0.1, r=0.05)\n",
    ")\n",
    "\n",
    "_, price, se = mc.estimate(52, 1000)\n",
    "table.append(['Geom.Asian Call Controlled (Asymptotic Formula)', \n",
    "              price, se])\n",
    "print('''Arithmetic Asian Call K={}:\\n  Price = {}\n",
    "  SE = {}\\n'''.format(100, price, se))"
   ]
  },
  {
   "cell_type": "markdown",
   "metadata": {},
   "source": [
    "## Arithmetic Asian Call, Geometric Asian Call Controlled (True Parameters)"
   ]
  },
  {
   "cell_type": "code",
   "execution_count": 28,
   "metadata": {},
   "outputs": [
    {
     "name": "stdout",
     "output_type": "stream",
     "text": [
      "[antithetic gbm]: Initializing grids...\n"
     ]
    },
    {
     "name": "stderr",
     "output_type": "stream",
     "text": [
      "100% (1000 of 1000) |#####################| Elapsed Time: 0:00:00 Time: 0:00:00\n"
     ]
    },
    {
     "name": "stdout",
     "output_type": "stream",
     "text": [
      "Arithmetic Asian Call K=100:\n",
      "  Price = 3.6215009915348864\n",
      "  SE = 0.04835164879616438\n",
      "\n"
     ]
    }
   ],
   "source": [
    "mc = MonteCarloEstimator(\n",
    "    sampler = MonteCarloEstimator.gbm(\n",
    "        S0=100, T=1, r=0.05, sigma=0.1, antithetic=1),\n",
    "    payoff = MonteCarloEstimator.arithmetic_asian_call(\n",
    "        K=100, tau=1, r=0.05),\n",
    "    control = MonteCarloEstimator.control_geometric_asian_call(\n",
    "        S0=100, K=100, tau=1, sigma=0.1, r=0.05, n_steps=52)\n",
    ")\n",
    "\n",
    "_, price, se = mc.estimate(52, 1000)\n",
    "table.append(['Geom.Asian Call Controlled (True Formula)', \n",
    "              price, se])\n",
    "print('''Arithmetic Asian Call K={}:\\n  Price = {}\n",
    "  SE = {}\\n'''.format(100, price, se))"
   ]
  },
  {
   "cell_type": "code",
   "execution_count": 29,
   "metadata": {},
   "outputs": [
    {
     "data": {
      "text/html": [
       "<div>\n",
       "<style>\n",
       "    .dataframe thead tr:only-child th {\n",
       "        text-align: right;\n",
       "    }\n",
       "\n",
       "    .dataframe thead th {\n",
       "        text-align: left;\n",
       "    }\n",
       "\n",
       "    .dataframe tbody tr th {\n",
       "        vertical-align: top;\n",
       "    }\n",
       "</style>\n",
       "<table border=\"1\" class=\"dataframe\">\n",
       "  <thead>\n",
       "    <tr style=\"text-align: right;\">\n",
       "      <th></th>\n",
       "      <th>Method</th>\n",
       "      <th>Price</th>\n",
       "      <th>SE</th>\n",
       "    </tr>\n",
       "  </thead>\n",
       "  <tbody>\n",
       "    <tr>\n",
       "      <th>0</th>\n",
       "      <td>Base MC</td>\n",
       "      <td>3.590835</td>\n",
       "      <td>0.133561</td>\n",
       "    </tr>\n",
       "    <tr>\n",
       "      <th>1</th>\n",
       "      <td>Antithetic Variables</td>\n",
       "      <td>3.580505</td>\n",
       "      <td>0.072584</td>\n",
       "    </tr>\n",
       "    <tr>\n",
       "      <th>2</th>\n",
       "      <td>ST Controlled</td>\n",
       "      <td>3.747911</td>\n",
       "      <td>0.078048</td>\n",
       "    </tr>\n",
       "    <tr>\n",
       "      <th>3</th>\n",
       "      <td>Geom.Asian Call Controlled (Asymptotic Formula)</td>\n",
       "      <td>3.669770</td>\n",
       "      <td>0.049160</td>\n",
       "    </tr>\n",
       "    <tr>\n",
       "      <th>4</th>\n",
       "      <td>Geom.Asian Call Controlled (True Formula)</td>\n",
       "      <td>3.621501</td>\n",
       "      <td>0.048352</td>\n",
       "    </tr>\n",
       "  </tbody>\n",
       "</table>\n",
       "</div>"
      ],
      "text/plain": [
       "                                            Method     Price        SE\n",
       "0                                          Base MC  3.590835  0.133561\n",
       "1                             Antithetic Variables  3.580505  0.072584\n",
       "2                                    ST Controlled  3.747911  0.078048\n",
       "3  Geom.Asian Call Controlled (Asymptotic Formula)  3.669770  0.049160\n",
       "4        Geom.Asian Call Controlled (True Formula)  3.621501  0.048352"
      ]
     },
     "execution_count": 29,
     "metadata": {},
     "output_type": "execute_result"
    }
   ],
   "source": [
    "summary = pd.DataFrame(table, columns=[\n",
    "    'Method', 'Price', 'SE'])\n",
    "summary"
   ]
  },
  {
   "cell_type": "markdown",
   "metadata": {},
   "source": [
    "The summary is provided above. As we can see, using geometric Asian call option as the control variable is the most effective variance reduction method. They achieved a standard error ~0.05 for 1000 samples. Using $S_T$ as control variable is about as effective as antithetic variable method, in that they reduced standard error from ~0.13 to ~0.08."
   ]
  },
  {
   "cell_type": "markdown",
   "metadata": {},
   "source": [
    "# Control Variables and Importance Sampling"
   ]
  },
  {
   "cell_type": "markdown",
   "metadata": {},
   "source": [
    "## Standard MC"
   ]
  },
  {
   "cell_type": "code",
   "execution_count": 30,
   "metadata": {},
   "outputs": [
    {
     "name": "stdout",
     "output_type": "stream",
     "text": [
      "[gbm]: Initializing grids...\n"
     ]
    },
    {
     "name": "stderr",
     "output_type": "stream",
     "text": [
      "100% (10000 of 10000) |###################| Elapsed Time: 0:00:00 Time: 0:00:00\n"
     ]
    },
    {
     "name": "stdout",
     "output_type": "stream",
     "text": [
      "Vanila call K=120:\n",
      "  Price = 3.2247931596217136\n",
      "    SE = 0.08527096304049593\n",
      "\n",
      "[gbm]: Initializing grids...\n"
     ]
    },
    {
     "name": "stderr",
     "output_type": "stream",
     "text": [
      "100% (10000 of 10000) |###################| Elapsed Time: 0:00:00 Time: 0:00:00\n"
     ]
    },
    {
     "name": "stdout",
     "output_type": "stream",
     "text": [
      "Vanila call K=140:\n",
      "  Price = 0.8250017838247197\n",
      "    SE = 0.04359696086769234\n",
      "\n",
      "[gbm]: Initializing grids...\n"
     ]
    },
    {
     "name": "stderr",
     "output_type": "stream",
     "text": [
      "100% (10000 of 10000) |###################| Elapsed Time: 0:00:00 Time: 0:00:00\n"
     ]
    },
    {
     "name": "stdout",
     "output_type": "stream",
     "text": [
      "Vanila call K=160:\n",
      "  Price = 0.1350313379765521\n",
      "    SE = 0.015399145719972753\n",
      "\n"
     ]
    }
   ],
   "source": [
    "table = []\n",
    "mc = MonteCarloEstimator(\n",
    "    sampler = MonteCarloEstimator.gbm(\n",
    "        S0=100, T=1, r=0.05, sigma=0.2))\n",
    "\n",
    "for i, strike in enumerate([120, 140, 160]):\n",
    "    mc.reset_models(\n",
    "        payoff = MonteCarloEstimator.vanilla_call(\n",
    "            K=strike, tau=1, r=0.05))\n",
    "    _, price, se = mc.estimate(100, 10000)\n",
    "    table.append([strike, price, se])\n",
    "    print('''Vanila call K={}:\\n  Price = {}\n",
    "    SE = {}\\n'''.format(strike, price, se))"
   ]
  },
  {
   "cell_type": "markdown",
   "metadata": {},
   "source": [
    "## Put-Call Parity"
   ]
  },
  {
   "cell_type": "code",
   "execution_count": 31,
   "metadata": {
    "scrolled": false
   },
   "outputs": [
    {
     "name": "stdout",
     "output_type": "stream",
     "text": [
      "[gbm]: Initializing grids...\n"
     ]
    },
    {
     "name": "stderr",
     "output_type": "stream",
     "text": [
      "100% (10000 of 10000) |###################| Elapsed Time: 0:00:00 Time: 0:00:00\n"
     ]
    },
    {
     "name": "stdout",
     "output_type": "stream",
     "text": [
      "Vanila call K=120:\n",
      "  Price = 3.044323974221644\n",
      "    SE = 0.14629904121306525\n",
      "\n",
      "[gbm]: Initializing grids...\n"
     ]
    },
    {
     "name": "stderr",
     "output_type": "stream",
     "text": [
      "100% (10000 of 10000) |###################| Elapsed Time: 0:00:00 Time: 0:00:00\n"
     ]
    },
    {
     "name": "stdout",
     "output_type": "stream",
     "text": [
      "Vanila call K=140:\n",
      "  Price = 0.7565303104723016\n",
      "    SE = 0.18306090971823263\n",
      "\n",
      "[gbm]: Initializing grids...\n"
     ]
    },
    {
     "name": "stderr",
     "output_type": "stream",
     "text": [
      "100% (10000 of 10000) |###################| Elapsed Time: 0:00:00 Time: 0:00:00\n"
     ]
    },
    {
     "name": "stdout",
     "output_type": "stream",
     "text": [
      "Vanila call K=160:\n",
      "  Price = 0.479728696655923\n",
      "    SE = 0.1957533174577639\n",
      "\n"
     ]
    }
   ],
   "source": [
    "mc = MonteCarloEstimator(\n",
    "    sampler = MonteCarloEstimator.gbm(\n",
    "        S0=100, T=1, r=0.05, sigma=0.2))\n",
    "\n",
    "for i, strike in enumerate([120, 140, 160]):\n",
    "    mc.reset_models(\n",
    "        payoff = MonteCarloEstimator.vanilla_call_parity(\n",
    "            K=strike, S0=100, tau=1, r=0.05))\n",
    "    _, price, se = mc.estimate(100, 10000)\n",
    "    table.append([strike, price, se])\n",
    "    print('''Vanila call K={}:\\n  Price = {}\n",
    "    SE = {}\\n'''.format(strike, price, se))"
   ]
  },
  {
   "cell_type": "markdown",
   "metadata": {},
   "source": [
    "## Put-Call Parity with Control"
   ]
  },
  {
   "cell_type": "code",
   "execution_count": 32,
   "metadata": {},
   "outputs": [
    {
     "name": "stdout",
     "output_type": "stream",
     "text": [
      "[gbm]: Initializing grids...\n"
     ]
    },
    {
     "name": "stderr",
     "output_type": "stream",
     "text": [
      "100% (10000 of 10000) |###################| Elapsed Time: 0:00:00 Time: 0:00:00\n"
     ]
    },
    {
     "name": "stdout",
     "output_type": "stream",
     "text": [
      "Vanila call K=120:\n",
      "  Price = 3.277791627801777\n",
      "    SE = 0.055764034136161975\n",
      "\n",
      "[gbm]: Initializing grids...\n"
     ]
    },
    {
     "name": "stderr",
     "output_type": "stream",
     "text": [
      "100% (10000 of 10000) |###################| Elapsed Time: 0:00:00 Time: 0:00:00\n"
     ]
    },
    {
     "name": "stdout",
     "output_type": "stream",
     "text": [
      "Vanila call K=140:\n",
      "  Price = 0.8257040298499927\n",
      "    SE = 0.03656413201552896\n",
      "\n",
      "[gbm]: Initializing grids...\n"
     ]
    },
    {
     "name": "stderr",
     "output_type": "stream",
     "text": [
      "100% (10000 of 10000) |###################| Elapsed Time: 0:00:00 Time: 0:00:00\n"
     ]
    },
    {
     "name": "stdout",
     "output_type": "stream",
     "text": [
      "Vanila call K=160:\n",
      "  Price = 0.1544671655280099\n",
      "    SE = 0.017664413806660905\n",
      "\n"
     ]
    }
   ],
   "source": [
    "mc = MonteCarloEstimator(\n",
    "    sampler = MonteCarloEstimator.gbm(\n",
    "        S0=100, T=1, r=0.05, sigma=0.2),\n",
    "    control = MonteCarloEstimator.control_S_T(\n",
    "        S0=100, tau=1, r=0.05)\n",
    ")\n",
    "\n",
    "for i, strike in enumerate([120, 140, 160]):\n",
    "    mc.reset_models(\n",
    "        payoff = MonteCarloEstimator.vanilla_call_parity(\n",
    "            K=strike, S0=100, tau=1, r=0.05))\n",
    "    _, price, se = mc.estimate(100, 10000)\n",
    "    table.append([strike, price, se])\n",
    "    print('''Vanila call K={}:\\n  Price = {}\n",
    "    SE = {}\\n'''.format(strike, price, se))"
   ]
  },
  {
   "cell_type": "markdown",
   "metadata": {},
   "source": [
    "## Importance Sampling: Option Pays off with Certainty"
   ]
  },
  {
   "cell_type": "code",
   "execution_count": 33,
   "metadata": {},
   "outputs": [
    {
     "name": "stdout",
     "output_type": "stream",
     "text": [
      "[truncated gbm]: warning  only final prices generated...\n",
      "Vanila call K=120:\n",
      "  Price = 3.220183859691146\n",
      "    SE = 0.02920918865832503\n",
      "\n",
      "[truncated gbm]: warning  only final prices generated...\n",
      "Vanila call K=140:\n",
      "  Price = 0.7713834526898626\n",
      "    SE = 0.007315384607125251\n",
      "\n",
      "[truncated gbm]: warning  only final prices generated...\n",
      "Vanila call K=160:\n",
      "  Price = 0.1568889896801693\n",
      "    SE = 0.001504411777608655\n",
      "\n"
     ]
    }
   ],
   "source": [
    "for i, strike in enumerate([120, 140, 160]):\n",
    "    mc = MonteCarloEstimator(\n",
    "        sampler = MonteCarloEstimator.gbm(\n",
    "            S0=100, T=1, r=0.05, \n",
    "            sigma=0.2, truncate=strike\n",
    "        ),\n",
    "        payoff = MonteCarloEstimator.vanilla_call(\n",
    "            K=strike, tau=1,\n",
    "            r=0.05, \n",
    "            L=(np.log(strike/100) - (\n",
    "                0.05-0-0.5*0.2**2)*1) / (\n",
    "                0.2*np.sqrt(1))\n",
    "        )\n",
    "    )\n",
    "    _, price, se = mc.estimate(100, 10000)\n",
    "    table.append([strike, price, se])\n",
    "    print('''Vanila call K={}:\\n  Price = {}\n",
    "    SE = {}\\n'''.format(strike, price, se))"
   ]
  },
  {
   "cell_type": "code",
   "execution_count": 34,
   "metadata": {},
   "outputs": [
    {
     "data": {
      "text/html": [
       "<div>\n",
       "<style>\n",
       "    .dataframe thead tr:only-child th {\n",
       "        text-align: right;\n",
       "    }\n",
       "\n",
       "    .dataframe thead th {\n",
       "        text-align: left;\n",
       "    }\n",
       "\n",
       "    .dataframe tbody tr th {\n",
       "        vertical-align: top;\n",
       "    }\n",
       "</style>\n",
       "<table border=\"1\" class=\"dataframe\">\n",
       "  <thead>\n",
       "    <tr style=\"text-align: right;\">\n",
       "      <th></th>\n",
       "      <th></th>\n",
       "      <th>Strike</th>\n",
       "      <th>Price</th>\n",
       "      <th>SE</th>\n",
       "    </tr>\n",
       "    <tr>\n",
       "      <th>Method</th>\n",
       "      <th>Case</th>\n",
       "      <th></th>\n",
       "      <th></th>\n",
       "      <th></th>\n",
       "    </tr>\n",
       "  </thead>\n",
       "  <tbody>\n",
       "    <tr>\n",
       "      <th rowspan=\"3\" valign=\"top\">Standard MC</th>\n",
       "      <th>1</th>\n",
       "      <td>120</td>\n",
       "      <td>3.224793</td>\n",
       "      <td>0.085271</td>\n",
       "    </tr>\n",
       "    <tr>\n",
       "      <th>2</th>\n",
       "      <td>140</td>\n",
       "      <td>0.825002</td>\n",
       "      <td>0.043597</td>\n",
       "    </tr>\n",
       "    <tr>\n",
       "      <th>3</th>\n",
       "      <td>160</td>\n",
       "      <td>0.135031</td>\n",
       "      <td>0.015399</td>\n",
       "    </tr>\n",
       "    <tr>\n",
       "      <th rowspan=\"3\" valign=\"top\">Put-Call Parity</th>\n",
       "      <th>1</th>\n",
       "      <td>120</td>\n",
       "      <td>3.044324</td>\n",
       "      <td>0.146299</td>\n",
       "    </tr>\n",
       "    <tr>\n",
       "      <th>2</th>\n",
       "      <td>140</td>\n",
       "      <td>0.756530</td>\n",
       "      <td>0.183061</td>\n",
       "    </tr>\n",
       "    <tr>\n",
       "      <th>3</th>\n",
       "      <td>160</td>\n",
       "      <td>0.479729</td>\n",
       "      <td>0.195753</td>\n",
       "    </tr>\n",
       "    <tr>\n",
       "      <th rowspan=\"3\" valign=\"top\">Parity &amp; Control Variable</th>\n",
       "      <th>1</th>\n",
       "      <td>120</td>\n",
       "      <td>3.277792</td>\n",
       "      <td>0.055764</td>\n",
       "    </tr>\n",
       "    <tr>\n",
       "      <th>2</th>\n",
       "      <td>140</td>\n",
       "      <td>0.825704</td>\n",
       "      <td>0.036564</td>\n",
       "    </tr>\n",
       "    <tr>\n",
       "      <th>3</th>\n",
       "      <td>160</td>\n",
       "      <td>0.154467</td>\n",
       "      <td>0.017664</td>\n",
       "    </tr>\n",
       "    <tr>\n",
       "      <th rowspan=\"3\" valign=\"top\">Importance Sampling</th>\n",
       "      <th>1</th>\n",
       "      <td>120</td>\n",
       "      <td>3.220184</td>\n",
       "      <td>0.029209</td>\n",
       "    </tr>\n",
       "    <tr>\n",
       "      <th>2</th>\n",
       "      <td>140</td>\n",
       "      <td>0.771383</td>\n",
       "      <td>0.007315</td>\n",
       "    </tr>\n",
       "    <tr>\n",
       "      <th>3</th>\n",
       "      <td>160</td>\n",
       "      <td>0.156889</td>\n",
       "      <td>0.001504</td>\n",
       "    </tr>\n",
       "  </tbody>\n",
       "</table>\n",
       "</div>"
      ],
      "text/plain": [
       "                                Strike     Price        SE\n",
       "Method                    Case                            \n",
       "Standard MC               1        120  3.224793  0.085271\n",
       "                          2        140  0.825002  0.043597\n",
       "                          3        160  0.135031  0.015399\n",
       "Put-Call Parity           1        120  3.044324  0.146299\n",
       "                          2        140  0.756530  0.183061\n",
       "                          3        160  0.479729  0.195753\n",
       "Parity & Control Variable 1        120  3.277792  0.055764\n",
       "                          2        140  0.825704  0.036564\n",
       "                          3        160  0.154467  0.017664\n",
       "Importance Sampling       1        120  3.220184  0.029209\n",
       "                          2        140  0.771383  0.007315\n",
       "                          3        160  0.156889  0.001504"
      ]
     },
     "execution_count": 34,
     "metadata": {},
     "output_type": "execute_result"
    }
   ],
   "source": [
    "index = [['Standard MC', \n",
    "          'Put-Call Parity', \n",
    "          'Parity & Control Variable',\n",
    "          'Importance Sampling'], [1,2,3]]\n",
    "index = pd.MultiIndex.from_product(index, names=['Method', 'Case'])\n",
    "summary = pd.DataFrame(table, columns=[\n",
    "    'Strike', 'Price', 'SE'], index=index)\n",
    "summary"
   ]
  },
  {
   "cell_type": "markdown",
   "metadata": {},
   "source": [
    "Using put-call parity itself doesn't reduce variance at all, but when combined with control variable $S_T$, the variance of the first two cases is fairly reduced, since $S_T$ is highly correlated with the put price. Importance sampling is the most effective method to reduce variance for this problem. It brings down the standard error in all three cases very significantly."
   ]
  },
  {
   "cell_type": "markdown",
   "metadata": {},
   "source": [
    "# Digital Payoff Barrier Options"
   ]
  },
  {
   "cell_type": "markdown",
   "metadata": {},
   "source": [
    "## Standard Monte Carlo"
   ]
  },
  {
   "cell_type": "code",
   "execution_count": 35,
   "metadata": {},
   "outputs": [
    {
     "name": "stdout",
     "output_type": "stream",
     "text": [
      "[gbm]: Initializing grids...\n"
     ]
    },
    {
     "name": "stderr",
     "output_type": "stream",
     "text": [
      "100% (100000 of 100000) |#################| Elapsed Time: 0:00:01 Time: 0:00:01\n"
     ]
    },
    {
     "name": "stdout",
     "output_type": "stream",
     "text": [
      "Down&In Digital K=96, H=94:\n",
      "  Price = 3038.5793765595754\n",
      "    SE = 14.413663915061488\n",
      "\n",
      "[gbm]: Initializing grids...\n"
     ]
    },
    {
     "name": "stderr",
     "output_type": "stream",
     "text": [
      "100% (100000 of 100000) |#################| Elapsed Time: 0:00:01 Time: 0:00:01\n"
     ]
    },
    {
     "name": "stdout",
     "output_type": "stream",
     "text": [
      "Down&In Digital K=96, H=90:\n",
      "  Price = 420.11559633009716\n",
      "    SE = 6.302754359396163\n",
      "\n",
      "[gbm]: Initializing grids...\n"
     ]
    },
    {
     "name": "stderr",
     "output_type": "stream",
     "text": [
      "100% (100000 of 100000) |#################| Elapsed Time: 0:00:01 Time: 0:00:01\n"
     ]
    },
    {
     "name": "stdout",
     "output_type": "stream",
     "text": [
      "Down&In Digital K=96, H=85:\n",
      "  Price = 6.814286823407782\n",
      "    SE = 0.8200606649818247\n",
      "\n",
      "[gbm]: Initializing grids...\n"
     ]
    },
    {
     "name": "stderr",
     "output_type": "stream",
     "text": [
      "100% (100000 of 100000) |#################| Elapsed Time: 0:00:01 Time: 0:00:01\n"
     ]
    },
    {
     "name": "stdout",
     "output_type": "stream",
     "text": [
      "Down&In Digital K=106, H=90:\n",
      "  Price = 13.727331426864954\n",
      "    SE = 1.1635275593806762\n",
      "\n"
     ]
    }
   ],
   "source": [
    "table = []\n",
    "for i, param in enumerate([(94,96) ,(90,96), (85,96), (90,106)]):\n",
    "    H, K = param\n",
    "    mc = MonteCarloEstimator(\n",
    "        sampler = MonteCarloEstimator.gbm(\n",
    "            S0=95, T=0.25, r=0.05, \n",
    "            sigma=0.15),\n",
    "        payoff = MonteCarloEstimator.down_in_digital(\n",
    "            K=K, H=H, tau=0.25, r=0.05)\n",
    "    )\n",
    "    _, price, se = mc.estimate(50, 100000)\n",
    "    table.append([K, H, price, se])\n",
    "    print('''Down&In Digital K={}, H={}:\\n  Price = {}\n",
    "    SE = {}\\n'''.format(K, H, price, se))"
   ]
  },
  {
   "cell_type": "markdown",
   "metadata": {},
   "source": [
    "## Conditional Monte Carlo"
   ]
  },
  {
   "cell_type": "code",
   "execution_count": 38,
   "metadata": {},
   "outputs": [
    {
     "name": "stdout",
     "output_type": "stream",
     "text": [
      "[stopped gbm]: Initializing grids...\n"
     ]
    },
    {
     "name": "stderr",
     "output_type": "stream",
     "text": [
      "100% (100000 of 100000) |#################| Elapsed Time: 0:00:13 Time: 0:00:13\n",
      "/Users/zed/anaconda/lib/python3.6/site-packages/ipykernel_launcher.py:15: RuntimeWarning: divide by zero encountered in double_scalars\n",
      "  from ipykernel import kernelapp as app\n"
     ]
    },
    {
     "name": "stdout",
     "output_type": "stream",
     "text": [
      "Down&In Digital K=96, H=94:\n",
      "  Price = 3017.656775621864\n",
      "    SE = 5.060121107567195\n",
      "\n",
      "[stopped gbm]: Initializing grids...\n"
     ]
    },
    {
     "name": "stderr",
     "output_type": "stream",
     "text": [
      "100% (100000 of 100000) |#################| Elapsed Time: 0:00:35 Time: 0:00:35\n"
     ]
    },
    {
     "name": "stdout",
     "output_type": "stream",
     "text": [
      "Down&In Digital K=96, H=90:\n",
      "  Price = 428.94245397284635\n",
      "    SE = 2.1080537490729907\n",
      "\n",
      "[stopped gbm]: Initializing grids...\n"
     ]
    },
    {
     "name": "stderr",
     "output_type": "stream",
     "text": [
      "100% (100000 of 100000) |#################| Elapsed Time: 0:00:44 Time: 0:00:44\n"
     ]
    },
    {
     "name": "stdout",
     "output_type": "stream",
     "text": [
      "Down&In Digital K=96, H=85:\n",
      "  Price = 5.5628905430268905\n",
      "    SE = 0.09876890008477911\n",
      "\n",
      "[stopped gbm]: Initializing grids...\n"
     ]
    },
    {
     "name": "stderr",
     "output_type": "stream",
     "text": [
      "100% (100000 of 100000) |#################| Elapsed Time: 0:00:33 Time: 0:00:33\n"
     ]
    },
    {
     "name": "stdout",
     "output_type": "stream",
     "text": [
      "Down&In Digital K=106, H=90:\n",
      "  Price = 13.346183147268253\n",
      "    SE = 0.09276963553590656\n",
      "\n"
     ]
    }
   ],
   "source": [
    "for i, param in enumerate([(94,96) ,(90,96), (85,96), (90,106)]):\n",
    "    H, K = param\n",
    "    mc = MonteCarloEstimator(\n",
    "        sampler = MonteCarloEstimator.gbm(\n",
    "            S0=95, T=0.25, r=0.05, \n",
    "            sigma=0.15, \n",
    "            stop=lambda t,S: S<H),\n",
    "        payoff = MonteCarloEstimator.down_in_digital(\n",
    "            K=K, H=H, tau=0.25, r=0.05,\n",
    "            stop=True, sigma=0.15\n",
    "        )\n",
    "    )\n",
    "    payoffs, price, se = mc.estimate(50, 100000)\n",
    "    table.append([K, H, price, se])\n",
    "    print('''Down&In Digital K={}, H={}:\\n  Price = {}\n",
    "    SE = {}\\n'''.format(K, H, price, se))"
   ]
  },
  {
   "cell_type": "code",
   "execution_count": 58,
   "metadata": {},
   "outputs": [
    {
     "data": {
      "text/html": [
       "<div>\n",
       "<style>\n",
       "    .dataframe thead tr:only-child th {\n",
       "        text-align: right;\n",
       "    }\n",
       "\n",
       "    .dataframe thead th {\n",
       "        text-align: left;\n",
       "    }\n",
       "\n",
       "    .dataframe tbody tr th {\n",
       "        vertical-align: top;\n",
       "    }\n",
       "</style>\n",
       "<table border=\"1\" class=\"dataframe\">\n",
       "  <thead>\n",
       "    <tr style=\"text-align: right;\">\n",
       "      <th></th>\n",
       "      <th></th>\n",
       "      <th>Strike</th>\n",
       "      <th>Barrier</th>\n",
       "      <th>Price</th>\n",
       "      <th>SE</th>\n",
       "      <th>Variance Ratio</th>\n",
       "    </tr>\n",
       "    <tr>\n",
       "      <th>Method</th>\n",
       "      <th>Case</th>\n",
       "      <th></th>\n",
       "      <th></th>\n",
       "      <th></th>\n",
       "      <th></th>\n",
       "      <th></th>\n",
       "    </tr>\n",
       "  </thead>\n",
       "  <tbody>\n",
       "    <tr>\n",
       "      <th rowspan=\"4\" valign=\"top\">Standard MC</th>\n",
       "      <th>1</th>\n",
       "      <td>96</td>\n",
       "      <td>94</td>\n",
       "      <td>3038.579377</td>\n",
       "      <td>14.413664</td>\n",
       "      <td>NaN</td>\n",
       "    </tr>\n",
       "    <tr>\n",
       "      <th>2</th>\n",
       "      <td>96</td>\n",
       "      <td>90</td>\n",
       "      <td>420.115596</td>\n",
       "      <td>6.302754</td>\n",
       "      <td>NaN</td>\n",
       "    </tr>\n",
       "    <tr>\n",
       "      <th>3</th>\n",
       "      <td>96</td>\n",
       "      <td>85</td>\n",
       "      <td>6.814287</td>\n",
       "      <td>0.820061</td>\n",
       "      <td>NaN</td>\n",
       "    </tr>\n",
       "    <tr>\n",
       "      <th>4</th>\n",
       "      <td>106</td>\n",
       "      <td>90</td>\n",
       "      <td>13.727331</td>\n",
       "      <td>1.163528</td>\n",
       "      <td>NaN</td>\n",
       "    </tr>\n",
       "    <tr>\n",
       "      <th rowspan=\"4\" valign=\"top\">Conditional MC</th>\n",
       "      <th>1</th>\n",
       "      <td>96</td>\n",
       "      <td>94</td>\n",
       "      <td>3017.656776</td>\n",
       "      <td>5.060121</td>\n",
       "      <td>8.113850</td>\n",
       "    </tr>\n",
       "    <tr>\n",
       "      <th>2</th>\n",
       "      <td>96</td>\n",
       "      <td>90</td>\n",
       "      <td>428.942454</td>\n",
       "      <td>2.108054</td>\n",
       "      <td>8.939174</td>\n",
       "    </tr>\n",
       "    <tr>\n",
       "      <th>3</th>\n",
       "      <td>96</td>\n",
       "      <td>85</td>\n",
       "      <td>5.562891</td>\n",
       "      <td>0.098769</td>\n",
       "      <td>68.936865</td>\n",
       "    </tr>\n",
       "    <tr>\n",
       "      <th>4</th>\n",
       "      <td>106</td>\n",
       "      <td>90</td>\n",
       "      <td>13.346183</td>\n",
       "      <td>0.092770</td>\n",
       "      <td>157.304682</td>\n",
       "    </tr>\n",
       "  </tbody>\n",
       "</table>\n",
       "</div>"
      ],
      "text/plain": [
       "                     Strike  Barrier        Price         SE  Variance Ratio\n",
       "Method         Case                                                         \n",
       "Standard MC    1         96       94  3038.579377  14.413664             NaN\n",
       "               2         96       90   420.115596   6.302754             NaN\n",
       "               3         96       85     6.814287   0.820061             NaN\n",
       "               4        106       90    13.727331   1.163528             NaN\n",
       "Conditional MC 1         96       94  3017.656776   5.060121        8.113850\n",
       "               2         96       90   428.942454   2.108054        8.939174\n",
       "               3         96       85     5.562891   0.098769       68.936865\n",
       "               4        106       90    13.346183   0.092770      157.304682"
      ]
     },
     "execution_count": 58,
     "metadata": {},
     "output_type": "execute_result"
    }
   ],
   "source": [
    "index = [['Standard MC', \n",
    "          'Conditional MC'], [1,2,3,4]]\n",
    "index = pd.MultiIndex.from_product(index, names=['Method', 'Case'])\n",
    "summary = pd.DataFrame(table, columns=[\n",
    "    'Strike', 'Barrier', 'Price', 'SE'], index=index)\n",
    "ratio = list(summary['SE']['Standard MC']/summary['SE']['Conditional MC'])\n",
    "summary['Variance Ratio'] = [np.nan]*4+[x**2 for x in ratio]\n",
    "summary"
   ]
  },
  {
   "cell_type": "markdown",
   "metadata": {},
   "source": [
    "The digital call closed form formula is derived by\n",
    "$$\n",
    "\\begin{split}\n",
    "c(t,x) &= \\tilde{E}[e^{-r(T-t)}\\mathbb{1}_{\\{S_T > K\\}} | S_t = x] \\\\\n",
    "& = e^{-r(T-t)}\\mathbb{P}(S_T > K | S_t = x) \\\\\n",
    "& = e^{-r(T-t)}\\mathbb{P}\\left(S_t \\exp\\left((r-\\frac{1}{2}\\sigma^2)(T-t)+\\sigma(\\tilde{W}_T - \\tilde{W}_t)\\right) > K \\Big| S_t = x\\right) \\\\\n",
    "&= e^{-r(T-t)}\\mathbb{P}\\left(Z > \\frac{\\log\\frac{x}{K}+(r-\\frac{1}{2}\\sigma^2)(T-t)}{\\sigma\\sqrt{T-t}}\\right)\n",
    "\\end{split}\n",
    "$$\n",
    "Where $\\tilde{W}_T - \\tilde{W}_t\\sim N(0,T-t)$, $Z\\sim N(0, 1)$. Therefore,\n",
    "$$\n",
    "c(t,x) = e^{-r(T-t)}N(d_2)\n",
    "$$\n",
    "Where\n",
    "$$\n",
    "d_2 = \\frac{\\log\\frac{x}{K}+(r-\\frac{1}{2}\\sigma^2)(T-t)}{\\sigma\\sqrt{T-t}};~~~~S_t=x\n",
    "$$\n",
    "\n",
    "The standard error comparison is given in the summary table above."
   ]
  },
  {
   "cell_type": "markdown",
   "metadata": {},
   "source": [
    "# Discrete V.S. Continuous Pricing"
   ]
  },
  {
   "cell_type": "markdown",
   "metadata": {},
   "source": [
    "## Standard Monte Carlo"
   ]
  },
  {
   "cell_type": "code",
   "execution_count": 59,
   "metadata": {},
   "outputs": [
    {
     "name": "stdout",
     "output_type": "stream",
     "text": [
      "[gbm]: Initializing grids...\n"
     ]
    },
    {
     "name": "stderr",
     "output_type": "stream",
     "text": [
      "100% (100000 of 100000) |#################| Elapsed Time: 0:00:01 Time: 0:00:01\n"
     ]
    },
    {
     "name": "stdout",
     "output_type": "stream",
     "text": [
      "Down&In Call K=100, H=95:\n",
      "  Price = 1.2548986811091567\n",
      "    SE = 0.012415750337300278\n",
      "\n",
      "[gbm]: Initializing grids...\n"
     ]
    },
    {
     "name": "stderr",
     "output_type": "stream",
     "text": [
      "100% (100000 of 100000) |#################| Elapsed Time: 0:00:01 Time: 0:00:01\n"
     ]
    },
    {
     "name": "stdout",
     "output_type": "stream",
     "text": [
      "Down&In Call K=100, H=95:\n",
      "  Price = 1.4103013976243566\n",
      "    SE = 0.013286104100301455\n",
      "\n",
      "[gbm]: Initializing grids...\n"
     ]
    },
    {
     "name": "stderr",
     "output_type": "stream",
     "text": [
      "100% (100000 of 100000) |#################| Elapsed Time: 0:00:01 Time: 0:00:01\n"
     ]
    },
    {
     "name": "stdout",
     "output_type": "stream",
     "text": [
      "Down&In Call K=100, H=95:\n",
      "  Price = 1.5758218133375175\n",
      "    SE = 0.014047002929688102\n",
      "\n"
     ]
    }
   ],
   "source": [
    "table = []\n",
    "mc = MonteCarloEstimator(\n",
    "    sampler = MonteCarloEstimator.gbm(\n",
    "        S0=100, T=0.2, r=0.1, \n",
    "        sigma=0.3),\n",
    "    payoff = MonteCarloEstimator.down_in_call(\n",
    "        K=100, H=95, tau=0.2, r=0.1)\n",
    ")\n",
    "\n",
    "for i, N in enumerate([25, 50, 100]):\n",
    "    _, price, se = mc.estimate(N, 100000)\n",
    "    table.append([N, price, se])\n",
    "    print('''Down&In Call K={}, H={}:\\n  Price = {}\n",
    "    SE = {}\\n'''.format(100, 95, price, se))"
   ]
  },
  {
   "cell_type": "markdown",
   "metadata": {},
   "source": [
    "## Conditional Monte Carlo"
   ]
  },
  {
   "cell_type": "code",
   "execution_count": 60,
   "metadata": {},
   "outputs": [
    {
     "name": "stdout",
     "output_type": "stream",
     "text": [
      "[stopped gbm]: Initializing grids...\n"
     ]
    },
    {
     "name": "stderr",
     "output_type": "stream",
     "text": [
      "100% (100000 of 100000) |#################| Elapsed Time: 0:00:12 Time: 0:00:12\n",
      "/Users/zed/anaconda/lib/python3.6/site-packages/ipykernel_launcher.py:5: RuntimeWarning: divide by zero encountered in double_scalars\n",
      "  \"\"\"\n"
     ]
    },
    {
     "name": "stdout",
     "output_type": "stream",
     "text": [
      "Down&In Call K=100, H=95:\n",
      "  Price = 1.2564675105671148\n",
      "    SE = 0.004006626066561751\n",
      "\n",
      "[stopped gbm]: Initializing grids...\n"
     ]
    },
    {
     "name": "stderr",
     "output_type": "stream",
     "text": [
      "100% (100000 of 100000) |#################| Elapsed Time: 0:00:25 Time: 0:00:25\n"
     ]
    },
    {
     "name": "stdout",
     "output_type": "stream",
     "text": [
      "Down&In Call K=100, H=95:\n",
      "  Price = 1.4396341513291386\n",
      "    SE = 0.004247912439035337\n",
      "\n",
      "[stopped gbm]: Initializing grids...\n"
     ]
    },
    {
     "name": "stderr",
     "output_type": "stream",
     "text": [
      "100% (100000 of 100000) |#################| Elapsed Time: 0:00:46 Time: 0:00:46\n"
     ]
    },
    {
     "name": "stdout",
     "output_type": "stream",
     "text": [
      "Down&In Call K=100, H=95:\n",
      "  Price = 1.5718324927881755\n",
      "    SE = 0.004414490720001968\n",
      "\n"
     ]
    }
   ],
   "source": [
    "mc = MonteCarloEstimator(\n",
    "    sampler = MonteCarloEstimator.gbm(\n",
    "        S0=100, T=0.2, r=0.1, \n",
    "        sigma=0.3,\n",
    "        stop=lambda t,S: S<95),\n",
    "    payoff = MonteCarloEstimator.down_in_call(\n",
    "        K=100, H=95, tau=0.2, r=0.1,\n",
    "        stop=True, sigma=0.3)\n",
    ")\n",
    "\n",
    "for i, N in enumerate([25, 50, 100]):\n",
    "    _, price, se = mc.estimate(N, 100000)\n",
    "    table.append([N, price, se])\n",
    "    print('''Down&In Call K={}, H={}:\\n  Price = {}\n",
    "    SE = {}\\n'''.format(100, 95, price, se))"
   ]
  },
  {
   "cell_type": "markdown",
   "metadata": {},
   "source": [
    "## Conditional MonteCarlo with Importance Sampling"
   ]
  },
  {
   "cell_type": "code",
   "execution_count": 61,
   "metadata": {},
   "outputs": [
    {
     "name": "stdout",
     "output_type": "stream",
     "text": [
      "[stopped gbm]: Initializing grids...\n"
     ]
    },
    {
     "name": "stderr",
     "output_type": "stream",
     "text": [
      "100% (100000 of 100000) |#################| Elapsed Time: 0:00:05 Time: 0:00:05\n",
      "/Users/zed/anaconda/lib/python3.6/site-packages/ipykernel_launcher.py:5: RuntimeWarning: divide by zero encountered in double_scalars\n",
      "  \"\"\"\n"
     ]
    },
    {
     "name": "stdout",
     "output_type": "stream",
     "text": [
      "Down&In Call K=100, H=95:\n",
      "  Price = 1.390315773227041\n",
      "SE = 0.0021916865816488597\n",
      "\n"
     ]
    }
   ],
   "source": [
    "mc = MonteCarloEstimator(\n",
    "    sampler = MonteCarloEstimator.gbm(\n",
    "        S0=100, T=0.2, r=0.1, \n",
    "        sigma=0.3,\n",
    "        stop=lambda t,S: S<95,\n",
    "        theta=-0.45),\n",
    "    payoff = MonteCarloEstimator.down_in_call(\n",
    "        K=100, H=95, tau=0.2, r=0.1,\n",
    "        stop=True, sigma=0.3)\n",
    ")\n",
    "\n",
    "_, price, se = mc.estimate(25, 100000)\n",
    "table.append([N, price, se])\n",
    "print('''Down&In Call K={}, H={}:\\n  Price = {}\n",
    "SE = {}\\n'''.format(100, 95, price, se))"
   ]
  },
  {
   "cell_type": "code",
   "execution_count": 62,
   "metadata": {},
   "outputs": [
    {
     "name": "stdout",
     "output_type": "stream",
     "text": [
      "[stopped gbm]: Initializing grids...\n"
     ]
    },
    {
     "name": "stderr",
     "output_type": "stream",
     "text": [
      "100% (100000 of 100000) |#################| Elapsed Time: 0:00:11 Time: 0:00:11\n",
      "/Users/zed/anaconda/lib/python3.6/site-packages/ipykernel_launcher.py:5: RuntimeWarning: divide by zero encountered in double_scalars\n",
      "  \"\"\"\n"
     ]
    },
    {
     "name": "stdout",
     "output_type": "stream",
     "text": [
      "Down&In Call K=100, H=95:\n",
      "  Price = 1.7715332800748584\n",
      "    SE = 0.0022090943425283538\n",
      "\n",
      "[stopped gbm]: Initializing grids...\n"
     ]
    },
    {
     "name": "stderr",
     "output_type": "stream",
     "text": [
      "100% (100000 of 100000) |#################| Elapsed Time: 0:00:13 Time: 0:00:13\n"
     ]
    },
    {
     "name": "stdout",
     "output_type": "stream",
     "text": [
      "Down&In Call K=100, H=95:\n",
      "  Price = 2.0193625330494527\n",
      "    SE = 0.001907217981900248\n",
      "\n"
     ]
    }
   ],
   "source": [
    "mc = MonteCarloEstimator(\n",
    "    sampler = MonteCarloEstimator.gbm(\n",
    "        S0=100, T=0.2, r=0.1, \n",
    "        sigma=0.3,\n",
    "        stop=lambda t,S: S<95,\n",
    "        theta=-0.3),\n",
    "    payoff = MonteCarloEstimator.down_in_call(\n",
    "        K=100, H=95, tau=0.2, r=0.1,\n",
    "        stop=True, sigma=0.3)\n",
    ")\n",
    "for N in [50, 100]:\n",
    "    _, price, se = mc.estimate(N, 100000)\n",
    "    table.append([N, price, se])\n",
    "    print('''Down&In Call K={}, H={}:\\n  Price = {}\n",
    "    SE = {}\\n'''.format(100, 95, price, se))"
   ]
  },
  {
   "cell_type": "markdown",
   "metadata": {},
   "source": [
    "   ## $N\\to \\infty$"
   ]
  },
  {
   "cell_type": "code",
   "execution_count": 64,
   "metadata": {},
   "outputs": [
    {
     "data": {
      "text/plain": [
       "1.9466109033299226"
      ]
     },
     "execution_count": 64,
     "metadata": {},
     "output_type": "execute_result"
    }
   ],
   "source": [
    "bs_down_in(0, 100, 100, 95, 0.2, 0.3, 0.1)"
   ]
  },
  {
   "cell_type": "markdown",
   "metadata": {},
   "source": [
    "In the continous case ($N\\to \\infty$), the price is given by Hull's formula, which is 1.9466 in this setting. Simulation summary is presented in the table below. Note that conditional MC reduced the standard error by about 60\\%, from ~0.13 to ~0.0045. And the change of measure method further reduce about half of the standard error on that basis. \n",
    "\n",
    "As $N$ increase, the simulated price approaches the limit case given by the exact formula."
   ]
  },
  {
   "cell_type": "code",
   "execution_count": 63,
   "metadata": {},
   "outputs": [
    {
     "data": {
      "text/html": [
       "<div>\n",
       "<style>\n",
       "    .dataframe thead tr:only-child th {\n",
       "        text-align: right;\n",
       "    }\n",
       "\n",
       "    .dataframe thead th {\n",
       "        text-align: left;\n",
       "    }\n",
       "\n",
       "    .dataframe tbody tr th {\n",
       "        vertical-align: top;\n",
       "    }\n",
       "</style>\n",
       "<table border=\"1\" class=\"dataframe\">\n",
       "  <thead>\n",
       "    <tr style=\"text-align: right;\">\n",
       "      <th></th>\n",
       "      <th></th>\n",
       "      <th># Evaluation Points</th>\n",
       "      <th>Price</th>\n",
       "      <th>SE</th>\n",
       "    </tr>\n",
       "    <tr>\n",
       "      <th>Method</th>\n",
       "      <th>Case</th>\n",
       "      <th></th>\n",
       "      <th></th>\n",
       "      <th></th>\n",
       "    </tr>\n",
       "  </thead>\n",
       "  <tbody>\n",
       "    <tr>\n",
       "      <th rowspan=\"3\" valign=\"top\">Standard MC</th>\n",
       "      <th>1</th>\n",
       "      <td>25</td>\n",
       "      <td>1.254899</td>\n",
       "      <td>0.012416</td>\n",
       "    </tr>\n",
       "    <tr>\n",
       "      <th>2</th>\n",
       "      <td>50</td>\n",
       "      <td>1.410301</td>\n",
       "      <td>0.013286</td>\n",
       "    </tr>\n",
       "    <tr>\n",
       "      <th>3</th>\n",
       "      <td>100</td>\n",
       "      <td>1.575822</td>\n",
       "      <td>0.014047</td>\n",
       "    </tr>\n",
       "    <tr>\n",
       "      <th rowspan=\"3\" valign=\"top\">Conditional MC</th>\n",
       "      <th>1</th>\n",
       "      <td>25</td>\n",
       "      <td>1.256468</td>\n",
       "      <td>0.004007</td>\n",
       "    </tr>\n",
       "    <tr>\n",
       "      <th>2</th>\n",
       "      <td>50</td>\n",
       "      <td>1.439634</td>\n",
       "      <td>0.004248</td>\n",
       "    </tr>\n",
       "    <tr>\n",
       "      <th>3</th>\n",
       "      <td>100</td>\n",
       "      <td>1.571832</td>\n",
       "      <td>0.004414</td>\n",
       "    </tr>\n",
       "    <tr>\n",
       "      <th rowspan=\"3\" valign=\"top\">Conditional MC with Change of Measure</th>\n",
       "      <th>1</th>\n",
       "      <td>100</td>\n",
       "      <td>1.390316</td>\n",
       "      <td>0.002192</td>\n",
       "    </tr>\n",
       "    <tr>\n",
       "      <th>2</th>\n",
       "      <td>50</td>\n",
       "      <td>1.771533</td>\n",
       "      <td>0.002209</td>\n",
       "    </tr>\n",
       "    <tr>\n",
       "      <th>3</th>\n",
       "      <td>100</td>\n",
       "      <td>2.019363</td>\n",
       "      <td>0.001907</td>\n",
       "    </tr>\n",
       "  </tbody>\n",
       "</table>\n",
       "</div>"
      ],
      "text/plain": [
       "                                            # Evaluation Points     Price  \\\n",
       "Method                                Case                                  \n",
       "Standard MC                           1                      25  1.254899   \n",
       "                                      2                      50  1.410301   \n",
       "                                      3                     100  1.575822   \n",
       "Conditional MC                        1                      25  1.256468   \n",
       "                                      2                      50  1.439634   \n",
       "                                      3                     100  1.571832   \n",
       "Conditional MC with Change of Measure 1                     100  1.390316   \n",
       "                                      2                      50  1.771533   \n",
       "                                      3                     100  2.019363   \n",
       "\n",
       "                                                  SE  \n",
       "Method                                Case            \n",
       "Standard MC                           1     0.012416  \n",
       "                                      2     0.013286  \n",
       "                                      3     0.014047  \n",
       "Conditional MC                        1     0.004007  \n",
       "                                      2     0.004248  \n",
       "                                      3     0.004414  \n",
       "Conditional MC with Change of Measure 1     0.002192  \n",
       "                                      2     0.002209  \n",
       "                                      3     0.001907  "
      ]
     },
     "execution_count": 63,
     "metadata": {},
     "output_type": "execute_result"
    }
   ],
   "source": [
    "index = [['Standard MC', \n",
    "          'Conditional MC',\n",
    "          'Conditional MC with Change of Measure'], [1,2,3]]\n",
    "index = pd.MultiIndex.from_product(index, names=['Method', 'Case'])\n",
    "summary = pd.DataFrame(table, columns=[\n",
    "    '# Evaluation Points', 'Price', 'SE'], index=index)\n",
    "summary"
   ]
  },
  {
   "cell_type": "code",
   "execution_count": null,
   "metadata": {
    "collapsed": true
   },
   "outputs": [],
   "source": []
  }
 ],
 "metadata": {
  "kernelspec": {
   "display_name": "Python 3",
   "language": "python",
   "name": "python3"
  },
  "language_info": {
   "codemirror_mode": {
    "name": "ipython",
    "version": 3
   },
   "file_extension": ".py",
   "mimetype": "text/x-python",
   "name": "python",
   "nbconvert_exporter": "python",
   "pygments_lexer": "ipython3",
   "version": "3.6.4"
  }
 },
 "nbformat": 4,
 "nbformat_minor": 2
}
