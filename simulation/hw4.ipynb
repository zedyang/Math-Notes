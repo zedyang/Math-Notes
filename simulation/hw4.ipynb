{
 "cells": [
  {
   "cell_type": "code",
   "execution_count": 1,
   "metadata": {
    "collapsed": true
   },
   "outputs": [],
   "source": [
    "from abc import ABCMeta, abstractmethod\n",
    "import time\n",
    "import numpy as np\n",
    "import pandas as pd\n",
    "import matplotlib.pyplot as plt\n",
    "import seaborn as sns\n",
    "plt.style.use('ggplot')\n",
    "plt.rc('text', usetex=True)\n",
    "plt.rc('font', family='serif', size=15)\n",
    "%matplotlib inline\n",
    "\n",
    "import scipy.stats as stats\n",
    "from scipy.stats import norm\n",
    "from progressbar import ProgressBar"
   ]
  },
  {
   "cell_type": "code",
   "execution_count": 2,
   "metadata": {
    "collapsed": true
   },
   "outputs": [],
   "source": [
    "def bs(t, S, K, T, sigma, r, div=0):\n",
    "    tau = T - t\n",
    "    rexp, dexp = np.exp(-r*tau), np.exp(-div*tau)\n",
    "    d1 = (np.log(S/K) + (r-div+0.5*sigma**2)*tau) / (\n",
    "        sigma*np.sqrt(tau))\n",
    "    d2 = d1 - sigma*np.sqrt(tau)\n",
    "    call = S*dexp*norm.cdf(d1) - K*rexp*norm.cdf(d2)\n",
    "    put = K*rexp - S*dexp + call\n",
    "    return call, put"
   ]
  },
  {
   "cell_type": "code",
   "execution_count": 135,
   "metadata": {
    "collapsed": true
   },
   "outputs": [],
   "source": [
    "# Generators\n",
    "def gbm_exact(S0, sigma, r, div, T, n_steps):\n",
    "    dt = T/n_steps\n",
    "    S, i = S0, 0\n",
    "    Z = np.random.normal(size=n_steps)\n",
    "    while i < n_steps:\n",
    "        S *= np.exp((r-div-0.5*sigma**2)*dt + (\n",
    "            sigma*np.sqrt(dt)*Z[i]))\n",
    "        yield S\n",
    "        i += 1\n",
    "        \n",
    "def hull_white_euler(S0, vv0, r, alpha, \n",
    "                     psi, T, n_steps):\n",
    "    dt = T/n_steps\n",
    "    S, vv, i = S0, vv0, 0\n",
    "    Z = np.random.normal(size=(2,n_steps))\n",
    "    Z1, Z2 = Z[0], Z[1]\n",
    "    while i < n_steps:\n",
    "        S += r*S*dt + np.sqrt(vv)*S*np.sqrt(dt)*Z1[i]\n",
    "        vv += alpha*vv*dt + psi*vv*np.sqrt(dt)*Z2[i]\n",
    "        yield (S, vv)\n",
    "        i += 1\n",
    "        \n",
    "def CIR_exact(r0, alpha, sigma, b, \n",
    "              T, n_steps):\n",
    "    dt = T/n_steps\n",
    "    r, i = r0, 0\n",
    "    d = int(np.round(\n",
    "        (4*b*alpha)/(sigma)**2, 1))\n",
    "    aexp = np.exp(-alpha*dt)\n",
    "    while i < n_steps:\n",
    "        lam = ((4*alpha*aexp)/(\n",
    "            sigma**2*(1-aexp)))*r\n",
    "        r = np.random.noncentral_chisquare(\n",
    "            df=d, nonc=lam)*(\n",
    "            sigma**2*(1-aexp))/(4*alpha)\n",
    "        yield r\n",
    "        i += 1\n",
    "    "
   ]
  },
  {
   "cell_type": "markdown",
   "metadata": {},
   "source": [
    "# Hull-White Stochastic Volatility\n",
    "## Standard MC"
   ]
  },
  {
   "cell_type": "code",
   "execution_count": 107,
   "metadata": {
    "collapsed": true
   },
   "outputs": [],
   "source": [
    "def hull_white_call(S0, K, T, r, vv0, alpha, psi,\n",
    "                    n_steps, n_size, conditional=False):\n",
    "    sample = np.zeros(n_size)\n",
    "    bar = ProgressBar()\n",
    "    for j in bar(range(n_size)):\n",
    "        S, vv = zip(*hull_white_euler(\n",
    "            S0, vv0, r, alpha, psi, T, n_steps))\n",
    "        if conditional:\n",
    "            sigma_hat = np.sqrt((1/n_steps)*sum(vv))\n",
    "            sample[j] = bs(0, S0, K, T, sigma_hat, r)[0]\n",
    "        else:\n",
    "            sample[j] = np.exp(-r*T)*np.clip(\n",
    "                S[-1]-K, 0, None)\n",
    "    sample_mean = np.mean(sample)\n",
    "    se = stats.sem(sample, ddof=0)\n",
    "    return sample, sample_mean, se"
   ]
  },
  {
   "cell_type": "code",
   "execution_count": 149,
   "metadata": {},
   "outputs": [
    {
     "name": "stderr",
     "output_type": "stream",
     "text": [
      "100% (10000 of 10000) |###################| Elapsed Time: 0:00:03 Time: 0:00:03\n"
     ]
    },
    {
     "name": "stdout",
     "output_type": "stream",
     "text": [
      "\n",
      "    Hull-White call (alpha, psi)=(0.1, 0.1):\n",
      "    Price = 10.734247140993515, SE = 0.1514908126407839\n",
      "\n"
     ]
    },
    {
     "name": "stderr",
     "output_type": "stream",
     "text": [
      "100% (10000 of 10000) |###################| Elapsed Time: 0:00:03 Time: 0:00:03\n"
     ]
    },
    {
     "name": "stdout",
     "output_type": "stream",
     "text": [
      "\n",
      "    Hull-White call (alpha, psi)=(0.1, 1.0):\n",
      "    Price = 10.402796231918252, SE = 0.15512624052900922\n",
      "\n"
     ]
    }
   ],
   "source": [
    "table = []\n",
    "for i, (alpha, psi) in enumerate(\n",
    "    [(0.1,0.1),(0.1,1.0)]):\n",
    "    _, price, se = hull_white_call(\n",
    "        S0=100, K=100, T=1, r=0.05, vv0=0.04, \n",
    "        alpha=alpha, psi=psi, \n",
    "        n_steps=50, n_size=10000)\n",
    "    table.append([alpha, psi, price, se])\n",
    "    print('''\n",
    "    Hull-White call (alpha, psi)={}:\n",
    "    Price = {}, SE = {}\\n'''.format(\n",
    "        (alpha, psi), price, se))\n",
    "    time.sleep(0.5)"
   ]
  },
  {
   "cell_type": "markdown",
   "metadata": {},
   "source": [
    "## Conditional MC"
   ]
  },
  {
   "cell_type": "code",
   "execution_count": 150,
   "metadata": {},
   "outputs": [
    {
     "name": "stderr",
     "output_type": "stream",
     "text": [
      "100% (10000 of 10000) |###################| Elapsed Time: 0:00:06 Time: 0:00:06\n"
     ]
    },
    {
     "name": "stdout",
     "output_type": "stream",
     "text": [
      "\n",
      "    Hull-White call (alpha, psi)=(0.1, 0.1):\n",
      "    Price = 10.642658225571418, SE = 0.0022560351639518035\n",
      "\n"
     ]
    },
    {
     "name": "stderr",
     "output_type": "stream",
     "text": [
      "100% (10000 of 10000) |###################| Elapsed Time: 0:00:06 Time: 0:00:06\n"
     ]
    },
    {
     "name": "stdout",
     "output_type": "stream",
     "text": [
      "\n",
      "    Hull-White call (alpha, psi)=(0.1, 1.0):\n",
      "    Price = 10.34079923768526, SE = 0.022448135433629095\n",
      "\n"
     ]
    }
   ],
   "source": [
    "for i, (alpha, psi) in enumerate(\n",
    "    [(0.1,0.1),(0.1,1.0)]):\n",
    "    _, price, se = hull_white_call(\n",
    "        S0=100, K=100, T=1, r=0.05, vv0=0.04, \n",
    "        alpha=alpha, psi=psi, \n",
    "        n_steps=50, n_size=10000,\n",
    "        conditional=1)\n",
    "    table.append([alpha, psi, price, se])\n",
    "    print('''\n",
    "    Hull-White call (alpha, psi)={}:\n",
    "    Price = {}, SE = {}\\n'''.format(\n",
    "        (alpha, psi), price, se))\n",
    "    time.sleep(0.5)"
   ]
  },
  {
   "cell_type": "code",
   "execution_count": 151,
   "metadata": {},
   "outputs": [
    {
     "data": {
      "text/html": [
       "<div>\n",
       "<style>\n",
       "    .dataframe thead tr:only-child th {\n",
       "        text-align: right;\n",
       "    }\n",
       "\n",
       "    .dataframe thead th {\n",
       "        text-align: left;\n",
       "    }\n",
       "\n",
       "    .dataframe tbody tr th {\n",
       "        vertical-align: top;\n",
       "    }\n",
       "</style>\n",
       "<table border=\"1\" class=\"dataframe\">\n",
       "  <thead>\n",
       "    <tr style=\"text-align: right;\">\n",
       "      <th></th>\n",
       "      <th></th>\n",
       "      <th>Alpha</th>\n",
       "      <th>Psi</th>\n",
       "      <th>Price</th>\n",
       "      <th>SE</th>\n",
       "    </tr>\n",
       "    <tr>\n",
       "      <th>Method</th>\n",
       "      <th>Case</th>\n",
       "      <th></th>\n",
       "      <th></th>\n",
       "      <th></th>\n",
       "      <th></th>\n",
       "    </tr>\n",
       "  </thead>\n",
       "  <tbody>\n",
       "    <tr>\n",
       "      <th rowspan=\"2\" valign=\"top\">Standard MC</th>\n",
       "      <th>1</th>\n",
       "      <td>0.1</td>\n",
       "      <td>0.1</td>\n",
       "      <td>10.734247</td>\n",
       "      <td>0.151491</td>\n",
       "    </tr>\n",
       "    <tr>\n",
       "      <th>2</th>\n",
       "      <td>0.1</td>\n",
       "      <td>1.0</td>\n",
       "      <td>10.402796</td>\n",
       "      <td>0.155126</td>\n",
       "    </tr>\n",
       "    <tr>\n",
       "      <th rowspan=\"2\" valign=\"top\">Conditional MC</th>\n",
       "      <th>1</th>\n",
       "      <td>0.1</td>\n",
       "      <td>0.1</td>\n",
       "      <td>10.642658</td>\n",
       "      <td>0.002256</td>\n",
       "    </tr>\n",
       "    <tr>\n",
       "      <th>2</th>\n",
       "      <td>0.1</td>\n",
       "      <td>1.0</td>\n",
       "      <td>10.340799</td>\n",
       "      <td>0.022448</td>\n",
       "    </tr>\n",
       "  </tbody>\n",
       "</table>\n",
       "</div>"
      ],
      "text/plain": [
       "                     Alpha  Psi      Price        SE\n",
       "Method         Case                                 \n",
       "Standard MC    1       0.1  0.1  10.734247  0.151491\n",
       "               2       0.1  1.0  10.402796  0.155126\n",
       "Conditional MC 1       0.1  0.1  10.642658  0.002256\n",
       "               2       0.1  1.0  10.340799  0.022448"
      ]
     },
     "execution_count": 151,
     "metadata": {},
     "output_type": "execute_result"
    }
   ],
   "source": [
    "index = [['Standard MC', \n",
    "          'Conditional MC'], [1,2]]\n",
    "index = pd.MultiIndex.from_product(index, names=['Method', 'Case'])\n",
    "summary = pd.DataFrame(table, columns=[\n",
    "    'Alpha', 'Psi', 'Price', 'SE'], index=index)\n",
    "summary"
   ]
  },
  {
   "cell_type": "markdown",
   "metadata": {},
   "source": [
    "Conditonal MC reduced the standard error significantly."
   ]
  },
  {
   "cell_type": "markdown",
   "metadata": {},
   "source": [
    "# Cox-Ingersol-Ross Spot Rate"
   ]
  },
  {
   "cell_type": "code",
   "execution_count": 108,
   "metadata": {
    "collapsed": true
   },
   "outputs": [],
   "source": [
    "def CIR_zcb(r0, alpha, sigma, b, T, n_steps, n_size):\n",
    "    dt = T/n_steps\n",
    "    sample = np.zeros(n_size)\n",
    "    bar = ProgressBar()\n",
    "    for j in bar(range(n_size)):\n",
    "        r = list(CIR_exact(\n",
    "            r0, alpha, sigma, b, T, n_steps))\n",
    "        sample[j] = np.exp(-sum(r)*dt)\n",
    "    sample_mean = np.mean(sample)\n",
    "    se = stats.sem(sample, ddof=0)\n",
    "    return sample, sample_mean, se\n",
    "\n",
    "def CIR_caplet(r0, alpha, sigma, b, T, \n",
    "               R, L, t_interval,\n",
    "               n_steps, n_size):\n",
    "    dt = T/n_steps\n",
    "    sample = np.zeros(n_size)\n",
    "    bar = ProgressBar()\n",
    "    for j in bar(range(n_size)):\n",
    "        r = list(CIR_exact(\n",
    "            r0, alpha, sigma, b, T, n_steps))\n",
    "        sample[j] = np.exp(-sum(r)*dt)*(\n",
    "            L*t_interval*np.clip(r[-1]-R, 0, None))\n",
    "    sample_mean = np.mean(sample)\n",
    "    se = stats.sem(sample, ddof=0)\n",
    "    return sample, sample_mean, se"
   ]
  },
  {
   "cell_type": "code",
   "execution_count": 109,
   "metadata": {},
   "outputs": [
    {
     "name": "stderr",
     "output_type": "stream",
     "text": [
      "100% (1000 of 1000) |#####################| Elapsed Time: 0:00:00 Time: 0:00:00\n"
     ]
    },
    {
     "name": "stdout",
     "output_type": "stream",
     "text": [
      "\n",
      "CIR zero coupon bond $1 face:\n",
      "Price = 0.9597814284625382, SE = 0.0003347686556656842\n",
      "\n"
     ]
    }
   ],
   "source": [
    "_, price, se = CIR_zcb(\n",
    "    r0=0.04, alpha=0.2, sigma=0.1, \n",
    "    b=0.05, T=1, n_steps=50, n_size=1000)\n",
    "print('''\n",
    "CIR zero coupon bond $1 face:\n",
    "Price = {}, SE = {}\\n'''.format(price, se))"
   ]
  },
  {
   "cell_type": "code",
   "execution_count": 110,
   "metadata": {},
   "outputs": [
    {
     "name": "stderr",
     "output_type": "stream",
     "text": [
      "100% (1000 of 1000) |#####################| Elapsed Time: 0:00:00 Time: 0:00:00\n"
     ]
    },
    {
     "name": "stdout",
     "output_type": "stream",
     "text": [
      "\n",
      "CIR caplet R=0.05, $1 face:\n",
      "Price = 0.00034296941553407155, SE = 2.3634114685710555e-05\n",
      "\n"
     ]
    }
   ],
   "source": [
    "_, price, se = CIR_caplet(\n",
    "    r0=0.04, alpha=0.2, sigma=0.1, \n",
    "    b=0.05, T=1, R=0.05, L=1, t_interval=1/12,\n",
    "    n_steps=50, n_size=1000)\n",
    "print('''\n",
    "CIR caplet R={}, ${} face:\n",
    "Price = {}, SE = {}\\n'''.format(\n",
    "    0.05, 1, price, se))"
   ]
  },
  {
   "cell_type": "markdown",
   "metadata": {},
   "source": [
    "# Greeks"
   ]
  },
  {
   "cell_type": "markdown",
   "metadata": {},
   "source": [
    "## Resimulation"
   ]
  },
  {
   "cell_type": "code",
   "execution_count": 133,
   "metadata": {
    "collapsed": true
   },
   "outputs": [],
   "source": [
    "def gbm_delta_resimulate(h, S0, sigma, r, div, \n",
    "                         T, n_steps):\n",
    "    dt = T/n_steps\n",
    "    S_left, S_right, i = S0-h, S0+h, 0\n",
    "    Z = np.random.normal(size=n_steps)\n",
    "    while i < n_steps:\n",
    "        transition = np.exp((r-div-0.5*sigma**2)*dt + (\n",
    "            sigma*np.sqrt(dt)*Z[i]))\n",
    "        S_left *= transition\n",
    "        S_right *= transition\n",
    "        yield S_left, S_right\n",
    "        i += 1\n",
    "        \n",
    "def gbm_vega_resimulate(h, S0, sigma, r, div, \n",
    "                        T, n_steps):\n",
    "    dt = T/n_steps\n",
    "    S_left, S_right, i = S0, S0, 0\n",
    "    Z = np.random.normal(size=n_steps)\n",
    "    while i < n_steps:\n",
    "        S_left *= np.exp((r-div-0.5*(sigma-h)**2)*dt + (\n",
    "            (sigma-h)*np.sqrt(dt)*Z[i]))\n",
    "        S_right *= np.exp((r-div-0.5*(sigma+h)**2)*dt + (\n",
    "            (sigma+h)*np.sqrt(dt)*Z[i]))\n",
    "        yield S_left, S_right\n",
    "        i += 1\n",
    "        \n",
    "def gbm_greeks(S0, K, sigma, r, div, T,\n",
    "               h, path_sampler,\n",
    "               n_steps, n_size, control_flag=False):\n",
    "    sample_left =  np.zeros(n_size) \n",
    "    sample_right = np.zeros(n_size)\n",
    "    control =  np.zeros(n_size)\n",
    "    bar = ProgressBar()\n",
    "    for j in bar(range(n_size)):\n",
    "        S_left, S_right = zip(*path_sampler(\n",
    "            h, S0, sigma, r, div, T, n_steps))\n",
    "        if control_flag:\n",
    "            control[j] = S_left[-1]\n",
    "        sample_left[j] = np.exp(-r*T)*np.clip(\n",
    "            S_left[-1]-K, 0, None)\n",
    "        sample_right[j] = np.exp(-r*T)*np.clip(\n",
    "            S_right[-1]-K, 0, None)\n",
    "    sample = (sample_right - sample_left) / (2*h)\n",
    "    sample_mean = np.mean(sample)\n",
    "    se = stats.sem(sample, ddof=0)\n",
    "    if control_flag:\n",
    "        gbm_mean = (S0 - h)*np.exp(r*T)\n",
    "        adj = np.mean(control) - gbm_mean\n",
    "        cov_xy = np.cov(control, sample)\n",
    "        rho = np.corrcoef(control, sample)[0,1]\n",
    "        a_hat = -cov_xy[0,1]/cov_xy[0,0]\n",
    "        sample_mean += a_hat * adj\n",
    "        se *= np.sqrt(1-rho**2)\n",
    "    return sample, sample_mean, se"
   ]
  },
  {
   "cell_type": "code",
   "execution_count": 152,
   "metadata": {},
   "outputs": [
    {
     "name": "stderr",
     "output_type": "stream",
     "text": [
      "100% (10000 of 10000) |###################| Elapsed Time: 0:00:02 Time: 0:00:02\n"
     ]
    },
    {
     "name": "stdout",
     "output_type": "stream",
     "text": [
      "\n",
      "GBM Resimulation:\n",
      "Delta = 0.2153722921014939, SE of Delta = 0.0045162819695291935\n",
      "\n"
     ]
    },
    {
     "name": "stderr",
     "output_type": "stream",
     "text": [
      "100% (10000 of 10000) |###################| Elapsed Time: 0:00:04 Time: 0:00:04\n"
     ]
    },
    {
     "name": "stdout",
     "output_type": "stream",
     "text": [
      "\n",
      "GBM Resimulation:\n",
      "Vega = 12.314588641577494, SE of Vega = 0.2767002225871702\n",
      "\n"
     ]
    },
    {
     "name": "stderr",
     "output_type": "stream",
     "text": [
      "100% (10000 of 10000) |###################| Elapsed Time: 0:00:02 Time: 0:00:02\n"
     ]
    },
    {
     "name": "stdout",
     "output_type": "stream",
     "text": [
      "\n",
      "GBM Resimulation (ST controled):\n",
      "Delta = 0.23942766585446856, SE of Delta = 0.0030853030698220294\n",
      "\n"
     ]
    },
    {
     "name": "stderr",
     "output_type": "stream",
     "text": [
      "100% (10000 of 10000) |###################| Elapsed Time: 0:00:04 Time: 0:00:04\n"
     ]
    },
    {
     "name": "stdout",
     "output_type": "stream",
     "text": [
      "\n",
      "GBM Resimulation (ST controled):\n",
      "Vega = 12.886542090902854, SE of Vega = 0.1775815365533063\n",
      "\n"
     ]
    }
   ],
   "source": [
    "table = []\n",
    "_, delta, se = gbm_greeks(\n",
    "    S0=90, K=100, sigma=0.25, r=0.1, \n",
    "    div=0.03, T=0.2, h=0.0001, \n",
    "    path_sampler=gbm_delta_resimulate,\n",
    "    n_steps=50, n_size=10000, control_flag=False)\n",
    "print('''\n",
    "GBM Resimulation:\n",
    "Delta = {}, SE of Delta = {}\\n'''.format(delta, se))\n",
    "\n",
    "time.sleep(0.5)\n",
    "_, vega, se2 = gbm_greeks(\n",
    "    S0=90, K=100, sigma=0.25, r=0.1, \n",
    "    div=0.03, T=0.2, h=0.0001, \n",
    "    path_sampler=gbm_vega_resimulate,\n",
    "    n_steps=50, n_size=10000, control_flag=False)\n",
    "print('''\n",
    "GBM Resimulation:\n",
    "Vega = {}, SE of Vega = {}\\n'''.format(vega, se2))\n",
    "table.append([delta, se, vega, se2])\n",
    "\n",
    "time.sleep(0.5)\n",
    "_, delta, se = gbm_greeks(\n",
    "    S0=90, K=100, sigma=0.25, r=0.1, \n",
    "    div=0.03, T=0.2, h=0.0001, \n",
    "    path_sampler=gbm_delta_resimulate,\n",
    "    n_steps=50, n_size=10000, control_flag=True)\n",
    "print('''\n",
    "GBM Resimulation (ST controled):\n",
    "Delta = {}, SE of Delta = {}\\n'''.format(delta, se))\n",
    "\n",
    "time.sleep(0.5)\n",
    "_, vega, se2 = gbm_greeks(\n",
    "    S0=90, K=100, sigma=0.25, r=0.1, \n",
    "    div=0.03, T=0.2, h=0.0001, \n",
    "    path_sampler=gbm_vega_resimulate,\n",
    "    n_steps=50, n_size=10000, control_flag=True)\n",
    "print('''\n",
    "GBM Resimulation (ST controled):\n",
    "Vega = {}, SE of Vega = {}\\n'''.format(vega, se2))\n",
    "table.append([delta, se, vega, se2])"
   ]
  },
  {
   "cell_type": "markdown",
   "metadata": {},
   "source": [
    "## Path Differentiation"
   ]
  },
  {
   "cell_type": "code",
   "execution_count": 142,
   "metadata": {
    "collapsed": true
   },
   "outputs": [],
   "source": [
    "def gbm_greeks_pathdiff(S0, K, sigma, r, div, T, \n",
    "                        which, n_steps, n_size, \n",
    "                        control_flag=False):\n",
    "    sample = np.zeros(n_size)\n",
    "    control =  np.zeros(n_size)\n",
    "    bar = ProgressBar()\n",
    "    for j in bar(range(n_size)):\n",
    "        S = list(gbm_exact(\n",
    "            S0, sigma, r, div, T, n_steps))\n",
    "        if control_flag:\n",
    "            control[j] = S[-1]\n",
    "        if which == 'delta':\n",
    "            sample[j] = np.exp(-r*T)*(\n",
    "                S[-1]>=K)*(S[-1]/S0)\n",
    "        elif which == 'vega':\n",
    "            sample[j] = np.exp(-r*T)*(\n",
    "                S[-1]>=K)*S[-1]*(\n",
    "                (np.log(S[-1]/S0) - (\n",
    "                    r-div+0.5*sigma**2)*T)/sigma)\n",
    "        else:\n",
    "            raise ValueError\n",
    "    sample_mean = np.mean(sample)\n",
    "    se = stats.sem(sample, ddof=0)\n",
    "    if control_flag:\n",
    "        gbm_mean = S0*np.exp(r*T)\n",
    "        adj = np.mean(control) - gbm_mean\n",
    "        cov_xy = np.cov(control, sample)\n",
    "        rho = np.corrcoef(control, sample)[0,1]\n",
    "        a_hat = -cov_xy[0,1]/cov_xy[0,0]\n",
    "        sample_mean += a_hat * adj\n",
    "        se *= np.sqrt(1-rho**2)\n",
    "    return sample, sample_mean, se"
   ]
  },
  {
   "cell_type": "code",
   "execution_count": 153,
   "metadata": {},
   "outputs": [
    {
     "name": "stderr",
     "output_type": "stream",
     "text": [
      "100% (10000 of 10000) |###################| Elapsed Time: 0:00:02 Time: 0:00:02\n"
     ]
    },
    {
     "name": "stdout",
     "output_type": "stream",
     "text": [
      "\n",
      "GBM Path differentiation:\n",
      "Delta = 0.2215238344558542, SE of Delta = 0.00456715730452974\n",
      "\n"
     ]
    },
    {
     "name": "stderr",
     "output_type": "stream",
     "text": [
      "100% (10000 of 10000) |###################| Elapsed Time: 0:00:02 Time: 0:00:02\n"
     ]
    },
    {
     "name": "stdout",
     "output_type": "stream",
     "text": [
      "\n",
      "GBM Path differentiation:\n",
      "Vega = 12.104970562784805, SE of Vega = 0.2753984598423407\n",
      "\n"
     ]
    },
    {
     "name": "stderr",
     "output_type": "stream",
     "text": [
      "100% (10000 of 10000) |###################| Elapsed Time: 0:00:02 Time: 0:00:02\n"
     ]
    },
    {
     "name": "stdout",
     "output_type": "stream",
     "text": [
      "\n",
      "GBM Path differentiation (ST controled):\n",
      "Delta = 0.2416324230078789, SE of Delta = 0.0031031353006737007\n",
      "\n"
     ]
    },
    {
     "name": "stderr",
     "output_type": "stream",
     "text": [
      "100% (10000 of 10000) |###################| Elapsed Time: 0:00:02 Time: 0:00:02\n"
     ]
    },
    {
     "name": "stdout",
     "output_type": "stream",
     "text": [
      "\n",
      "GBM Path differentiation (ST controled):\n",
      "Vega = 13.104778263032978, SE of Vega = 0.17803143209935848\n",
      "\n"
     ]
    }
   ],
   "source": [
    "_, delta, se = gbm_greeks_pathdiff(\n",
    "    S0=90, K=100, sigma=0.25, r=0.1, \n",
    "    div=0.03, T=0.2, which='delta',\n",
    "    n_steps=50, n_size=10000, control_flag=False)\n",
    "print('''\n",
    "GBM Path differentiation:\n",
    "Delta = {}, SE of Delta = {}\\n'''.format(delta, se))\n",
    "\n",
    "time.sleep(0.5)\n",
    "_, vega, se2 = gbm_greeks_pathdiff(\n",
    "    S0=90, K=100, sigma=0.25, r=0.1, \n",
    "    div=0.03, T=0.2, which='vega',\n",
    "    n_steps=50, n_size=10000, control_flag=False)\n",
    "print('''\n",
    "GBM Path differentiation:\n",
    "Vega = {}, SE of Vega = {}\\n'''.format(vega, se2))\n",
    "table.append([delta, se, vega, se2])\n",
    "\n",
    "time.sleep(0.5)\n",
    "_, delta, se = gbm_greeks_pathdiff(\n",
    "    S0=90, K=100, sigma=0.25, r=0.1, \n",
    "    div=0.03, T=0.2, which='delta',\n",
    "    n_steps=50, n_size=10000, control_flag=True)\n",
    "print('''\n",
    "GBM Path differentiation (ST controled):\n",
    "Delta = {}, SE of Delta = {}\\n'''.format(delta, se))\n",
    "\n",
    "time.sleep(0.5)\n",
    "_, vega, se2 = gbm_greeks_pathdiff(\n",
    "    S0=90, K=100, sigma=0.25, r=0.1, \n",
    "    div=0.03, T=0.2, which='vega',\n",
    "    n_steps=50, n_size=10000, control_flag=True)\n",
    "print('''\n",
    "GBM Path differentiation (ST controled):\n",
    "Vega = {}, SE of Vega = {}\\n'''.format(vega, se2))\n",
    "table.append([delta, se, vega, se2])"
   ]
  },
  {
   "cell_type": "markdown",
   "metadata": {},
   "source": [
    "## Likelihood Estimate"
   ]
  },
  {
   "cell_type": "code",
   "execution_count": 146,
   "metadata": {
    "collapsed": true
   },
   "outputs": [],
   "source": [
    "def gbm_greeks_likelihood(S0, K, sigma, r, div, T, \n",
    "                          which, n_steps, n_size, \n",
    "                          control_flag=False):\n",
    "    sample = np.zeros(n_size)\n",
    "    control =  np.zeros(n_size)\n",
    "    bar = ProgressBar()\n",
    "    for j in bar(range(n_size)):\n",
    "        S = list(gbm_exact(\n",
    "            S0, sigma, r, div, T, n_steps))\n",
    "        if control_flag:\n",
    "            control[j] = S[-1]\n",
    "        if which == 'delta':\n",
    "            sample[j] = np.exp(-r*T)*np.clip(\n",
    "            S[-1]-K, 0, None)*(1/(S0*T*sigma**2))*(\n",
    "                np.log(S[-1]/S0) - (r-div-0.5*sigma**2)*T)\n",
    "        elif which == 'vega':\n",
    "            y = np.log(S[-1]/S0) - (r-div-0.5*sigma**2)*T\n",
    "            z = sigma*np.sqrt(T)\n",
    "            sample[j] = np.exp(-r*T)*np.clip(\n",
    "                S[-1]-K, 0, None)*(\n",
    "                (-y/z)*(np.sqrt(T)*(1-(y/z**2)))-(1/sigma))\n",
    "        else:\n",
    "            raise ValueError\n",
    "    sample_mean = np.mean(sample)\n",
    "    se = stats.sem(sample, ddof=0)\n",
    "    if control_flag:\n",
    "        gbm_mean = S0*np.exp(r*T)\n",
    "        adj = np.mean(control) - gbm_mean\n",
    "        cov_xy = np.cov(control, sample)\n",
    "        rho = np.corrcoef(control, sample)[0,1]\n",
    "        a_hat = -cov_xy[0,1]/cov_xy[0,0]\n",
    "        sample_mean += a_hat * adj\n",
    "        se *= np.sqrt(1-rho**2)\n",
    "    return sample, sample_mean, se"
   ]
  },
  {
   "cell_type": "code",
   "execution_count": 154,
   "metadata": {},
   "outputs": [
    {
     "name": "stderr",
     "output_type": "stream",
     "text": [
      "100% (10000 of 10000) |###################| Elapsed Time: 0:00:02 Time: 0:00:02\n"
     ]
    },
    {
     "name": "stdout",
     "output_type": "stream",
     "text": [
      "\n",
      "GBM likelihood estimation:\n",
      "Delta = 0.2273725394231722, SE of Delta = 0.007677848658382844\n",
      "\n"
     ]
    },
    {
     "name": "stderr",
     "output_type": "stream",
     "text": [
      "100% (10000 of 10000) |###################| Elapsed Time: 0:00:02 Time: 0:00:02\n"
     ]
    },
    {
     "name": "stdout",
     "output_type": "stream",
     "text": [
      "\n",
      "GBM likelihood estimation:\n",
      "Vega = 11.814197762328172, SE of Vega = 0.6799915646821565\n",
      "\n"
     ]
    },
    {
     "name": "stderr",
     "output_type": "stream",
     "text": [
      "100% (10000 of 10000) |###################| Elapsed Time: 0:00:02 Time: 0:00:02\n"
     ]
    },
    {
     "name": "stdout",
     "output_type": "stream",
     "text": [
      "\n",
      "GBM likelihood estimation (ST controled):\n",
      "Delta = 0.25839497092116337, SE of Delta = 0.006541064887133898\n",
      "\n"
     ]
    },
    {
     "name": "stderr",
     "output_type": "stream",
     "text": [
      "100% (10000 of 10000) |###################| Elapsed Time: 0:00:02 Time: 0:00:02\n"
     ]
    },
    {
     "name": "stdout",
     "output_type": "stream",
     "text": [
      "\n",
      "GBM likelihood estimation (ST controled):\n",
      "Vega = 14.328297824478517, SE of Vega = 0.6752024623006516\n",
      "\n"
     ]
    }
   ],
   "source": [
    "_, delta, se = gbm_greeks_likelihood(\n",
    "    S0=90, K=100, sigma=0.25, r=0.1, \n",
    "    div=0.03, T=0.2, which='delta',\n",
    "    n_steps=50, n_size=10000, control_flag=False)\n",
    "print('''\n",
    "GBM likelihood estimation:\n",
    "Delta = {}, SE of Delta = {}\\n'''.format(delta, se))\n",
    "\n",
    "time.sleep(0.5)\n",
    "_, vega, se2 = gbm_greeks_likelihood(\n",
    "    S0=90, K=100, sigma=0.25, r=0.1, \n",
    "    div=0.03, T=0.2, which='vega',\n",
    "    n_steps=50, n_size=10000, control_flag=False)\n",
    "print('''\n",
    "GBM likelihood estimation:\n",
    "Vega = {}, SE of Vega = {}\\n'''.format(vega, se2))\n",
    "table.append([delta, se, vega, se2])\n",
    "\n",
    "time.sleep(0.5)\n",
    "_, delta, se = gbm_greeks_likelihood(\n",
    "    S0=90, K=100, sigma=0.25, r=0.1, \n",
    "    div=0.03, T=0.2, which='delta',\n",
    "    n_steps=50, n_size=10000, control_flag=True)\n",
    "print('''\n",
    "GBM likelihood estimation (ST controled):\n",
    "Delta = {}, SE of Delta = {}\\n'''.format(delta, se))\n",
    "\n",
    "time.sleep(0.5)\n",
    "_, vega, se2 = gbm_greeks_likelihood(\n",
    "    S0=90, K=100, sigma=0.25, r=0.1, \n",
    "    div=0.03, T=0.2, which='vega',\n",
    "    n_steps=50, n_size=10000, control_flag=True)\n",
    "print('''\n",
    "GBM likelihood estimation (ST controled):\n",
    "Vega = {}, SE of Vega = {}\\n'''.format(vega, se2))\n",
    "table.append([delta, se, vega, se2])"
   ]
  },
  {
   "cell_type": "code",
   "execution_count": 155,
   "metadata": {},
   "outputs": [
    {
     "data": {
      "text/html": [
       "<div>\n",
       "<style>\n",
       "    .dataframe thead tr:only-child th {\n",
       "        text-align: right;\n",
       "    }\n",
       "\n",
       "    .dataframe thead th {\n",
       "        text-align: left;\n",
       "    }\n",
       "\n",
       "    .dataframe tbody tr th {\n",
       "        vertical-align: top;\n",
       "    }\n",
       "</style>\n",
       "<table border=\"1\" class=\"dataframe\">\n",
       "  <thead>\n",
       "    <tr style=\"text-align: right;\">\n",
       "      <th></th>\n",
       "      <th></th>\n",
       "      <th>Delta Est</th>\n",
       "      <th>Delta Std Err</th>\n",
       "      <th>Vega Est</th>\n",
       "      <th>Vega Std Err</th>\n",
       "    </tr>\n",
       "    <tr>\n",
       "      <th>Method</th>\n",
       "      <th>Control</th>\n",
       "      <th></th>\n",
       "      <th></th>\n",
       "      <th></th>\n",
       "      <th></th>\n",
       "    </tr>\n",
       "  </thead>\n",
       "  <tbody>\n",
       "    <tr>\n",
       "      <th rowspan=\"2\" valign=\"top\">Resimulation estimate</th>\n",
       "      <th>None</th>\n",
       "      <td>0.215372</td>\n",
       "      <td>0.004516</td>\n",
       "      <td>12.314589</td>\n",
       "      <td>0.276700</td>\n",
       "    </tr>\n",
       "    <tr>\n",
       "      <th>ST</th>\n",
       "      <td>0.239428</td>\n",
       "      <td>0.003085</td>\n",
       "      <td>12.886542</td>\n",
       "      <td>0.177582</td>\n",
       "    </tr>\n",
       "    <tr>\n",
       "      <th rowspan=\"2\" valign=\"top\">Pathwise estimate</th>\n",
       "      <th>None</th>\n",
       "      <td>0.221524</td>\n",
       "      <td>0.004567</td>\n",
       "      <td>12.104971</td>\n",
       "      <td>0.275398</td>\n",
       "    </tr>\n",
       "    <tr>\n",
       "      <th>ST</th>\n",
       "      <td>0.241632</td>\n",
       "      <td>0.003103</td>\n",
       "      <td>13.104778</td>\n",
       "      <td>0.178031</td>\n",
       "    </tr>\n",
       "    <tr>\n",
       "      <th rowspan=\"2\" valign=\"top\">Likelihood estimate</th>\n",
       "      <th>None</th>\n",
       "      <td>0.227373</td>\n",
       "      <td>0.007678</td>\n",
       "      <td>11.814198</td>\n",
       "      <td>0.679992</td>\n",
       "    </tr>\n",
       "    <tr>\n",
       "      <th>ST</th>\n",
       "      <td>0.258395</td>\n",
       "      <td>0.006541</td>\n",
       "      <td>14.328298</td>\n",
       "      <td>0.675202</td>\n",
       "    </tr>\n",
       "  </tbody>\n",
       "</table>\n",
       "</div>"
      ],
      "text/plain": [
       "                               Delta Est  Delta Std Err   Vega Est  \\\n",
       "Method                Control                                        \n",
       "Resimulation estimate None      0.215372       0.004516  12.314589   \n",
       "                      ST        0.239428       0.003085  12.886542   \n",
       "Pathwise estimate     None      0.221524       0.004567  12.104971   \n",
       "                      ST        0.241632       0.003103  13.104778   \n",
       "Likelihood estimate   None      0.227373       0.007678  11.814198   \n",
       "                      ST        0.258395       0.006541  14.328298   \n",
       "\n",
       "                               Vega Std Err  \n",
       "Method                Control                \n",
       "Resimulation estimate None         0.276700  \n",
       "                      ST           0.177582  \n",
       "Pathwise estimate     None         0.275398  \n",
       "                      ST           0.178031  \n",
       "Likelihood estimate   None         0.679992  \n",
       "                      ST           0.675202  "
      ]
     },
     "execution_count": 155,
     "metadata": {},
     "output_type": "execute_result"
    }
   ],
   "source": [
    "index = [['Resimulation estimate', \n",
    "          'Pathwise estimate',\n",
    "          'Likelihood estimate'], ['None', 'ST']]\n",
    "index = pd.MultiIndex.from_product(\n",
    "    index, names=['Method', 'Control'])\n",
    "summary = pd.DataFrame(table, columns=[\n",
    "    'Delta Est', 'Delta Std Err', 'Vega Est', 'Vega Std Err'], index=index)\n",
    "summary"
   ]
  },
  {
   "cell_type": "markdown",
   "metadata": {},
   "source": [
    "# Digital Option Delta\n",
    "\n",
    "## Closed-form Solution\n",
    "In last homework, we have shown that the price of a digital call is given by\n",
    "$$\n",
    "c(t,x) = e^{-r(T-t)}N(d_2)\n",
    "$$\n",
    "Where\n",
    "$$\n",
    "d_2 = \\frac{\\log\\frac{x}{K}+(r-\\frac{1}{2}\\sigma^2)(T-t)}{\\sigma\\sqrt{T-t}};~~~~S_t=x\n",
    "$$\n",
    "Therefore\n",
    "$$\n",
    "\\begin{split}\n",
    "\\Delta &= e^{-r(T-t)}\\frac{\\partial}{\\partial x}N(d_2)\\\\\n",
    "&=e^{-r(T-t)}\\frac{N'(d_2)}{\\sigma x \\sqrt{T-t}} \\\\\n",
    "\\end{split}\n",
    "$$"
   ]
  },
  {
   "cell_type": "code",
   "execution_count": 159,
   "metadata": {},
   "outputs": [
    {
     "name": "stdout",
     "output_type": "stream",
     "text": [
      "The Black-Scholes Delta is: 0.019860050706\n"
     ]
    }
   ],
   "source": [
    "# For this problem we have\n",
    "d2 = (np.log(95/100) + (.05-.5*0.2**2)) / (0.2)\n",
    "delta = np.exp(-0.05)*norm.pdf(d2)/(0.2*95)\n",
    "print(\"The Black-Scholes Delta is:\", delta)"
   ]
  },
  {
   "cell_type": "markdown",
   "metadata": {},
   "source": [
    "## Resimulation Method"
   ]
  },
  {
   "cell_type": "code",
   "execution_count": 170,
   "metadata": {},
   "outputs": [
    {
     "name": "stderr",
     "output_type": "stream",
     "text": [
      "100% (10000 of 10000) |###################| Elapsed Time: 0:00:04 Time: 0:00:04\n"
     ]
    },
    {
     "name": "stdout",
     "output_type": "stream",
     "text": [
      "\n",
      "GBM Resimulation for Digital Option:\n",
      "Delta = 0.0, SE of Delta = 0.0\n",
      "\n"
     ]
    }
   ],
   "source": [
    "def gbm_digital_delta(S0, K, sigma, r, div, \n",
    "                      T, h, path_sampler,\n",
    "                      n_steps, n_size):\n",
    "    sample_left =  np.zeros(n_size) \n",
    "    sample_right = np.zeros(n_size)\n",
    "    control =  np.zeros(n_size)\n",
    "    bar = ProgressBar()\n",
    "    for j in bar(range(n_size)):\n",
    "        S_left, S_right = zip(*path_sampler(\n",
    "            h, S0, sigma, r, div, T, n_steps))\n",
    "        #if j % 10 == 0:print(S_left[-1], S_right[-1])\n",
    "        sample_left[j] = np.exp(-r*T)*(S_left[-1]>=K)\n",
    "        sample_right[j] = np.exp(-r*T)*(S_right[-1]>=K)\n",
    "    sample = (sample_right - sample_left) / (2*h)\n",
    "    sample_mean = np.mean(sample)\n",
    "    se = stats.sem(sample, ddof=0)\n",
    "    return sample, sample_mean, se\n",
    "\n",
    "sample, delta, se = gbm_digital_delta(\n",
    "    S0=95, K=100, sigma=0.2, r=0.05, \n",
    "    div=0, T=1, h=0.0001, \n",
    "    path_sampler=gbm_delta_resimulate,\n",
    "    n_steps=100, n_size=10000)\n",
    "print('''\n",
    "GBM Resimulation for Digital Option:\n",
    "Delta = {}, SE of Delta = {}\\n'''.format(delta, se))"
   ]
  },
  {
   "cell_type": "markdown",
   "metadata": {},
   "source": [
    "The resimulation method performed very badly, because we are asking for a very small $h=0.0001$, but only allow for a small sample size of $n=10,000$. Consequently, it is highly unlikely that K lies between the final stock prices produced by the intial price pair $S_0-h$ and $S_0 +h$.\n",
    "\n",
    "We get a reasonable estimate using $h=0.005$, and sample size $n=300,000$, which took 2.5 minutes to run. So bad!"
   ]
  },
  {
   "cell_type": "code",
   "execution_count": 171,
   "metadata": {},
   "outputs": [
    {
     "name": "stderr",
     "output_type": "stream",
     "text": [
      "100% (300000 of 300000) |#################| Elapsed Time: 0:02:21 Time: 0:02:21\n"
     ]
    },
    {
     "name": "stdout",
     "output_type": "stream",
     "text": [
      "\n",
      "GBM Resimulation for Digital Option:\n",
      "Delta = 0.020927047339015712, SE of Delta = 0.002575658089607897\n",
      "\n"
     ]
    }
   ],
   "source": [
    "sample, delta, se = gbm_digital_delta(\n",
    "    S0=95, K=100, sigma=0.2, r=0.05, \n",
    "    div=0, T=1, h=0.005, \n",
    "    path_sampler=gbm_delta_resimulate,\n",
    "    n_steps=100, n_size=300000)\n",
    "print('''\n",
    "GBM Resimulation for Digital Option:\n",
    "Delta = {}, SE of Delta = {}\\n'''.format(delta, se))"
   ]
  },
  {
   "cell_type": "markdown",
   "metadata": {},
   "source": [
    "## Likelihood Method"
   ]
  },
  {
   "cell_type": "code",
   "execution_count": 173,
   "metadata": {},
   "outputs": [
    {
     "name": "stderr",
     "output_type": "stream",
     "text": [
      "100% (10000 of 10000) |###################| Elapsed Time: 0:00:04 Time: 0:00:04\n"
     ]
    },
    {
     "name": "stdout",
     "output_type": "stream",
     "text": [
      "\n",
      "GBM Likelihood Estimate for Digital Option:\n",
      "Delta = 0.020046603571571883, SE of Delta = 0.0002959985626061557\n",
      "\n"
     ]
    }
   ],
   "source": [
    "def gbm_likelihood_digital_delta(S0, K, sigma, r, div, \n",
    "                                 T, n_steps, n_size):\n",
    "    sample = np.zeros(n_size)\n",
    "    bar = ProgressBar()\n",
    "    for j in bar(range(n_size)):\n",
    "        S = list(gbm_exact(\n",
    "            S0, sigma, r, div, T, n_steps))\n",
    "        sample[j] = np.exp(-r*T)*(S[-1]>=K)*(\n",
    "            1/(S0*T*sigma**2))*(\n",
    "            np.log(S[-1]/S0) - (r-div-0.5*sigma**2)*T)\n",
    "    sample_mean = np.mean(sample)\n",
    "    se = stats.sem(sample, ddof=0)\n",
    "    return sample, sample_mean, se\n",
    "\n",
    "sample, delta, se = gbm_likelihood_digital_delta(\n",
    "    S0=95, K=100, sigma=0.2, r=0.05, \n",
    "    div=0, T=1, n_steps=100, n_size=10000)\n",
    "print('''\n",
    "GBM Likelihood Estimate for Digital Option:\n",
    "Delta = {}, SE of Delta = {}\\n'''.format(delta, se))"
   ]
  },
  {
   "cell_type": "markdown",
   "metadata": {},
   "source": [
    "Likelihood method is much better in this case. We simulated only 10000 samples, and the standard error is about 1/10 of the resimulation method estimate."
   ]
  },
  {
   "cell_type": "code",
   "execution_count": null,
   "metadata": {
    "collapsed": true
   },
   "outputs": [],
   "source": []
  }
 ],
 "metadata": {
  "kernelspec": {
   "display_name": "Python 3",
   "language": "python",
   "name": "python3"
  },
  "language_info": {
   "codemirror_mode": {
    "name": "ipython",
    "version": 3
   },
   "file_extension": ".py",
   "mimetype": "text/x-python",
   "name": "python",
   "nbconvert_exporter": "python",
   "pygments_lexer": "ipython3",
   "version": "3.6.4"
  }
 },
 "nbformat": 4,
 "nbformat_minor": 2
}
