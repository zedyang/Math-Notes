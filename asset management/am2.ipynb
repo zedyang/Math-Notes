{
 "cells": [
  {
   "cell_type": "code",
   "execution_count": 2,
   "metadata": {
    "collapsed": true
   },
   "outputs": [],
   "source": [
    "import numpy as np\n",
    "from progressbar import ProgressBar"
   ]
  },
  {
   "cell_type": "markdown",
   "metadata": {},
   "source": [
    "# Problem 2"
   ]
  },
  {
   "cell_type": "markdown",
   "metadata": {},
   "source": [
    "## (a)"
   ]
  },
  {
   "cell_type": "code",
   "execution_count": 80,
   "metadata": {},
   "outputs": [
    {
     "name": "stderr",
     "output_type": "stream",
     "text": [
      "100% (20000 of 20000) |###################| Elapsed Time: 0:00:05 Time: 0:00:05\n"
     ]
    }
   ],
   "source": [
    "N, M, runs = 100, 200, 20000\n",
    "sample = np.zeros((runs, 2))\n",
    "bar = ProgressBar()\n",
    "for i in bar(range(runs)):\n",
    "    uu = .01*np.random.choice([-1,1],(M, N))\n",
    "    u1 = uu[0,:]\n",
    "    r = (2/N)*(u1>0)*(uu.sum(0))\n",
    "    rb = (1/N)*(uu.sum(0))\n",
    "    sample[i, :] = np.array([r.sum(), rb.sum()])"
   ]
  },
  {
   "cell_type": "code",
   "execution_count": 81,
   "metadata": {},
   "outputs": [
    {
     "name": "stdout",
     "output_type": "stream",
     "text": [
      "Simulated mean = 0.009956, std = 0.014129\n",
      "Theoretical mean = 0.010000, std = 0.014107\n"
     ]
    }
   ],
   "source": [
    "r_active = sample[:, 0] - sample[:, 1]\n",
    "print(f'Simulated mean = {r_active.mean():.6f}, std = {r_active.std():.6f}')\n",
    "print(f'Theoretical mean = {0.01:.6f}, std = {0.01*np.sqrt((M-1)/N):.6f}')"
   ]
  },
  {
   "cell_type": "markdown",
   "metadata": {},
   "source": [
    "The simulated mean and standard deviation of $r-r_B$ are very close to the theoretical values, which comfirms the results from problem 1."
   ]
  },
  {
   "cell_type": "markdown",
   "metadata": {},
   "source": [
    "## (b)"
   ]
  },
  {
   "cell_type": "code",
   "execution_count": 105,
   "metadata": {},
   "outputs": [
    {
     "name": "stderr",
     "output_type": "stream",
     "text": [
      "100% (100000 of 100000) |#################| Elapsed Time: 0:00:29 Time: 0:00:29\n"
     ]
    }
   ],
   "source": [
    "N, M, runs = 100, 200, 100000\n",
    "sample = np.zeros((runs, 2))\n",
    "bar = ProgressBar()\n",
    "for i in bar(range(runs)):\n",
    "    uu = .01*np.random.choice([-1,1],(M, N))\n",
    "    u1 = uu[0,:]\n",
    "    L = (u1>0).sum()\n",
    "    weight_scale = 1/L if L>0 else 0\n",
    "    r = weight_scale*(u1>0)*(uu.sum(0))\n",
    "    rb = (1/N)*(uu.sum(0))\n",
    "    sample[i, :] = np.array([r.sum(), rb.sum()])"
   ]
  },
  {
   "cell_type": "code",
   "execution_count": 106,
   "metadata": {},
   "outputs": [
    {
     "name": "stdout",
     "output_type": "stream",
     "text": [
      "Simulated mean = 0.009940, std = 0.014216\n"
     ]
    }
   ],
   "source": [
    "r_active = sample[:, 0] - sample[:, 1]\n",
    "print(f'Simulated mean = {r_active.mean():.6f}, std = {r_active.std():.6f}')"
   ]
  }
 ],
 "metadata": {
  "kernelspec": {
   "display_name": "Python 3",
   "language": "python",
   "name": "python3"
  },
  "language_info": {
   "codemirror_mode": {
    "name": "ipython",
    "version": 3
   },
   "file_extension": ".py",
   "mimetype": "text/x-python",
   "name": "python",
   "nbconvert_exporter": "python",
   "pygments_lexer": "ipython3",
   "version": "3.6.4"
  }
 },
 "nbformat": 4,
 "nbformat_minor": 2
}
